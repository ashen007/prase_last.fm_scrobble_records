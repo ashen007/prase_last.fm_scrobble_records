{
 "cells": [
  {
   "cell_type": "code",
   "execution_count": 1,
   "metadata": {
    "collapsed": true
   },
   "outputs": [],
   "source": [
    "import phraser"
   ]
  },
  {
   "cell_type": "code",
   "execution_count": 2,
   "outputs": [
    {
     "name": "stdout",
     "output_type": "stream",
     "text": [
      "https://www.last.fm/user/ninalagadianou/library?page=1\n",
      "https://www.last.fm/user/ninalagadianou/library?page=2\n",
      "https://www.last.fm/user/ninalagadianou/library?page=3\n",
      "https://www.last.fm/user/ninalagadianou/library?page=4\n",
      "https://www.last.fm/user/ninalagadianou/library?page=5\n",
      "https://www.last.fm/user/ninalagadianou/library?page=6\n",
      "https://www.last.fm/user/ninalagadianou/library?page=7\n",
      "https://www.last.fm/user/ninalagadianou/library?page=8\n",
      "https://www.last.fm/user/ninalagadianou/library?page=9\n",
      "https://www.last.fm/user/ninalagadianou/library?page=10\n",
      "https://www.last.fm/user/ninalagadianou/library?page=11\n",
      "https://www.last.fm/user/ninalagadianou/library?page=12\n",
      "https://www.last.fm/user/ninalagadianou/library?page=13\n",
      "https://www.last.fm/user/ninalagadianou/library?page=14\n",
      "https://www.last.fm/user/ninalagadianou/library?page=15\n",
      "https://www.last.fm/user/ninalagadianou/library?page=16\n",
      "https://www.last.fm/user/ninalagadianou/library?page=17\n",
      "https://www.last.fm/user/ninalagadianou/library?page=18\n",
      "https://www.last.fm/user/ninalagadianou/library?page=19\n"
     ]
    }
   ],
   "source": [
    "ninalagadianou = phraser.pagePhrase('ninalagadianou')\n",
    "data = ninalagadianou.read_page()"
   ],
   "metadata": {
    "collapsed": false,
    "pycharm": {
     "name": "#%%\n"
    }
   }
  },
  {
   "cell_type": "code",
   "execution_count": 3,
   "outputs": [],
   "source": [
    "data = data.drop('index', axis=1)"
   ],
   "metadata": {
    "collapsed": false,
    "pycharm": {
     "name": "#%%\n"
    }
   }
  },
  {
   "cell_type": "code",
   "execution_count": 5,
   "outputs": [
    {
     "data": {
      "text/plain": "         Artist                    Album  \\\n0    The Weeknd                  Trilogy   \n1  Brent Faiyaz                     Lost   \n2           SZA                     Ctrl   \n3    The Weeknd     After Hours (Deluxe)   \n4       J. Cole  2014 Forest Hills Drive   \n5    The Weeknd                  Trilogy   \n\n                                      Track                       Time  \n0                              Twenty Eight  Monday 7 Dec 2020, 6:02am  \n1                                     Trust  Monday 7 Dec 2020, 5:59am  \n2  Doves in the Wind (feat. Kendrick Lamar)  Monday 7 Dec 2020, 5:20am  \n3               Final Lullaby - Bonus Track  Monday 7 Dec 2020, 4:38am  \n4                                Wet Dreamz  Monday 7 Dec 2020, 4:34am  \n5                              Twenty Eight  Monday 7 Dec 2020, 4:30am  ",
      "text/html": "<div>\n<style scoped>\n    .dataframe tbody tr th:only-of-type {\n        vertical-align: middle;\n    }\n\n    .dataframe tbody tr th {\n        vertical-align: top;\n    }\n\n    .dataframe thead th {\n        text-align: right;\n    }\n</style>\n<table border=\"1\" class=\"dataframe\">\n  <thead>\n    <tr style=\"text-align: right;\">\n      <th></th>\n      <th>Artist</th>\n      <th>Album</th>\n      <th>Track</th>\n      <th>Time</th>\n    </tr>\n  </thead>\n  <tbody>\n    <tr>\n      <th>0</th>\n      <td>The Weeknd</td>\n      <td>Trilogy</td>\n      <td>Twenty Eight</td>\n      <td>Monday 7 Dec 2020, 6:02am</td>\n    </tr>\n    <tr>\n      <th>1</th>\n      <td>Brent Faiyaz</td>\n      <td>Lost</td>\n      <td>Trust</td>\n      <td>Monday 7 Dec 2020, 5:59am</td>\n    </tr>\n    <tr>\n      <th>2</th>\n      <td>SZA</td>\n      <td>Ctrl</td>\n      <td>Doves in the Wind (feat. Kendrick Lamar)</td>\n      <td>Monday 7 Dec 2020, 5:20am</td>\n    </tr>\n    <tr>\n      <th>3</th>\n      <td>The Weeknd</td>\n      <td>After Hours (Deluxe)</td>\n      <td>Final Lullaby - Bonus Track</td>\n      <td>Monday 7 Dec 2020, 4:38am</td>\n    </tr>\n    <tr>\n      <th>4</th>\n      <td>J. Cole</td>\n      <td>2014 Forest Hills Drive</td>\n      <td>Wet Dreamz</td>\n      <td>Monday 7 Dec 2020, 4:34am</td>\n    </tr>\n    <tr>\n      <th>5</th>\n      <td>The Weeknd</td>\n      <td>Trilogy</td>\n      <td>Twenty Eight</td>\n      <td>Monday 7 Dec 2020, 4:30am</td>\n    </tr>\n  </tbody>\n</table>\n</div>"
     },
     "execution_count": 5,
     "metadata": {},
     "output_type": "execute_result"
    }
   ],
   "source": [
    "data.head(6)"
   ],
   "metadata": {
    "collapsed": false,
    "pycharm": {
     "name": "#%%\n"
    }
   }
  },
  {
   "cell_type": "code",
   "execution_count": 6,
   "outputs": [
    {
     "data": {
      "text/plain": "             Artist                 Album                       Track  \\\n927  Kendrick Lamar                 DAMN.                        YAH.   \n928           Drake             More Life              Do Not Disturb   \n929      The Weeknd           After Hours             Blinding Lights   \n930      The Weeknd           After Hours                       Faith   \n931      The Weeknd           After Hours                    Too Late   \n932     Post Malone  beerbongs & bentleys  rockstar (feat. 21 Savage)   \n\n                              Time  \n927   Saturday 21 Nov 2020, 3:03am  \n928   Saturday 21 Nov 2020, 2:56am  \n929   Saturday 21 Nov 2020, 2:25am  \n930   Saturday 21 Nov 2020, 2:22am  \n931  Saturday 21 Nov 2020, 12:59am  \n932     Friday 20 Nov 2020, 7:28pm  ",
      "text/html": "<div>\n<style scoped>\n    .dataframe tbody tr th:only-of-type {\n        vertical-align: middle;\n    }\n\n    .dataframe tbody tr th {\n        vertical-align: top;\n    }\n\n    .dataframe thead th {\n        text-align: right;\n    }\n</style>\n<table border=\"1\" class=\"dataframe\">\n  <thead>\n    <tr style=\"text-align: right;\">\n      <th></th>\n      <th>Artist</th>\n      <th>Album</th>\n      <th>Track</th>\n      <th>Time</th>\n    </tr>\n  </thead>\n  <tbody>\n    <tr>\n      <th>927</th>\n      <td>Kendrick Lamar</td>\n      <td>DAMN.</td>\n      <td>YAH.</td>\n      <td>Saturday 21 Nov 2020, 3:03am</td>\n    </tr>\n    <tr>\n      <th>928</th>\n      <td>Drake</td>\n      <td>More Life</td>\n      <td>Do Not Disturb</td>\n      <td>Saturday 21 Nov 2020, 2:56am</td>\n    </tr>\n    <tr>\n      <th>929</th>\n      <td>The Weeknd</td>\n      <td>After Hours</td>\n      <td>Blinding Lights</td>\n      <td>Saturday 21 Nov 2020, 2:25am</td>\n    </tr>\n    <tr>\n      <th>930</th>\n      <td>The Weeknd</td>\n      <td>After Hours</td>\n      <td>Faith</td>\n      <td>Saturday 21 Nov 2020, 2:22am</td>\n    </tr>\n    <tr>\n      <th>931</th>\n      <td>The Weeknd</td>\n      <td>After Hours</td>\n      <td>Too Late</td>\n      <td>Saturday 21 Nov 2020, 12:59am</td>\n    </tr>\n    <tr>\n      <th>932</th>\n      <td>Post Malone</td>\n      <td>beerbongs &amp; bentleys</td>\n      <td>rockstar (feat. 21 Savage)</td>\n      <td>Friday 20 Nov 2020, 7:28pm</td>\n    </tr>\n  </tbody>\n</table>\n</div>"
     },
     "execution_count": 6,
     "metadata": {},
     "output_type": "execute_result"
    }
   ],
   "source": [
    "data.tail(6)"
   ],
   "metadata": {
    "collapsed": false,
    "pycharm": {
     "name": "#%%\n"
    }
   }
  },
  {
   "cell_type": "code",
   "execution_count": null,
   "outputs": [],
   "source": [],
   "metadata": {
    "collapsed": false,
    "pycharm": {
     "name": "#%%\n"
    }
   }
  }
 ],
 "metadata": {
  "kernelspec": {
   "display_name": "Python 3",
   "language": "python",
   "name": "python3"
  },
  "language_info": {
   "codemirror_mode": {
    "name": "ipython",
    "version": 2
   },
   "file_extension": ".py",
   "mimetype": "text/x-python",
   "name": "python",
   "nbconvert_exporter": "python",
   "pygments_lexer": "ipython2",
   "version": "2.7.6"
  }
 },
 "nbformat": 4,
 "nbformat_minor": 0
}