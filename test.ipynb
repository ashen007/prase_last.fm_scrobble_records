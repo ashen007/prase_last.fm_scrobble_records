{
 "cells": [
  {
   "cell_type": "code",
   "execution_count": 1,
   "metadata": {
    "collapsed": true
   },
   "outputs": [],
   "source": [
    "import json\n",
    "import phraser\n",
    "import pandas as pd\n",
    "import requests as r\n",
    "from sys import getsizeof\n",
    "from bs4 import BeautifulSoup as bs\n",
    "from urllib import request as req"
   ]
  },
  {
   "cell_type": "code",
   "execution_count": 2,
   "outputs": [],
   "source": [
    "ashen077 = phraser.pagePhrase('ashen077')"
   ],
   "metadata": {
    "collapsed": false,
    "pycharm": {
     "name": "#%%\n"
    }
   }
  },
  {
   "cell_type": "code",
   "execution_count": 3,
   "outputs": [],
   "source": [
    "ashen077.read_page()"
   ],
   "metadata": {
    "collapsed": false,
    "pycharm": {
     "name": "#%%\n"
    }
   }
  },
  {
   "cell_type": "code",
   "execution_count": 4,
   "outputs": [],
   "source": [
    "# link = ashen077.page_count()"
   ],
   "metadata": {
    "collapsed": false,
    "pycharm": {
     "name": "#%%\n"
    }
   }
  },
  {
   "cell_type": "code",
   "execution_count": 5,
   "outputs": [],
   "source": [
    "# li_list = [[a.getText() for a in li.find_all('a')] for li in link.find_all('li')\n",
    "# if li['class'][0]=='pagination-page']"
   ],
   "metadata": {
    "collapsed": false,
    "pycharm": {
     "name": "#%%\n"
    }
   }
  },
  {
   "cell_type": "code",
   "execution_count": 6,
   "outputs": [],
   "source": [
    "# pagecount = int(li_list[-1][0])\n",
    "# pagecount"
   ],
   "metadata": {
    "collapsed": false,
    "pycharm": {
     "name": "#%%\n"
    }
   }
  },
  {
   "cell_type": "code",
   "execution_count": 3,
   "outputs": [],
   "source": [
    "charts = ashen077.track_lists('https://www.last.fm/user/ashen077/library?page=1')"
   ],
   "metadata": {
    "collapsed": false,
    "pycharm": {
     "name": "#%%\n"
    }
   }
  },
  {
   "cell_type": "code",
   "execution_count": 5,
   "outputs": [],
   "source": [
    "rows = [[tr for tr in sec.find_all('tr')] for sec in charts]"
   ],
   "metadata": {
    "collapsed": false,
    "pycharm": {
     "name": "#%%\n"
    }
   }
  },
  {
   "cell_type": "code",
   "execution_count": 6,
   "outputs": [
    {
     "data": {
      "text/plain": "2"
     },
     "execution_count": 6,
     "metadata": {},
     "output_type": "execute_result"
    }
   ],
   "source": [
    "len(charts)"
   ],
   "metadata": {
    "collapsed": false,
    "pycharm": {
     "name": "#%%\n"
    }
   }
  },
  {
   "cell_type": "code",
   "execution_count": 7,
   "outputs": [
    {
     "ename": "TypeError",
     "evalue": "unsupported operand type(s) for +: 'Tag' and 'Tag'",
     "output_type": "error",
     "traceback": [
      "\u001B[1;31m---------------------------------------------------------------------------\u001B[0m",
      "\u001B[1;31mTypeError\u001B[0m                                 Traceback (most recent call last)",
      "\u001B[1;32m<ipython-input-7-52581acea765>\u001B[0m in \u001B[0;36m<module>\u001B[1;34m\u001B[0m\n\u001B[1;32m----> 1\u001B[1;33m \u001B[0mtr\u001B[0m \u001B[1;33m=\u001B[0m \u001B[0mcharts\u001B[0m\u001B[1;33m[\u001B[0m\u001B[1;36m0\u001B[0m\u001B[1;33m]\u001B[0m \u001B[1;33m+\u001B[0m \u001B[0mcharts\u001B[0m\u001B[1;33m[\u001B[0m\u001B[1;36m1\u001B[0m\u001B[1;33m]\u001B[0m\u001B[1;33m\u001B[0m\u001B[1;33m\u001B[0m\u001B[0m\n\u001B[0m",
      "\u001B[1;31mTypeError\u001B[0m: unsupported operand type(s) for +: 'Tag' and 'Tag'"
     ]
    }
   ],
   "source": [
    "tr = charts[0].find_all('tr') + charts[1].find_all('tr')"
   ],
   "metadata": {
    "collapsed": false,
    "pycharm": {
     "name": "#%%\n"
    }
   }
  },
  {
   "cell_type": "code",
   "execution_count": null,
   "outputs": [],
   "source": [
    "len(tr)"
   ],
   "metadata": {
    "collapsed": false,
    "pycharm": {
     "name": "#%%\n"
    }
   }
  },
  {
   "cell_type": "code",
   "execution_count": 15,
   "outputs": [
    {
     "data": {
      "text/plain": "5"
     },
     "execution_count": 15,
     "metadata": {},
     "output_type": "execute_result"
    }
   ],
   "source": [
    "len(charts[0])"
   ],
   "metadata": {
    "collapsed": false,
    "pycharm": {
     "name": "#%%\n"
    }
   }
  },
  {
   "cell_type": "code",
   "execution_count": 8,
   "outputs": [],
   "source": [
    "tr = []\n",
    "for sec in charts:\n",
    "    tr += sec.find_all('tr')"
   ],
   "metadata": {
    "collapsed": false,
    "pycharm": {
     "name": "#%%\n"
    }
   }
  },
  {
   "cell_type": "code",
   "execution_count": 9,
   "outputs": [
    {
     "data": {
      "text/plain": "52"
     },
     "execution_count": 9,
     "metadata": {},
     "output_type": "execute_result"
    }
   ],
   "source": [
    "len(tr)"
   ],
   "metadata": {
    "collapsed": false,
    "pycharm": {
     "name": "#%%\n"
    }
   }
  },
  {
   "cell_type": "code",
   "execution_count": 16,
   "outputs": [
    {
     "name": "stdout",
     "output_type": "stream",
     "text": [
      "ok\n",
      "ok\n",
      "ok\n",
      "ok\n",
      "ok\n",
      "ok\n",
      "ok\n",
      "ok\n",
      "ok\n",
      "ok\n",
      "ok\n",
      "ok\n",
      "ok\n",
      "ok\n",
      "ok\n",
      "ok\n",
      "ok\n",
      "ok\n",
      "ok\n",
      "ok\n",
      "ok\n",
      "ok\n",
      "ok\n",
      "ok\n",
      "ok\n",
      "ok\n",
      "ok\n",
      "ok\n",
      "ok\n",
      "ok\n",
      "ok\n",
      "ok\n",
      "ok\n",
      "ok\n",
      "ok\n",
      "ok\n",
      "ok\n",
      "ok\n",
      "ok\n",
      "ok\n",
      "ok\n",
      "ok\n",
      "ok\n",
      "ok\n",
      "ok\n",
      "ok\n",
      "ok\n",
      "ok\n",
      "ok\n",
      "ok\n"
     ]
    },
    {
     "data": {
      "text/plain": "52"
     },
     "execution_count": 16,
     "metadata": {},
     "output_type": "execute_result"
    }
   ],
   "source": [
    "for trs in tr:\n",
    "    if trs.has_attr('class'):\n",
    "        print('ok')\n",
    "    else:\n",
    "        del trs\n",
    "    # print(type(trs), type(tr))\n",
    "\n",
    "len(tr)"
   ],
   "metadata": {
    "collapsed": false,
    "pycharm": {
     "name": "#%%\n"
    }
   }
  },
  {
   "cell_type": "code",
   "execution_count": 12,
   "outputs": [
    {
     "data": {
      "text/plain": "<tr>\n<th>Play</th>\n<th>\n                        \n                            Album\n                        \n                    </th>\n<th>Loved</th>\n<th>\n                    \n                    \n                        Track name\n                    \n                </th>\n<th>Artist name </th>\n<th>Buy</th>\n<th>Options</th>\n<th>Timestamp</th>\n</tr>"
     },
     "execution_count": 12,
     "metadata": {},
     "output_type": "execute_result"
    }
   ],
   "source": [
    "tr[0]"
   ],
   "metadata": {
    "collapsed": false,
    "pycharm": {
     "name": "#%%\n"
    }
   }
  },
  {
   "cell_type": "code",
   "execution_count": 8,
   "outputs": [
    {
     "name": "stdout",
     "output_type": "stream",
     "text": [
      "<tr class=\"chartlist-row chartlist-row--with-artist chartlist-row--with-buylinks js-focus-controls-container\" data-ajax-form-state=\"\" data-edit-scrobble-id=\"82b83cc8b4e5a16105471202af632904\" data-playlist-row=\"\" data-scrobble-row=\"\">\n",
      " <td class=\"chartlist-play\">\n",
      "  <a class=\"chartlist-play-button js-playlink\" data-analytics-action=\"PlayTrackOnPage\" data-analytics-label=\"youtube\" data-artist-name=\"Tame Impala\" data-artist-url=\"/music/Tame+Impala\" data-playlink-affiliate=\"youtube\" data-track-name=\"Instant Destiny\" data-track-url=\"/music/Tame+Impala/_/Instant+Destiny\" data-youtube-id=\"hWtY1t_8Y_M\" data-youtube-url=\"https://www.youtube.com/watch?v=hWtY1t_8Y_M\" href=\"https://www.youtube.com/watch?v=hWtY1t_8Y_M\" target=\"_blank\" title=\"Play on YouTube\">\n",
      "   Play track\n",
      "  </a>\n",
      " </td>\n",
      " <td class=\"chartlist-image\">\n",
      "  <a class=\"cover-art\" href=\"/music/Tame+Impala/The+Slow+Rush\">\n",
      "   <img alt=\"The Slow Rush\" loading=\"lazy\" src=\"https://lastfm.freetls.fastly.net/i/u/64s/832ade6a35ec2a224ea9a5be326b5de4.jpg\"/>\n",
      "  </a>\n",
      " </td>\n",
      " <td class=\"chartlist-loved\">\n",
      "  <div data-toggle-button=\"\" data-toggle-button-current-state=\"unloved\" data-toggle-button-group-id=\"168db06e1573d13d61f9bff18d69759b\" data-toggle-button-states=\"[{&quot;name&quot;: &quot;unloved&quot;, &quot;button_text&quot;: &quot;ashen077 doesn't love this track&quot;, &quot;url&quot;: null, &quot;action&quot;: &quot;love&quot;, &quot;analytics_action&quot;: &quot;LoveTrack&quot;, &quot;event&quot;: &quot;track.love&quot;}, {&quot;name&quot;: &quot;loved&quot;, &quot;button_text&quot;: &quot;ashen077 loves this track&quot;, &quot;url&quot;: null, &quot;action&quot;: &quot;unlove&quot;, &quot;analytics_action&quot;: &quot;UnloveTrack&quot;, &quot;event&quot;: &quot;track.unlove&quot;}]\">\n",
      "   <span class=\"toggle-button chartlist-love-button\">\n",
      "    ashen077 doesn't love this track\n",
      "   </span>\n",
      "  </div>\n",
      " </td>\n",
      " <td class=\"chartlist-name\" data-toggle-button=\"\" data-toggle-button-current-state=\"unloved\" data-toggle-button-group-id=\"168db06e1573d13d61f9bff18d69759b\">\n",
      "  <a class=\"\" href=\"/music/Tame+Impala/_/Instant+Destiny\" title=\"Instant Destiny\">\n",
      "   Instant Destiny\n",
      "  </a>\n",
      " </td>\n",
      " <td class=\"chartlist-artist\">\n",
      "  <a href=\"/music/Tame+Impala\" title=\"Tame Impala\">\n",
      "   Tame Impala\n",
      "  </a>\n",
      " </td>\n",
      " <td class=\"chartlist-buylinks focus-control\">\n",
      "  <div class=\"lazy-buylinks\">\n",
      "   <button aria-controls=\"buylinks-ed39b0f0-2e4b-45d8-85f6-4f466e0c5cc1\" aria-expanded=\"false\" class=\"disclose-trigger lazy-buylinks-toggle\" data-disclose-lazy-buylinks=\"\" data-dropdown-layout-at=\"center bottom+3\" data-lazy-buylink-url=\"/music/Tame+Impala/_/Instant+Destiny/+partial/buylinks\">\n",
      "    Buy\n",
      "   </button>\n",
      "   <ul class=\"disclose-hide dropdown-menu-clickable buylinks-dropdown-menu\" id=\"buylinks-ed39b0f0-2e4b-45d8-85f6-4f466e0c5cc1\">\n",
      "    <li aria-live=\"polite\" class=\"menu-loading\" data-lazy-buylinks-loading=\"\">\n",
      "     Loading\n",
      "    </li>\n",
      "   </ul>\n",
      "  </div>\n",
      " </td>\n",
      " <td class=\"chartlist-more focus-control\">\n",
      "  <div>\n",
      "   <button aria-controls=\"chartlist-more-ff4d8066-1e3d-4707-b5e0-afb9ab546b01\" aria-expanded=\"false\" class=\"disclose-trigger chartlist-more-button\" data-disclose-lazy-buylinks=\"\" data-dropdown-layout-at=\"center bottom+3\" data-lazy-buylink-url=\"/music/Tame+Impala/_/Instant+Destiny/+partial/buylinks\">\n",
      "    More\n",
      "   </button>\n",
      "   <ul class=\"disclose-hide disclose-hide--js-only dropdown-menu-clickable chartlist-more-menu\" id=\"chartlist-more-ff4d8066-1e3d-4707-b5e0-afb9ab546b01\">\n",
      "    <li>\n",
      "     <a class=\"dropdown-menu-clickable-item more-item--track\" href=\"/music/Tame+Impala/_/Instant+Destiny\">\n",
      "      Go to track\n",
      "     </a>\n",
      "    </li>\n",
      "    <li>\n",
      "     <a class=\"dropdown-menu-clickable-item more-item--track\" href=\"/user/ashen077/library/music/Tame+Impala/_/Instant+Destiny\">\n",
      "      Go to track in library\n",
      "     </a>\n",
      "    </li>\n",
      "    <li>\n",
      "     <a class=\"dropdown-menu-clickable-item more-item--artist\" href=\"/music/Tame+Impala\">\n",
      "      Go to artist\n",
      "     </a>\n",
      "    </li>\n",
      "    <li>\n",
      "     <a class=\"dropdown-menu-clickable-item more-item--artist\" href=\"/user/ashen077/library/music/Tame+Impala\">\n",
      "      Go to artist in library\n",
      "     </a>\n",
      "    </li>\n",
      "    <li>\n",
      "     <a class=\"mimic-link dropdown-menu-clickable-item more-item--obsession\" data-open-modal=\"/join/modal?action=set-obsession&amp;back_to=%2Fuser%2Fashen077%2Flibrary\" href=\"https://secure.last.fm/login?next=/user/ashen077/library\">\n",
      "      Set track as current obsession\n",
      "     </a>\n",
      "    </li>\n",
      "    <li class=\"visible-xs\">\n",
      "     <span class=\"menu-title\">\n",
      "      Get track\n",
      "     </span>\n",
      "     <ul class=\"buylinks-dropdown-menu\">\n",
      "      <li aria-live=\"polite\" class=\"menu-loading\" data-lazy-buylinks-loading=\"\">\n",
      "       Loading\n",
      "      </li>\n",
      "     </ul>\n",
      "    </li>\n",
      "   </ul>\n",
      "  </div>\n",
      " </td>\n",
      " <td class=\"chartlist-timestamp chartlist-timestamp--lang-en\">\n",
      "  <span title=\"Sunday 6 Dec 2020, 8:49am\">\n",
      "   11 hours ago\n",
      "  </span>\n",
      " </td>\n",
      "</tr>\n",
      "\n"
     ]
    }
   ],
   "source": [
    "print(charts[0].prettify())"
   ],
   "metadata": {
    "collapsed": false,
    "pycharm": {
     "name": "#%%\n"
    }
   }
  },
  {
   "cell_type": "code",
   "execution_count": 9,
   "outputs": [],
   "source": [
    "tds = [[td for td in tr.find_all('td')] for tr in charts]"
   ],
   "metadata": {
    "collapsed": false,
    "pycharm": {
     "name": "#%%\n"
    }
   }
  },
  {
   "cell_type": "code",
   "execution_count": 12,
   "outputs": [
    {
     "data": {
      "text/plain": "(50, 8)"
     },
     "execution_count": 12,
     "metadata": {},
     "output_type": "execute_result"
    }
   ],
   "source": [
    "len(tds), len(tds[0])"
   ],
   "metadata": {
    "collapsed": false,
    "pycharm": {
     "name": "#%%\n"
    }
   }
  },
  {
   "cell_type": "code",
   "execution_count": 16,
   "outputs": [],
   "source": [
    "df = pd.DataFrame(tds)"
   ],
   "metadata": {
    "collapsed": false,
    "pycharm": {
     "name": "#%%\n"
    }
   }
  },
  {
   "cell_type": "code",
   "execution_count": 17,
   "outputs": [
    {
     "data": {
      "text/plain": "                                                   0                       1  \\\n0  [\\n, [\\n                \\n                    ...  [\\n, [\\n, [], \\n], \\n]   \n1  [\\n, [\\n                \\n                    ...  [\\n, [\\n, [], \\n], \\n]   \n2  [\\n, [\\n                \\n                    ...  [\\n, [\\n, [], \\n], \\n]   \n3  [\\n, [\\n                \\n                    ...  [\\n, [\\n, [], \\n], \\n]   \n4                                               [\\n]  [\\n, [\\n, [], \\n], \\n]   \n5                                               [\\n]  [\\n, [\\n, [], \\n], \\n]   \n\n                                                   2  \\\n0  [\\n, [\\n, [\\n                ashen077 doesn't ...   \n1  [\\n, [\\n, [\\n                ashen077 doesn't ...   \n2  [\\n, [\\n, [\\n                ashen077 doesn't ...   \n3  [\\n, [\\n, [\\n                ashen077 doesn't ...   \n4  [\\n, [\\n, [\\n                ashen077 doesn't ...   \n5  [\\n, [\\n, [\\n                ashen077 doesn't ...   \n\n                                                   3  \\\n0                        [\\n, [Instant Destiny], \\n]   \n1                          [\\n, [One More Year], \\n]   \n2                          [\\n, [Warm December], \\n]   \n3                [\\n, [Short Red Silk Lingerie], \\n]   \n4  [\\n, [Have Yourself A Merry Little Christmas],...   \n5                            [\\n, [Winter Time], \\n]   \n\n                                          4  \\\n0                   [\\n, [Tame Impala], \\n]   \n1                   [\\n, [Tame Impala], \\n]   \n2               [\\n, [Sabrina Claudio], \\n]   \n3               [\\n, [Sabrina Claudio], \\n]   \n4               [\\n, [Sabrina Claudio], \\n]   \n5  [\\n, [Sabrina Claudio, Alicia Keys], \\n]   \n\n                                                   5  \\\n0  [\\n, [\\n, [Buy], \\n, [\\n, <li aria-live=\"polit...   \n1  [\\n, [\\n, [Buy], \\n, [\\n, <li aria-live=\"polit...   \n2  [\\n, [\\n, [Buy], \\n, [\\n, <li aria-live=\"polit...   \n3  [\\n, [\\n, [Buy], \\n, [\\n, <li aria-live=\"polit...   \n4  [\\n, [\\n, [Buy], \\n, [\\n, <li aria-live=\"polit...   \n5  [\\n, [\\n, [Buy], \\n, [\\n, <li aria-live=\"polit...   \n\n                                                   6  \\\n0  [\\n, [\\n, [More], \\n, [\\n, <li>\\n<a class=\"dro...   \n1  [\\n, [\\n, [More], \\n, [\\n, <li>\\n<a class=\"dro...   \n2  [\\n, [\\n, [More], \\n, [\\n, <li>\\n<a class=\"dro...   \n3  [\\n, [\\n, [More], \\n, [\\n, <li>\\n<a class=\"dro...   \n4  [\\n, [\\n, [More], \\n, [\\n, <li>\\n<a class=\"dro...   \n5  [\\n, [\\n, [More], \\n, [\\n, <li>\\n<a class=\"dro...   \n\n                                                   7  \n0  [\\n, [\\n                        11 hours ago\\n...  \n1  [\\n, [\\n                        11 hours ago\\n...  \n2  [\\n, [\\n                        23 hours ago\\n...  \n3  [\\n, [\\n                        23 hours ago\\n...  \n4  [\\n, [\\n                        23 hours ago\\n...  \n5  [\\n, [\\n                        23 hours ago\\n...  ",
      "text/html": "<div>\n<style scoped>\n    .dataframe tbody tr th:only-of-type {\n        vertical-align: middle;\n    }\n\n    .dataframe tbody tr th {\n        vertical-align: top;\n    }\n\n    .dataframe thead th {\n        text-align: right;\n    }\n</style>\n<table border=\"1\" class=\"dataframe\">\n  <thead>\n    <tr style=\"text-align: right;\">\n      <th></th>\n      <th>0</th>\n      <th>1</th>\n      <th>2</th>\n      <th>3</th>\n      <th>4</th>\n      <th>5</th>\n      <th>6</th>\n      <th>7</th>\n    </tr>\n  </thead>\n  <tbody>\n    <tr>\n      <th>0</th>\n      <td>[\\n, [\\n                \\n                    ...</td>\n      <td>[\\n, [\\n, [], \\n], \\n]</td>\n      <td>[\\n, [\\n, [\\n                ashen077 doesn't ...</td>\n      <td>[\\n, [Instant Destiny], \\n]</td>\n      <td>[\\n, [Tame Impala], \\n]</td>\n      <td>[\\n, [\\n, [Buy], \\n, [\\n, &lt;li aria-live=\"polit...</td>\n      <td>[\\n, [\\n, [More], \\n, [\\n, &lt;li&gt;\\n&lt;a class=\"dro...</td>\n      <td>[\\n, [\\n                        11 hours ago\\n...</td>\n    </tr>\n    <tr>\n      <th>1</th>\n      <td>[\\n, [\\n                \\n                    ...</td>\n      <td>[\\n, [\\n, [], \\n], \\n]</td>\n      <td>[\\n, [\\n, [\\n                ashen077 doesn't ...</td>\n      <td>[\\n, [One More Year], \\n]</td>\n      <td>[\\n, [Tame Impala], \\n]</td>\n      <td>[\\n, [\\n, [Buy], \\n, [\\n, &lt;li aria-live=\"polit...</td>\n      <td>[\\n, [\\n, [More], \\n, [\\n, &lt;li&gt;\\n&lt;a class=\"dro...</td>\n      <td>[\\n, [\\n                        11 hours ago\\n...</td>\n    </tr>\n    <tr>\n      <th>2</th>\n      <td>[\\n, [\\n                \\n                    ...</td>\n      <td>[\\n, [\\n, [], \\n], \\n]</td>\n      <td>[\\n, [\\n, [\\n                ashen077 doesn't ...</td>\n      <td>[\\n, [Warm December], \\n]</td>\n      <td>[\\n, [Sabrina Claudio], \\n]</td>\n      <td>[\\n, [\\n, [Buy], \\n, [\\n, &lt;li aria-live=\"polit...</td>\n      <td>[\\n, [\\n, [More], \\n, [\\n, &lt;li&gt;\\n&lt;a class=\"dro...</td>\n      <td>[\\n, [\\n                        23 hours ago\\n...</td>\n    </tr>\n    <tr>\n      <th>3</th>\n      <td>[\\n, [\\n                \\n                    ...</td>\n      <td>[\\n, [\\n, [], \\n], \\n]</td>\n      <td>[\\n, [\\n, [\\n                ashen077 doesn't ...</td>\n      <td>[\\n, [Short Red Silk Lingerie], \\n]</td>\n      <td>[\\n, [Sabrina Claudio], \\n]</td>\n      <td>[\\n, [\\n, [Buy], \\n, [\\n, &lt;li aria-live=\"polit...</td>\n      <td>[\\n, [\\n, [More], \\n, [\\n, &lt;li&gt;\\n&lt;a class=\"dro...</td>\n      <td>[\\n, [\\n                        23 hours ago\\n...</td>\n    </tr>\n    <tr>\n      <th>4</th>\n      <td>[\\n]</td>\n      <td>[\\n, [\\n, [], \\n], \\n]</td>\n      <td>[\\n, [\\n, [\\n                ashen077 doesn't ...</td>\n      <td>[\\n, [Have Yourself A Merry Little Christmas],...</td>\n      <td>[\\n, [Sabrina Claudio], \\n]</td>\n      <td>[\\n, [\\n, [Buy], \\n, [\\n, &lt;li aria-live=\"polit...</td>\n      <td>[\\n, [\\n, [More], \\n, [\\n, &lt;li&gt;\\n&lt;a class=\"dro...</td>\n      <td>[\\n, [\\n                        23 hours ago\\n...</td>\n    </tr>\n    <tr>\n      <th>5</th>\n      <td>[\\n]</td>\n      <td>[\\n, [\\n, [], \\n], \\n]</td>\n      <td>[\\n, [\\n, [\\n                ashen077 doesn't ...</td>\n      <td>[\\n, [Winter Time], \\n]</td>\n      <td>[\\n, [Sabrina Claudio, Alicia Keys], \\n]</td>\n      <td>[\\n, [\\n, [Buy], \\n, [\\n, &lt;li aria-live=\"polit...</td>\n      <td>[\\n, [\\n, [More], \\n, [\\n, &lt;li&gt;\\n&lt;a class=\"dro...</td>\n      <td>[\\n, [\\n                        23 hours ago\\n...</td>\n    </tr>\n  </tbody>\n</table>\n</div>"
     },
     "execution_count": 17,
     "metadata": {},
     "output_type": "execute_result"
    }
   ],
   "source": [
    "df.head(6)"
   ],
   "metadata": {
    "collapsed": false,
    "pycharm": {
     "name": "#%%\n"
    }
   }
  },
  {
   "cell_type": "code",
   "execution_count": 19,
   "outputs": [
    {
     "name": "stdout",
     "output_type": "stream",
     "text": [
      "<td class=\"chartlist-play\">\n",
      "<a class=\"chartlist-play-button js-playlink\" data-analytics-action=\"PlayTrackOnPage\" data-analytics-label=\"youtube\" data-artist-name=\"Tame Impala\" data-artist-url=\"/music/Tame+Impala\" data-playlink-affiliate=\"youtube\" data-track-name=\"Instant Destiny\" data-track-url=\"/music/Tame+Impala/_/Instant+Destiny\" data-youtube-id=\"hWtY1t_8Y_M\" data-youtube-url=\"https://www.youtube.com/watch?v=hWtY1t_8Y_M\" href=\"https://www.youtube.com/watch?v=hWtY1t_8Y_M\" target=\"_blank\" title=\"Play on YouTube\">\n",
      "                \n",
      "                    Play track\n",
      "                \n",
      "            </a>\n",
      "</td>\n"
     ]
    }
   ],
   "source": [
    "print(df[0].iloc[0])"
   ],
   "metadata": {
    "collapsed": false,
    "pycharm": {
     "name": "#%%\n"
    }
   }
  },
  {
   "cell_type": "code",
   "execution_count": 20,
   "outputs": [
    {
     "name": "stdout",
     "output_type": "stream",
     "text": [
      "<td class=\"chartlist-image\">\n",
      "<a class=\"cover-art\" href=\"/music/Tame+Impala/The+Slow+Rush\">\n",
      "<img alt=\"The Slow Rush\" loading=\"lazy\" src=\"https://lastfm.freetls.fastly.net/i/u/64s/832ade6a35ec2a224ea9a5be326b5de4.jpg\"/>\n",
      "</a>\n",
      "</td>\n"
     ]
    }
   ],
   "source": [
    "print(df[1].iloc[0])"
   ],
   "metadata": {
    "collapsed": false,
    "pycharm": {
     "name": "#%%\n"
    }
   }
  },
  {
   "cell_type": "code",
   "execution_count": 21,
   "outputs": [
    {
     "name": "stdout",
     "output_type": "stream",
     "text": [
      "<td class=\"chartlist-loved\">\n",
      "<div data-toggle-button=\"\" data-toggle-button-current-state=\"unloved\" data-toggle-button-group-id=\"168db06e1573d13d61f9bff18d69759b\" data-toggle-button-states=\"[{&quot;name&quot;: &quot;unloved&quot;, &quot;button_text&quot;: &quot;ashen077 doesn't love this track&quot;, &quot;url&quot;: null, &quot;action&quot;: &quot;love&quot;, &quot;analytics_action&quot;: &quot;LoveTrack&quot;, &quot;event&quot;: &quot;track.love&quot;}, {&quot;name&quot;: &quot;loved&quot;, &quot;button_text&quot;: &quot;ashen077 loves this track&quot;, &quot;url&quot;: null, &quot;action&quot;: &quot;unlove&quot;, &quot;analytics_action&quot;: &quot;UnloveTrack&quot;, &quot;event&quot;: &quot;track.unlove&quot;}]\">\n",
      "<span class=\"toggle-button chartlist-love-button\">\n",
      "                ashen077 doesn't love this track\n",
      "            </span>\n",
      "</div>\n",
      "</td>\n"
     ]
    }
   ],
   "source": [
    "print(df[2].iloc[0])"
   ],
   "metadata": {
    "collapsed": false,
    "pycharm": {
     "name": "#%%\n"
    }
   }
  },
  {
   "cell_type": "code",
   "execution_count": 22,
   "outputs": [
    {
     "name": "stdout",
     "output_type": "stream",
     "text": [
      "<td class=\"chartlist-name\" data-toggle-button=\"\" data-toggle-button-current-state=\"unloved\" data-toggle-button-group-id=\"168db06e1573d13d61f9bff18d69759b\">\n",
      "<a class=\"\" href=\"/music/Tame+Impala/_/Instant+Destiny\" title=\"Instant Destiny\">Instant Destiny</a>\n",
      "</td>\n"
     ]
    }
   ],
   "source": [
    "print(df[3].iloc[0])"
   ],
   "metadata": {
    "collapsed": false,
    "pycharm": {
     "name": "#%%\n"
    }
   }
  },
  {
   "cell_type": "code",
   "execution_count": 23,
   "outputs": [
    {
     "name": "stdout",
     "output_type": "stream",
     "text": [
      "<td class=\"chartlist-artist\">\n",
      "<a href=\"/music/Tame+Impala\" title=\"Tame Impala\">Tame Impala</a>\n",
      "</td>\n"
     ]
    }
   ],
   "source": [
    "print(df[4].iloc[0])"
   ],
   "metadata": {
    "collapsed": false,
    "pycharm": {
     "name": "#%%\n"
    }
   }
  },
  {
   "cell_type": "code",
   "execution_count": 24,
   "outputs": [
    {
     "name": "stdout",
     "output_type": "stream",
     "text": [
      "<td class=\"chartlist-buylinks focus-control\">\n",
      "<div class=\"lazy-buylinks\">\n",
      "<button aria-controls=\"buylinks-ed39b0f0-2e4b-45d8-85f6-4f466e0c5cc1\" aria-expanded=\"false\" class=\"disclose-trigger lazy-buylinks-toggle\" data-disclose-lazy-buylinks=\"\" data-dropdown-layout-at=\"center bottom+3\" data-lazy-buylink-url=\"/music/Tame+Impala/_/Instant+Destiny/+partial/buylinks\">Buy</button>\n",
      "<ul class=\"disclose-hide dropdown-menu-clickable buylinks-dropdown-menu\" id=\"buylinks-ed39b0f0-2e4b-45d8-85f6-4f466e0c5cc1\">\n",
      "<li aria-live=\"polite\" class=\"menu-loading\" data-lazy-buylinks-loading=\"\">Loading</li>\n",
      "</ul>\n",
      "</div>\n",
      "</td>\n"
     ]
    }
   ],
   "source": [
    "print(df[5].iloc[0])"
   ],
   "metadata": {
    "collapsed": false,
    "pycharm": {
     "name": "#%%\n"
    }
   }
  },
  {
   "cell_type": "code",
   "execution_count": 25,
   "outputs": [
    {
     "name": "stdout",
     "output_type": "stream",
     "text": [
      "<td class=\"chartlist-more focus-control\">\n",
      "<div>\n",
      "<button aria-controls=\"chartlist-more-ff4d8066-1e3d-4707-b5e0-afb9ab546b01\" aria-expanded=\"false\" class=\"disclose-trigger chartlist-more-button\" data-disclose-lazy-buylinks=\"\" data-dropdown-layout-at=\"center bottom+3\" data-lazy-buylink-url=\"/music/Tame+Impala/_/Instant+Destiny/+partial/buylinks\">More</button>\n",
      "<ul class=\"disclose-hide disclose-hide--js-only dropdown-menu-clickable chartlist-more-menu\" id=\"chartlist-more-ff4d8066-1e3d-4707-b5e0-afb9ab546b01\">\n",
      "<li>\n",
      "<a class=\"dropdown-menu-clickable-item more-item--track\" href=\"/music/Tame+Impala/_/Instant+Destiny\">\n",
      "            \n",
      "                \n",
      "                    Go to track\n",
      "                \n",
      "            \n",
      "        </a>\n",
      "</li>\n",
      "<li>\n",
      "<a class=\"dropdown-menu-clickable-item more-item--track\" href=\"/user/ashen077/library/music/Tame+Impala/_/Instant+Destiny\">\n",
      "            \n",
      "                \n",
      "                    Go to track in library\n",
      "                \n",
      "            \n",
      "        </a>\n",
      "</li>\n",
      "<li>\n",
      "<a class=\"dropdown-menu-clickable-item more-item--artist\" href=\"/music/Tame+Impala\">\n",
      "            \n",
      "                \n",
      "                    Go to artist\n",
      "                \n",
      "            \n",
      "        </a>\n",
      "</li>\n",
      "<li>\n",
      "<a class=\"dropdown-menu-clickable-item more-item--artist\" href=\"/user/ashen077/library/music/Tame+Impala\">\n",
      "            \n",
      "                \n",
      "                    Go to artist in library\n",
      "                \n",
      "            \n",
      "        </a>\n",
      "</li>\n",
      "<li>\n",
      "<a class=\"mimic-link dropdown-menu-clickable-item more-item--obsession\" data-open-modal=\"/join/modal?action=set-obsession&amp;back_to=%2Fuser%2Fashen077%2Flibrary\" href=\"https://secure.last.fm/login?next=/user/ashen077/library\">\n",
      "            Set track as current obsession\n",
      "        </a>\n",
      "</li>\n",
      "<li class=\"visible-xs\">\n",
      "<span class=\"menu-title\">\n",
      "                                \n",
      "                                    Get track\n",
      "                                \n",
      "                            </span>\n",
      "<ul class=\"buylinks-dropdown-menu\">\n",
      "<li aria-live=\"polite\" class=\"menu-loading\" data-lazy-buylinks-loading=\"\">Loading</li>\n",
      "</ul>\n",
      "</li>\n",
      "</ul>\n",
      "</div>\n",
      "</td>\n"
     ]
    }
   ],
   "source": [
    "print(df[6].iloc[0])"
   ],
   "metadata": {
    "collapsed": false,
    "pycharm": {
     "name": "#%%\n"
    }
   }
  },
  {
   "cell_type": "code",
   "execution_count": 26,
   "outputs": [
    {
     "name": "stdout",
     "output_type": "stream",
     "text": [
      "<td class=\"chartlist-timestamp chartlist-timestamp--lang-en\">\n",
      "<span title=\"Sunday 6 Dec 2020, 8:49am\">\n",
      "                        11 hours ago\n",
      "                    </span>\n",
      "</td>\n"
     ]
    }
   ],
   "source": [
    "print(df[7].iloc[0])"
   ],
   "metadata": {
    "collapsed": false,
    "pycharm": {
     "name": "#%%\n"
    }
   }
  },
  {
   "cell_type": "code",
   "execution_count": 27,
   "outputs": [],
   "source": [
    "df = df.drop([0, 2, 5, 6], axis=1)"
   ],
   "metadata": {
    "collapsed": false,
    "pycharm": {
     "name": "#%%\n"
    }
   }
  },
  {
   "cell_type": "code",
   "execution_count": 28,
   "outputs": [
    {
     "data": {
      "text/plain": "                        1                                                  3  \\\n0  [\\n, [\\n, [], \\n], \\n]                        [\\n, [Instant Destiny], \\n]   \n1  [\\n, [\\n, [], \\n], \\n]                          [\\n, [One More Year], \\n]   \n2  [\\n, [\\n, [], \\n], \\n]                          [\\n, [Warm December], \\n]   \n3  [\\n, [\\n, [], \\n], \\n]                [\\n, [Short Red Silk Lingerie], \\n]   \n4  [\\n, [\\n, [], \\n], \\n]  [\\n, [Have Yourself A Merry Little Christmas],...   \n5  [\\n, [\\n, [], \\n], \\n]                            [\\n, [Winter Time], \\n]   \n\n                                          4  \\\n0                   [\\n, [Tame Impala], \\n]   \n1                   [\\n, [Tame Impala], \\n]   \n2               [\\n, [Sabrina Claudio], \\n]   \n3               [\\n, [Sabrina Claudio], \\n]   \n4               [\\n, [Sabrina Claudio], \\n]   \n5  [\\n, [Sabrina Claudio, Alicia Keys], \\n]   \n\n                                                   7  \n0  [\\n, [\\n                        11 hours ago\\n...  \n1  [\\n, [\\n                        11 hours ago\\n...  \n2  [\\n, [\\n                        23 hours ago\\n...  \n3  [\\n, [\\n                        23 hours ago\\n...  \n4  [\\n, [\\n                        23 hours ago\\n...  \n5  [\\n, [\\n                        23 hours ago\\n...  ",
      "text/html": "<div>\n<style scoped>\n    .dataframe tbody tr th:only-of-type {\n        vertical-align: middle;\n    }\n\n    .dataframe tbody tr th {\n        vertical-align: top;\n    }\n\n    .dataframe thead th {\n        text-align: right;\n    }\n</style>\n<table border=\"1\" class=\"dataframe\">\n  <thead>\n    <tr style=\"text-align: right;\">\n      <th></th>\n      <th>1</th>\n      <th>3</th>\n      <th>4</th>\n      <th>7</th>\n    </tr>\n  </thead>\n  <tbody>\n    <tr>\n      <th>0</th>\n      <td>[\\n, [\\n, [], \\n], \\n]</td>\n      <td>[\\n, [Instant Destiny], \\n]</td>\n      <td>[\\n, [Tame Impala], \\n]</td>\n      <td>[\\n, [\\n                        11 hours ago\\n...</td>\n    </tr>\n    <tr>\n      <th>1</th>\n      <td>[\\n, [\\n, [], \\n], \\n]</td>\n      <td>[\\n, [One More Year], \\n]</td>\n      <td>[\\n, [Tame Impala], \\n]</td>\n      <td>[\\n, [\\n                        11 hours ago\\n...</td>\n    </tr>\n    <tr>\n      <th>2</th>\n      <td>[\\n, [\\n, [], \\n], \\n]</td>\n      <td>[\\n, [Warm December], \\n]</td>\n      <td>[\\n, [Sabrina Claudio], \\n]</td>\n      <td>[\\n, [\\n                        23 hours ago\\n...</td>\n    </tr>\n    <tr>\n      <th>3</th>\n      <td>[\\n, [\\n, [], \\n], \\n]</td>\n      <td>[\\n, [Short Red Silk Lingerie], \\n]</td>\n      <td>[\\n, [Sabrina Claudio], \\n]</td>\n      <td>[\\n, [\\n                        23 hours ago\\n...</td>\n    </tr>\n    <tr>\n      <th>4</th>\n      <td>[\\n, [\\n, [], \\n], \\n]</td>\n      <td>[\\n, [Have Yourself A Merry Little Christmas],...</td>\n      <td>[\\n, [Sabrina Claudio], \\n]</td>\n      <td>[\\n, [\\n                        23 hours ago\\n...</td>\n    </tr>\n    <tr>\n      <th>5</th>\n      <td>[\\n, [\\n, [], \\n], \\n]</td>\n      <td>[\\n, [Winter Time], \\n]</td>\n      <td>[\\n, [Sabrina Claudio, Alicia Keys], \\n]</td>\n      <td>[\\n, [\\n                        23 hours ago\\n...</td>\n    </tr>\n  </tbody>\n</table>\n</div>"
     },
     "execution_count": 28,
     "metadata": {},
     "output_type": "execute_result"
    }
   ],
   "source": [
    "df.head(6)"
   ],
   "metadata": {
    "collapsed": false,
    "pycharm": {
     "name": "#%%\n"
    }
   }
  },
  {
   "cell_type": "code",
   "execution_count": 32,
   "outputs": [
    {
     "data": {
      "text/plain": "'The Slow Rush'"
     },
     "execution_count": 32,
     "metadata": {},
     "output_type": "execute_result"
    }
   ],
   "source": [
    "df[1].iloc[0].img['alt']"
   ],
   "metadata": {
    "collapsed": false,
    "pycharm": {
     "name": "#%%\n"
    }
   }
  },
  {
   "cell_type": "code",
   "execution_count": 33,
   "outputs": [],
   "source": [
    "df['Album'] = df[1].apply(lambda x: x.img['alt'])"
   ],
   "metadata": {
    "collapsed": false,
    "pycharm": {
     "name": "#%%\n"
    }
   }
  },
  {
   "cell_type": "code",
   "execution_count": 34,
   "outputs": [
    {
     "data": {
      "text/plain": "                        1                                                  3  \\\n0  [\\n, [\\n, [], \\n], \\n]                        [\\n, [Instant Destiny], \\n]   \n1  [\\n, [\\n, [], \\n], \\n]                          [\\n, [One More Year], \\n]   \n2  [\\n, [\\n, [], \\n], \\n]                          [\\n, [Warm December], \\n]   \n3  [\\n, [\\n, [], \\n], \\n]                [\\n, [Short Red Silk Lingerie], \\n]   \n4  [\\n, [\\n, [], \\n], \\n]  [\\n, [Have Yourself A Merry Little Christmas],...   \n5  [\\n, [\\n, [], \\n], \\n]                            [\\n, [Winter Time], \\n]   \n\n                                          4  \\\n0                   [\\n, [Tame Impala], \\n]   \n1                   [\\n, [Tame Impala], \\n]   \n2               [\\n, [Sabrina Claudio], \\n]   \n3               [\\n, [Sabrina Claudio], \\n]   \n4               [\\n, [Sabrina Claudio], \\n]   \n5  [\\n, [Sabrina Claudio, Alicia Keys], \\n]   \n\n                                                   7            Album  \n0  [\\n, [\\n                        11 hours ago\\n...    The Slow Rush  \n1  [\\n, [\\n                        11 hours ago\\n...    The Slow Rush  \n2  [\\n, [\\n                        23 hours ago\\n...  Christmas Blues  \n3  [\\n, [\\n                        23 hours ago\\n...  Christmas Blues  \n4  [\\n, [\\n                        23 hours ago\\n...  Christmas Blues  \n5  [\\n, [\\n                        23 hours ago\\n...  Christmas Blues  ",
      "text/html": "<div>\n<style scoped>\n    .dataframe tbody tr th:only-of-type {\n        vertical-align: middle;\n    }\n\n    .dataframe tbody tr th {\n        vertical-align: top;\n    }\n\n    .dataframe thead th {\n        text-align: right;\n    }\n</style>\n<table border=\"1\" class=\"dataframe\">\n  <thead>\n    <tr style=\"text-align: right;\">\n      <th></th>\n      <th>1</th>\n      <th>3</th>\n      <th>4</th>\n      <th>7</th>\n      <th>Album</th>\n    </tr>\n  </thead>\n  <tbody>\n    <tr>\n      <th>0</th>\n      <td>[\\n, [\\n, [], \\n], \\n]</td>\n      <td>[\\n, [Instant Destiny], \\n]</td>\n      <td>[\\n, [Tame Impala], \\n]</td>\n      <td>[\\n, [\\n                        11 hours ago\\n...</td>\n      <td>The Slow Rush</td>\n    </tr>\n    <tr>\n      <th>1</th>\n      <td>[\\n, [\\n, [], \\n], \\n]</td>\n      <td>[\\n, [One More Year], \\n]</td>\n      <td>[\\n, [Tame Impala], \\n]</td>\n      <td>[\\n, [\\n                        11 hours ago\\n...</td>\n      <td>The Slow Rush</td>\n    </tr>\n    <tr>\n      <th>2</th>\n      <td>[\\n, [\\n, [], \\n], \\n]</td>\n      <td>[\\n, [Warm December], \\n]</td>\n      <td>[\\n, [Sabrina Claudio], \\n]</td>\n      <td>[\\n, [\\n                        23 hours ago\\n...</td>\n      <td>Christmas Blues</td>\n    </tr>\n    <tr>\n      <th>3</th>\n      <td>[\\n, [\\n, [], \\n], \\n]</td>\n      <td>[\\n, [Short Red Silk Lingerie], \\n]</td>\n      <td>[\\n, [Sabrina Claudio], \\n]</td>\n      <td>[\\n, [\\n                        23 hours ago\\n...</td>\n      <td>Christmas Blues</td>\n    </tr>\n    <tr>\n      <th>4</th>\n      <td>[\\n, [\\n, [], \\n], \\n]</td>\n      <td>[\\n, [Have Yourself A Merry Little Christmas],...</td>\n      <td>[\\n, [Sabrina Claudio], \\n]</td>\n      <td>[\\n, [\\n                        23 hours ago\\n...</td>\n      <td>Christmas Blues</td>\n    </tr>\n    <tr>\n      <th>5</th>\n      <td>[\\n, [\\n, [], \\n], \\n]</td>\n      <td>[\\n, [Winter Time], \\n]</td>\n      <td>[\\n, [Sabrina Claudio, Alicia Keys], \\n]</td>\n      <td>[\\n, [\\n                        23 hours ago\\n...</td>\n      <td>Christmas Blues</td>\n    </tr>\n  </tbody>\n</table>\n</div>"
     },
     "execution_count": 34,
     "metadata": {},
     "output_type": "execute_result"
    }
   ],
   "source": [
    "df.head(6)"
   ],
   "metadata": {
    "collapsed": false,
    "pycharm": {
     "name": "#%%\n"
    }
   }
  },
  {
   "cell_type": "code",
   "execution_count": 36,
   "outputs": [
    {
     "data": {
      "text/plain": "                        1                                                  3  \\\n0  [\\n, [\\n, [], \\n], \\n]                        [\\n, [Instant Destiny], \\n]   \n1  [\\n, [\\n, [], \\n], \\n]                          [\\n, [One More Year], \\n]   \n2  [\\n, [\\n, [], \\n], \\n]                          [\\n, [Warm December], \\n]   \n3  [\\n, [\\n, [], \\n], \\n]                [\\n, [Short Red Silk Lingerie], \\n]   \n4  [\\n, [\\n, [], \\n], \\n]  [\\n, [Have Yourself A Merry Little Christmas],...   \n5  [\\n, [\\n, [], \\n], \\n]                            [\\n, [Winter Time], \\n]   \n\n                                          4  \\\n0                   [\\n, [Tame Impala], \\n]   \n1                   [\\n, [Tame Impala], \\n]   \n2               [\\n, [Sabrina Claudio], \\n]   \n3               [\\n, [Sabrina Claudio], \\n]   \n4               [\\n, [Sabrina Claudio], \\n]   \n5  [\\n, [Sabrina Claudio, Alicia Keys], \\n]   \n\n                                                   7            Album  \\\n0  [\\n, [\\n                        11 hours ago\\n...    The Slow Rush   \n1  [\\n, [\\n                        11 hours ago\\n...    The Slow Rush   \n2  [\\n, [\\n                        23 hours ago\\n...  Christmas Blues   \n3  [\\n, [\\n                        23 hours ago\\n...  Christmas Blues   \n4  [\\n, [\\n                        23 hours ago\\n...  Christmas Blues   \n5  [\\n, [\\n                        23 hours ago\\n...  Christmas Blues   \n\n                          Time  \n0    Sunday 6 Dec 2020, 8:49am  \n1    Sunday 6 Dec 2020, 8:46am  \n2  Saturday 5 Dec 2020, 9:12pm  \n3  Saturday 5 Dec 2020, 9:09pm  \n4  Saturday 5 Dec 2020, 9:05pm  \n5  Saturday 5 Dec 2020, 9:01pm  ",
      "text/html": "<div>\n<style scoped>\n    .dataframe tbody tr th:only-of-type {\n        vertical-align: middle;\n    }\n\n    .dataframe tbody tr th {\n        vertical-align: top;\n    }\n\n    .dataframe thead th {\n        text-align: right;\n    }\n</style>\n<table border=\"1\" class=\"dataframe\">\n  <thead>\n    <tr style=\"text-align: right;\">\n      <th></th>\n      <th>1</th>\n      <th>3</th>\n      <th>4</th>\n      <th>7</th>\n      <th>Album</th>\n      <th>Time</th>\n    </tr>\n  </thead>\n  <tbody>\n    <tr>\n      <th>0</th>\n      <td>[\\n, [\\n, [], \\n], \\n]</td>\n      <td>[\\n, [Instant Destiny], \\n]</td>\n      <td>[\\n, [Tame Impala], \\n]</td>\n      <td>[\\n, [\\n                        11 hours ago\\n...</td>\n      <td>The Slow Rush</td>\n      <td>Sunday 6 Dec 2020, 8:49am</td>\n    </tr>\n    <tr>\n      <th>1</th>\n      <td>[\\n, [\\n, [], \\n], \\n]</td>\n      <td>[\\n, [One More Year], \\n]</td>\n      <td>[\\n, [Tame Impala], \\n]</td>\n      <td>[\\n, [\\n                        11 hours ago\\n...</td>\n      <td>The Slow Rush</td>\n      <td>Sunday 6 Dec 2020, 8:46am</td>\n    </tr>\n    <tr>\n      <th>2</th>\n      <td>[\\n, [\\n, [], \\n], \\n]</td>\n      <td>[\\n, [Warm December], \\n]</td>\n      <td>[\\n, [Sabrina Claudio], \\n]</td>\n      <td>[\\n, [\\n                        23 hours ago\\n...</td>\n      <td>Christmas Blues</td>\n      <td>Saturday 5 Dec 2020, 9:12pm</td>\n    </tr>\n    <tr>\n      <th>3</th>\n      <td>[\\n, [\\n, [], \\n], \\n]</td>\n      <td>[\\n, [Short Red Silk Lingerie], \\n]</td>\n      <td>[\\n, [Sabrina Claudio], \\n]</td>\n      <td>[\\n, [\\n                        23 hours ago\\n...</td>\n      <td>Christmas Blues</td>\n      <td>Saturday 5 Dec 2020, 9:09pm</td>\n    </tr>\n    <tr>\n      <th>4</th>\n      <td>[\\n, [\\n, [], \\n], \\n]</td>\n      <td>[\\n, [Have Yourself A Merry Little Christmas],...</td>\n      <td>[\\n, [Sabrina Claudio], \\n]</td>\n      <td>[\\n, [\\n                        23 hours ago\\n...</td>\n      <td>Christmas Blues</td>\n      <td>Saturday 5 Dec 2020, 9:05pm</td>\n    </tr>\n    <tr>\n      <th>5</th>\n      <td>[\\n, [\\n, [], \\n], \\n]</td>\n      <td>[\\n, [Winter Time], \\n]</td>\n      <td>[\\n, [Sabrina Claudio, Alicia Keys], \\n]</td>\n      <td>[\\n, [\\n                        23 hours ago\\n...</td>\n      <td>Christmas Blues</td>\n      <td>Saturday 5 Dec 2020, 9:01pm</td>\n    </tr>\n  </tbody>\n</table>\n</div>"
     },
     "execution_count": 36,
     "metadata": {},
     "output_type": "execute_result"
    }
   ],
   "source": [
    "df['Time'] = df[7].apply(lambda x: x.span['title'])\n",
    "df.head(6)"
   ],
   "metadata": {
    "collapsed": false,
    "pycharm": {
     "name": "#%%\n"
    }
   }
  },
  {
   "cell_type": "code",
   "execution_count": 37,
   "outputs": [],
   "source": [
    "df['Track'] = df[3].apply(lambda x: x.a.getText())"
   ],
   "metadata": {
    "collapsed": false,
    "pycharm": {
     "name": "#%%\n"
    }
   }
  },
  {
   "cell_type": "code",
   "execution_count": 38,
   "outputs": [
    {
     "data": {
      "text/plain": "                        1                                                  3  \\\n0  [\\n, [\\n, [], \\n], \\n]                        [\\n, [Instant Destiny], \\n]   \n1  [\\n, [\\n, [], \\n], \\n]                          [\\n, [One More Year], \\n]   \n2  [\\n, [\\n, [], \\n], \\n]                          [\\n, [Warm December], \\n]   \n3  [\\n, [\\n, [], \\n], \\n]                [\\n, [Short Red Silk Lingerie], \\n]   \n4  [\\n, [\\n, [], \\n], \\n]  [\\n, [Have Yourself A Merry Little Christmas],...   \n5  [\\n, [\\n, [], \\n], \\n]                            [\\n, [Winter Time], \\n]   \n\n                                          4  \\\n0                   [\\n, [Tame Impala], \\n]   \n1                   [\\n, [Tame Impala], \\n]   \n2               [\\n, [Sabrina Claudio], \\n]   \n3               [\\n, [Sabrina Claudio], \\n]   \n4               [\\n, [Sabrina Claudio], \\n]   \n5  [\\n, [Sabrina Claudio, Alicia Keys], \\n]   \n\n                                                   7            Album  \\\n0  [\\n, [\\n                        11 hours ago\\n...    The Slow Rush   \n1  [\\n, [\\n                        11 hours ago\\n...    The Slow Rush   \n2  [\\n, [\\n                        23 hours ago\\n...  Christmas Blues   \n3  [\\n, [\\n                        23 hours ago\\n...  Christmas Blues   \n4  [\\n, [\\n                        23 hours ago\\n...  Christmas Blues   \n5  [\\n, [\\n                        23 hours ago\\n...  Christmas Blues   \n\n                          Time                                   Track  \n0    Sunday 6 Dec 2020, 8:49am                         Instant Destiny  \n1    Sunday 6 Dec 2020, 8:46am                           One More Year  \n2  Saturday 5 Dec 2020, 9:12pm                           Warm December  \n3  Saturday 5 Dec 2020, 9:09pm                 Short Red Silk Lingerie  \n4  Saturday 5 Dec 2020, 9:05pm  Have Yourself A Merry Little Christmas  \n5  Saturday 5 Dec 2020, 9:01pm                             Winter Time  ",
      "text/html": "<div>\n<style scoped>\n    .dataframe tbody tr th:only-of-type {\n        vertical-align: middle;\n    }\n\n    .dataframe tbody tr th {\n        vertical-align: top;\n    }\n\n    .dataframe thead th {\n        text-align: right;\n    }\n</style>\n<table border=\"1\" class=\"dataframe\">\n  <thead>\n    <tr style=\"text-align: right;\">\n      <th></th>\n      <th>1</th>\n      <th>3</th>\n      <th>4</th>\n      <th>7</th>\n      <th>Album</th>\n      <th>Time</th>\n      <th>Track</th>\n    </tr>\n  </thead>\n  <tbody>\n    <tr>\n      <th>0</th>\n      <td>[\\n, [\\n, [], \\n], \\n]</td>\n      <td>[\\n, [Instant Destiny], \\n]</td>\n      <td>[\\n, [Tame Impala], \\n]</td>\n      <td>[\\n, [\\n                        11 hours ago\\n...</td>\n      <td>The Slow Rush</td>\n      <td>Sunday 6 Dec 2020, 8:49am</td>\n      <td>Instant Destiny</td>\n    </tr>\n    <tr>\n      <th>1</th>\n      <td>[\\n, [\\n, [], \\n], \\n]</td>\n      <td>[\\n, [One More Year], \\n]</td>\n      <td>[\\n, [Tame Impala], \\n]</td>\n      <td>[\\n, [\\n                        11 hours ago\\n...</td>\n      <td>The Slow Rush</td>\n      <td>Sunday 6 Dec 2020, 8:46am</td>\n      <td>One More Year</td>\n    </tr>\n    <tr>\n      <th>2</th>\n      <td>[\\n, [\\n, [], \\n], \\n]</td>\n      <td>[\\n, [Warm December], \\n]</td>\n      <td>[\\n, [Sabrina Claudio], \\n]</td>\n      <td>[\\n, [\\n                        23 hours ago\\n...</td>\n      <td>Christmas Blues</td>\n      <td>Saturday 5 Dec 2020, 9:12pm</td>\n      <td>Warm December</td>\n    </tr>\n    <tr>\n      <th>3</th>\n      <td>[\\n, [\\n, [], \\n], \\n]</td>\n      <td>[\\n, [Short Red Silk Lingerie], \\n]</td>\n      <td>[\\n, [Sabrina Claudio], \\n]</td>\n      <td>[\\n, [\\n                        23 hours ago\\n...</td>\n      <td>Christmas Blues</td>\n      <td>Saturday 5 Dec 2020, 9:09pm</td>\n      <td>Short Red Silk Lingerie</td>\n    </tr>\n    <tr>\n      <th>4</th>\n      <td>[\\n, [\\n, [], \\n], \\n]</td>\n      <td>[\\n, [Have Yourself A Merry Little Christmas],...</td>\n      <td>[\\n, [Sabrina Claudio], \\n]</td>\n      <td>[\\n, [\\n                        23 hours ago\\n...</td>\n      <td>Christmas Blues</td>\n      <td>Saturday 5 Dec 2020, 9:05pm</td>\n      <td>Have Yourself A Merry Little Christmas</td>\n    </tr>\n    <tr>\n      <th>5</th>\n      <td>[\\n, [\\n, [], \\n], \\n]</td>\n      <td>[\\n, [Winter Time], \\n]</td>\n      <td>[\\n, [Sabrina Claudio, Alicia Keys], \\n]</td>\n      <td>[\\n, [\\n                        23 hours ago\\n...</td>\n      <td>Christmas Blues</td>\n      <td>Saturday 5 Dec 2020, 9:01pm</td>\n      <td>Winter Time</td>\n    </tr>\n  </tbody>\n</table>\n</div>"
     },
     "execution_count": 38,
     "metadata": {},
     "output_type": "execute_result"
    }
   ],
   "source": [
    "df.head(6)"
   ],
   "metadata": {
    "collapsed": false,
    "pycharm": {
     "name": "#%%\n"
    }
   }
  },
  {
   "cell_type": "code",
   "execution_count": 40,
   "outputs": [
    {
     "data": {
      "text/plain": "             Album                         Time  \\\n0    The Slow Rush    Sunday 6 Dec 2020, 8:49am   \n1    The Slow Rush    Sunday 6 Dec 2020, 8:46am   \n2  Christmas Blues  Saturday 5 Dec 2020, 9:12pm   \n3  Christmas Blues  Saturday 5 Dec 2020, 9:09pm   \n4  Christmas Blues  Saturday 5 Dec 2020, 9:05pm   \n5  Christmas Blues  Saturday 5 Dec 2020, 9:01pm   \n\n                                    Track                        Artist  \n0                         Instant Destiny                   Tame Impala  \n1                           One More Year                   Tame Impala  \n2                           Warm December               Sabrina Claudio  \n3                 Short Red Silk Lingerie               Sabrina Claudio  \n4  Have Yourself A Merry Little Christmas               Sabrina Claudio  \n5                             Winter Time  Sabrina Claudio, Alicia Keys  ",
      "text/html": "<div>\n<style scoped>\n    .dataframe tbody tr th:only-of-type {\n        vertical-align: middle;\n    }\n\n    .dataframe tbody tr th {\n        vertical-align: top;\n    }\n\n    .dataframe thead th {\n        text-align: right;\n    }\n</style>\n<table border=\"1\" class=\"dataframe\">\n  <thead>\n    <tr style=\"text-align: right;\">\n      <th></th>\n      <th>Album</th>\n      <th>Time</th>\n      <th>Track</th>\n      <th>Artist</th>\n    </tr>\n  </thead>\n  <tbody>\n    <tr>\n      <th>0</th>\n      <td>The Slow Rush</td>\n      <td>Sunday 6 Dec 2020, 8:49am</td>\n      <td>Instant Destiny</td>\n      <td>Tame Impala</td>\n    </tr>\n    <tr>\n      <th>1</th>\n      <td>The Slow Rush</td>\n      <td>Sunday 6 Dec 2020, 8:46am</td>\n      <td>One More Year</td>\n      <td>Tame Impala</td>\n    </tr>\n    <tr>\n      <th>2</th>\n      <td>Christmas Blues</td>\n      <td>Saturday 5 Dec 2020, 9:12pm</td>\n      <td>Warm December</td>\n      <td>Sabrina Claudio</td>\n    </tr>\n    <tr>\n      <th>3</th>\n      <td>Christmas Blues</td>\n      <td>Saturday 5 Dec 2020, 9:09pm</td>\n      <td>Short Red Silk Lingerie</td>\n      <td>Sabrina Claudio</td>\n    </tr>\n    <tr>\n      <th>4</th>\n      <td>Christmas Blues</td>\n      <td>Saturday 5 Dec 2020, 9:05pm</td>\n      <td>Have Yourself A Merry Little Christmas</td>\n      <td>Sabrina Claudio</td>\n    </tr>\n    <tr>\n      <th>5</th>\n      <td>Christmas Blues</td>\n      <td>Saturday 5 Dec 2020, 9:01pm</td>\n      <td>Winter Time</td>\n      <td>Sabrina Claudio, Alicia Keys</td>\n    </tr>\n  </tbody>\n</table>\n</div>"
     },
     "execution_count": 40,
     "metadata": {},
     "output_type": "execute_result"
    }
   ],
   "source": [
    "df['Artist'] = df[4].apply(lambda x: x.a.getText())\n",
    "df = df.drop([1,3,4,7], axis=1)\n",
    "df.head(6)"
   ],
   "metadata": {
    "collapsed": false,
    "pycharm": {
     "name": "#%%\n"
    }
   }
  },
  {
   "cell_type": "code",
   "execution_count": 4,
   "outputs": [
    {
     "data": {
      "text/plain": "        Artist Album            Track                        Time\n0  Tove Styrke  Sway       On a Level  Sunday 6 Dec 2020, 11:38am\n1  Tove Styrke  Sway           I Lied  Sunday 6 Dec 2020, 11:34am\n2  Tove Styrke  Sway  Changed My Mind  Sunday 6 Dec 2020, 11:31am\n3  Tove Styrke  Sway         Mistakes  Sunday 6 Dec 2020, 11:28am\n4  Tove Styrke  Sway       On The Low  Sunday 6 Dec 2020, 11:25am\n5  Tove Styrke  Sway      Say My Name  Sunday 6 Dec 2020, 11:21am",
      "text/html": "<div>\n<style scoped>\n    .dataframe tbody tr th:only-of-type {\n        vertical-align: middle;\n    }\n\n    .dataframe tbody tr th {\n        vertical-align: top;\n    }\n\n    .dataframe thead th {\n        text-align: right;\n    }\n</style>\n<table border=\"1\" class=\"dataframe\">\n  <thead>\n    <tr style=\"text-align: right;\">\n      <th></th>\n      <th>Artist</th>\n      <th>Album</th>\n      <th>Track</th>\n      <th>Time</th>\n    </tr>\n  </thead>\n  <tbody>\n    <tr>\n      <th>0</th>\n      <td>Tove Styrke</td>\n      <td>Sway</td>\n      <td>On a Level</td>\n      <td>Sunday 6 Dec 2020, 11:38am</td>\n    </tr>\n    <tr>\n      <th>1</th>\n      <td>Tove Styrke</td>\n      <td>Sway</td>\n      <td>I Lied</td>\n      <td>Sunday 6 Dec 2020, 11:34am</td>\n    </tr>\n    <tr>\n      <th>2</th>\n      <td>Tove Styrke</td>\n      <td>Sway</td>\n      <td>Changed My Mind</td>\n      <td>Sunday 6 Dec 2020, 11:31am</td>\n    </tr>\n    <tr>\n      <th>3</th>\n      <td>Tove Styrke</td>\n      <td>Sway</td>\n      <td>Mistakes</td>\n      <td>Sunday 6 Dec 2020, 11:28am</td>\n    </tr>\n    <tr>\n      <th>4</th>\n      <td>Tove Styrke</td>\n      <td>Sway</td>\n      <td>On The Low</td>\n      <td>Sunday 6 Dec 2020, 11:25am</td>\n    </tr>\n    <tr>\n      <th>5</th>\n      <td>Tove Styrke</td>\n      <td>Sway</td>\n      <td>Say My Name</td>\n      <td>Sunday 6 Dec 2020, 11:21am</td>\n    </tr>\n  </tbody>\n</table>\n</div>"
     },
     "execution_count": 4,
     "metadata": {},
     "output_type": "execute_result"
    }
   ],
   "source": [
    "df = ashen077.extract_data(charts)\n",
    "df.head(6)"
   ],
   "metadata": {
    "collapsed": false,
    "pycharm": {
     "name": "#%%\n"
    }
   }
  },
  {
   "cell_type": "code",
   "execution_count": 5,
   "outputs": [],
   "source": [
    "df_s1 = df.head(6)\n",
    "df_s2 = df.tail(6)"
   ],
   "metadata": {
    "collapsed": false,
    "pycharm": {
     "name": "#%%\n"
    }
   }
  },
  {
   "cell_type": "code",
   "execution_count": 7,
   "outputs": [
    {
     "data": {
      "text/plain": "    index           Artist                Album               Track  \\\n0       0      Tove Styrke                 Sway          On a Level   \n1       1      Tove Styrke                 Sway              I Lied   \n2       2      Tove Styrke                 Sway     Changed My Mind   \n3       3      Tove Styrke                 Sway            Mistakes   \n4       4      Tove Styrke                 Sway          On The Low   \n5       5      Tove Styrke                 Sway         Say My Name   \n6      44  Sabrina Claudio  No Rain, No Flowers            Creation   \n7      45  Sabrina Claudio  No Rain, No Flowers               Cycle   \n8      46  Sabrina Claudio  No Rain, No Flowers               Naked   \n9      47  Sabrina Claudio  No Rain, No Flowers           Come Here   \n10     48  Sabrina Claudio     Confidently Lost  Tell Me (Acoustic)   \n11     49  Sabrina Claudio     Confidently Lost             I Don't   \n\n                           Time  \n0    Sunday 6 Dec 2020, 11:38am  \n1    Sunday 6 Dec 2020, 11:34am  \n2    Sunday 6 Dec 2020, 11:31am  \n3    Sunday 6 Dec 2020, 11:28am  \n4    Sunday 6 Dec 2020, 11:25am  \n5    Sunday 6 Dec 2020, 11:21am  \n6   Saturday 5 Dec 2020, 7:50pm  \n7   Saturday 5 Dec 2020, 7:47pm  \n8   Saturday 5 Dec 2020, 7:43pm  \n9   Saturday 5 Dec 2020, 7:40pm  \n10  Saturday 5 Dec 2020, 7:36pm  \n11  Saturday 5 Dec 2020, 7:32pm  ",
      "text/html": "<div>\n<style scoped>\n    .dataframe tbody tr th:only-of-type {\n        vertical-align: middle;\n    }\n\n    .dataframe tbody tr th {\n        vertical-align: top;\n    }\n\n    .dataframe thead th {\n        text-align: right;\n    }\n</style>\n<table border=\"1\" class=\"dataframe\">\n  <thead>\n    <tr style=\"text-align: right;\">\n      <th></th>\n      <th>index</th>\n      <th>Artist</th>\n      <th>Album</th>\n      <th>Track</th>\n      <th>Time</th>\n    </tr>\n  </thead>\n  <tbody>\n    <tr>\n      <th>0</th>\n      <td>0</td>\n      <td>Tove Styrke</td>\n      <td>Sway</td>\n      <td>On a Level</td>\n      <td>Sunday 6 Dec 2020, 11:38am</td>\n    </tr>\n    <tr>\n      <th>1</th>\n      <td>1</td>\n      <td>Tove Styrke</td>\n      <td>Sway</td>\n      <td>I Lied</td>\n      <td>Sunday 6 Dec 2020, 11:34am</td>\n    </tr>\n    <tr>\n      <th>2</th>\n      <td>2</td>\n      <td>Tove Styrke</td>\n      <td>Sway</td>\n      <td>Changed My Mind</td>\n      <td>Sunday 6 Dec 2020, 11:31am</td>\n    </tr>\n    <tr>\n      <th>3</th>\n      <td>3</td>\n      <td>Tove Styrke</td>\n      <td>Sway</td>\n      <td>Mistakes</td>\n      <td>Sunday 6 Dec 2020, 11:28am</td>\n    </tr>\n    <tr>\n      <th>4</th>\n      <td>4</td>\n      <td>Tove Styrke</td>\n      <td>Sway</td>\n      <td>On The Low</td>\n      <td>Sunday 6 Dec 2020, 11:25am</td>\n    </tr>\n    <tr>\n      <th>5</th>\n      <td>5</td>\n      <td>Tove Styrke</td>\n      <td>Sway</td>\n      <td>Say My Name</td>\n      <td>Sunday 6 Dec 2020, 11:21am</td>\n    </tr>\n    <tr>\n      <th>6</th>\n      <td>44</td>\n      <td>Sabrina Claudio</td>\n      <td>No Rain, No Flowers</td>\n      <td>Creation</td>\n      <td>Saturday 5 Dec 2020, 7:50pm</td>\n    </tr>\n    <tr>\n      <th>7</th>\n      <td>45</td>\n      <td>Sabrina Claudio</td>\n      <td>No Rain, No Flowers</td>\n      <td>Cycle</td>\n      <td>Saturday 5 Dec 2020, 7:47pm</td>\n    </tr>\n    <tr>\n      <th>8</th>\n      <td>46</td>\n      <td>Sabrina Claudio</td>\n      <td>No Rain, No Flowers</td>\n      <td>Naked</td>\n      <td>Saturday 5 Dec 2020, 7:43pm</td>\n    </tr>\n    <tr>\n      <th>9</th>\n      <td>47</td>\n      <td>Sabrina Claudio</td>\n      <td>No Rain, No Flowers</td>\n      <td>Come Here</td>\n      <td>Saturday 5 Dec 2020, 7:40pm</td>\n    </tr>\n    <tr>\n      <th>10</th>\n      <td>48</td>\n      <td>Sabrina Claudio</td>\n      <td>Confidently Lost</td>\n      <td>Tell Me (Acoustic)</td>\n      <td>Saturday 5 Dec 2020, 7:36pm</td>\n    </tr>\n    <tr>\n      <th>11</th>\n      <td>49</td>\n      <td>Sabrina Claudio</td>\n      <td>Confidently Lost</td>\n      <td>I Don't</td>\n      <td>Saturday 5 Dec 2020, 7:32pm</td>\n    </tr>\n  </tbody>\n</table>\n</div>"
     },
     "execution_count": 7,
     "metadata": {},
     "output_type": "execute_result"
    }
   ],
   "source": [
    "df_s1.append(df_s2).reset_index()"
   ],
   "metadata": {
    "collapsed": false,
    "pycharm": {
     "name": "#%%\n"
    }
   }
  },
  {
   "cell_type": "code",
   "execution_count": 8,
   "outputs": [
    {
     "data": {
      "text/plain": "(bs4.element.ResultSet, 544)"
     },
     "execution_count": 8,
     "metadata": {},
     "output_type": "execute_result"
    }
   ],
   "source": [
    "out = ashen077.track_lists('https://www.last.fm/user/ashen077/library?page=1')\n",
    "type(out), getsizeof(out)"
   ],
   "metadata": {
    "collapsed": false,
    "pycharm": {
     "name": "#%%\n"
    }
   }
  },
  {
   "cell_type": "code",
   "execution_count": 12,
   "outputs": [],
   "source": [
    "def track_lists(page):\n",
    "    html = req.urlopen(page)\n",
    "    DOM = bs(html, 'lxml')\n",
    "    trackList = DOM.find_all('tr', class_='chartlist-row')\n",
    "\n",
    "    return trackList"
   ],
   "metadata": {
    "collapsed": false,
    "pycharm": {
     "name": "#%%\n"
    }
   }
  },
  {
   "cell_type": "code",
   "execution_count": 13,
   "outputs": [
    {
     "data": {
      "text/plain": "(bs4.element.ResultSet, 544)"
     },
     "execution_count": 13,
     "metadata": {},
     "output_type": "execute_result"
    }
   ],
   "source": [
    "out_old = track_lists('https://www.last.fm/user/ashen077/library?page=1')\n",
    "type(out_old), getsizeof(out_old)"
   ],
   "metadata": {
    "collapsed": false,
    "pycharm": {
     "name": "#%%\n"
    }
   }
  },
  {
   "cell_type": "code",
   "execution_count": 7,
   "outputs": [
    {
     "data": {
      "text/plain": "(requests.models.Response, <Response [200]>)"
     },
     "execution_count": 7,
     "metadata": {},
     "output_type": "execute_result"
    }
   ],
   "source": [
    "url = 'https://www.last.fm/user/ashen077/library?page=200'\n",
    "response = r.get(url=url)\n",
    "type(response), response"
   ],
   "metadata": {
    "collapsed": false,
    "pycharm": {
     "name": "#%%\n"
    }
   }
  },
  {
   "cell_type": "code",
   "execution_count": 16,
   "outputs": [
    {
     "name": "stdout",
     "output_type": "stream",
     "text": [
      "success https://www.last.fm/user/ashen077/library?page=0\n",
      "success https://www.last.fm/user/ashen077/library?page=1\n",
      "success https://www.last.fm/user/ashen077/library?page=2\n",
      "success https://www.last.fm/user/ashen077/library?page=3\n",
      "success https://www.last.fm/user/ashen077/library?page=4\n",
      "success https://www.last.fm/user/ashen077/library?page=5\n",
      "success https://www.last.fm/user/ashen077/library?page=6\n",
      "success https://www.last.fm/user/ashen077/library?page=7\n",
      "success https://www.last.fm/user/ashen077/library?page=8\n",
      "success https://www.last.fm/user/ashen077/library?page=9\n",
      "success https://www.last.fm/user/ashen077/library?page=10\n",
      "success https://www.last.fm/user/ashen077/library?page=11\n",
      "success https://www.last.fm/user/ashen077/library?page=12\n",
      "success https://www.last.fm/user/ashen077/library?page=13\n",
      "success https://www.last.fm/user/ashen077/library?page=14\n",
      "success https://www.last.fm/user/ashen077/library?page=15\n",
      "success https://www.last.fm/user/ashen077/library?page=16\n",
      "success https://www.last.fm/user/ashen077/library?page=17\n",
      "success https://www.last.fm/user/ashen077/library?page=18\n",
      "success https://www.last.fm/user/ashen077/library?page=19\n",
      "success https://www.last.fm/user/ashen077/library?page=20\n",
      "success https://www.last.fm/user/ashen077/library?page=21\n",
      "success https://www.last.fm/user/ashen077/library?page=22\n",
      "success https://www.last.fm/user/ashen077/library?page=23\n",
      "success https://www.last.fm/user/ashen077/library?page=24\n",
      "success https://www.last.fm/user/ashen077/library?page=25\n",
      "success https://www.last.fm/user/ashen077/library?page=26\n",
      "success https://www.last.fm/user/ashen077/library?page=27\n",
      "success https://www.last.fm/user/ashen077/library?page=28\n",
      "success https://www.last.fm/user/ashen077/library?page=29\n",
      "success https://www.last.fm/user/ashen077/library?page=30\n",
      "success https://www.last.fm/user/ashen077/library?page=31\n",
      "success https://www.last.fm/user/ashen077/library?page=32\n",
      "success https://www.last.fm/user/ashen077/library?page=33\n",
      "success https://www.last.fm/user/ashen077/library?page=34\n",
      "success https://www.last.fm/user/ashen077/library?page=35\n",
      "success https://www.last.fm/user/ashen077/library?page=36\n",
      "success https://www.last.fm/user/ashen077/library?page=37\n",
      "success https://www.last.fm/user/ashen077/library?page=38\n",
      "success https://www.last.fm/user/ashen077/library?page=39\n",
      "success https://www.last.fm/user/ashen077/library?page=40\n",
      "success https://www.last.fm/user/ashen077/library?page=41\n",
      "success https://www.last.fm/user/ashen077/library?page=42\n",
      "success https://www.last.fm/user/ashen077/library?page=43\n",
      "success https://www.last.fm/user/ashen077/library?page=44\n",
      "success https://www.last.fm/user/ashen077/library?page=45\n",
      "success https://www.last.fm/user/ashen077/library?page=46\n",
      "success https://www.last.fm/user/ashen077/library?page=47\n",
      "success https://www.last.fm/user/ashen077/library?page=48\n",
      "success https://www.last.fm/user/ashen077/library?page=49\n",
      "success https://www.last.fm/user/ashen077/library?page=50\n",
      "success https://www.last.fm/user/ashen077/library?page=51\n",
      "success https://www.last.fm/user/ashen077/library?page=52\n",
      "success https://www.last.fm/user/ashen077/library?page=53\n",
      "success https://www.last.fm/user/ashen077/library?page=54\n",
      "success https://www.last.fm/user/ashen077/library?page=55\n",
      "success https://www.last.fm/user/ashen077/library?page=56\n",
      "success https://www.last.fm/user/ashen077/library?page=57\n",
      "success https://www.last.fm/user/ashen077/library?page=58\n",
      "success https://www.last.fm/user/ashen077/library?page=59\n",
      "success https://www.last.fm/user/ashen077/library?page=60\n",
      "success https://www.last.fm/user/ashen077/library?page=61\n",
      "success https://www.last.fm/user/ashen077/library?page=62\n",
      "success https://www.last.fm/user/ashen077/library?page=63\n",
      "success https://www.last.fm/user/ashen077/library?page=64\n",
      "success https://www.last.fm/user/ashen077/library?page=65\n",
      "success https://www.last.fm/user/ashen077/library?page=66\n",
      "success https://www.last.fm/user/ashen077/library?page=67\n",
      "success https://www.last.fm/user/ashen077/library?page=68\n",
      "success https://www.last.fm/user/ashen077/library?page=69\n",
      "success https://www.last.fm/user/ashen077/library?page=70\n",
      "success https://www.last.fm/user/ashen077/library?page=71\n",
      "success https://www.last.fm/user/ashen077/library?page=72\n",
      "success https://www.last.fm/user/ashen077/library?page=73\n",
      "success https://www.last.fm/user/ashen077/library?page=74\n",
      "success https://www.last.fm/user/ashen077/library?page=75\n",
      "success https://www.last.fm/user/ashen077/library?page=76\n",
      "success https://www.last.fm/user/ashen077/library?page=77\n",
      "success https://www.last.fm/user/ashen077/library?page=78\n",
      "success https://www.last.fm/user/ashen077/library?page=79\n",
      "success https://www.last.fm/user/ashen077/library?page=80\n",
      "success https://www.last.fm/user/ashen077/library?page=81\n",
      "success https://www.last.fm/user/ashen077/library?page=82\n",
      "success https://www.last.fm/user/ashen077/library?page=83\n",
      "success https://www.last.fm/user/ashen077/library?page=84\n",
      "success https://www.last.fm/user/ashen077/library?page=85\n",
      "success https://www.last.fm/user/ashen077/library?page=86\n",
      "success https://www.last.fm/user/ashen077/library?page=87\n",
      "success https://www.last.fm/user/ashen077/library?page=88\n",
      "success https://www.last.fm/user/ashen077/library?page=89\n",
      "success https://www.last.fm/user/ashen077/library?page=90\n",
      "success https://www.last.fm/user/ashen077/library?page=91\n",
      "success https://www.last.fm/user/ashen077/library?page=92\n",
      "success https://www.last.fm/user/ashen077/library?page=93\n",
      "success https://www.last.fm/user/ashen077/library?page=94\n",
      "success https://www.last.fm/user/ashen077/library?page=95\n",
      "success https://www.last.fm/user/ashen077/library?page=96\n",
      "success https://www.last.fm/user/ashen077/library?page=97\n",
      "success https://www.last.fm/user/ashen077/library?page=98\n",
      "success https://www.last.fm/user/ashen077/library?page=99\n",
      "success https://www.last.fm/user/ashen077/library?page=100\n",
      "success https://www.last.fm/user/ashen077/library?page=101\n",
      "success https://www.last.fm/user/ashen077/library?page=102\n",
      "success https://www.last.fm/user/ashen077/library?page=103\n",
      "success https://www.last.fm/user/ashen077/library?page=104\n",
      "success https://www.last.fm/user/ashen077/library?page=105\n",
      "success https://www.last.fm/user/ashen077/library?page=106\n",
      "success https://www.last.fm/user/ashen077/library?page=107\n",
      "success https://www.last.fm/user/ashen077/library?page=108\n",
      "success https://www.last.fm/user/ashen077/library?page=109\n",
      "success https://www.last.fm/user/ashen077/library?page=110\n",
      "success https://www.last.fm/user/ashen077/library?page=111\n",
      "success https://www.last.fm/user/ashen077/library?page=112\n",
      "success https://www.last.fm/user/ashen077/library?page=113\n",
      "success https://www.last.fm/user/ashen077/library?page=114\n",
      "success https://www.last.fm/user/ashen077/library?page=115\n",
      "success https://www.last.fm/user/ashen077/library?page=116\n",
      "success https://www.last.fm/user/ashen077/library?page=117\n",
      "success https://www.last.fm/user/ashen077/library?page=118\n",
      "success https://www.last.fm/user/ashen077/library?page=119\n",
      "success https://www.last.fm/user/ashen077/library?page=120\n",
      "success https://www.last.fm/user/ashen077/library?page=121\n",
      "success https://www.last.fm/user/ashen077/library?page=122\n",
      "success https://www.last.fm/user/ashen077/library?page=123\n",
      "success https://www.last.fm/user/ashen077/library?page=124\n",
      "success https://www.last.fm/user/ashen077/library?page=125\n",
      "success https://www.last.fm/user/ashen077/library?page=126\n",
      "success https://www.last.fm/user/ashen077/library?page=127\n",
      "success https://www.last.fm/user/ashen077/library?page=128\n",
      "success https://www.last.fm/user/ashen077/library?page=129\n",
      "success https://www.last.fm/user/ashen077/library?page=130\n",
      "success https://www.last.fm/user/ashen077/library?page=131\n",
      "success https://www.last.fm/user/ashen077/library?page=132\n",
      "success https://www.last.fm/user/ashen077/library?page=133\n",
      "success https://www.last.fm/user/ashen077/library?page=134\n",
      "success https://www.last.fm/user/ashen077/library?page=135\n",
      "success https://www.last.fm/user/ashen077/library?page=136\n",
      "success https://www.last.fm/user/ashen077/library?page=137\n",
      "success https://www.last.fm/user/ashen077/library?page=138\n",
      "success https://www.last.fm/user/ashen077/library?page=139\n",
      "success https://www.last.fm/user/ashen077/library?page=140\n",
      "success https://www.last.fm/user/ashen077/library?page=141\n",
      "success https://www.last.fm/user/ashen077/library?page=142\n",
      "success https://www.last.fm/user/ashen077/library?page=143\n",
      "success https://www.last.fm/user/ashen077/library?page=144\n",
      "success https://www.last.fm/user/ashen077/library?page=145\n",
      "success https://www.last.fm/user/ashen077/library?page=146\n",
      "success https://www.last.fm/user/ashen077/library?page=147\n",
      "success https://www.last.fm/user/ashen077/library?page=148\n",
      "success https://www.last.fm/user/ashen077/library?page=149\n",
      "success https://www.last.fm/user/ashen077/library?page=150\n",
      "success https://www.last.fm/user/ashen077/library?page=151\n",
      "success https://www.last.fm/user/ashen077/library?page=152\n",
      "success https://www.last.fm/user/ashen077/library?page=153\n",
      "success https://www.last.fm/user/ashen077/library?page=154\n",
      "success https://www.last.fm/user/ashen077/library?page=155\n",
      "success https://www.last.fm/user/ashen077/library?page=156\n",
      "success https://www.last.fm/user/ashen077/library?page=157\n",
      "success https://www.last.fm/user/ashen077/library?page=158\n",
      "success https://www.last.fm/user/ashen077/library?page=159\n",
      "success https://www.last.fm/user/ashen077/library?page=160\n",
      "success https://www.last.fm/user/ashen077/library?page=161\n",
      "success https://www.last.fm/user/ashen077/library?page=162\n",
      "success https://www.last.fm/user/ashen077/library?page=163\n",
      "success https://www.last.fm/user/ashen077/library?page=164\n",
      "success https://www.last.fm/user/ashen077/library?page=165\n",
      "success https://www.last.fm/user/ashen077/library?page=166\n",
      "success https://www.last.fm/user/ashen077/library?page=167\n",
      "success https://www.last.fm/user/ashen077/library?page=168\n",
      "success https://www.last.fm/user/ashen077/library?page=169\n",
      "success https://www.last.fm/user/ashen077/library?page=170\n",
      "success https://www.last.fm/user/ashen077/library?page=171\n",
      "success https://www.last.fm/user/ashen077/library?page=172\n",
      "success https://www.last.fm/user/ashen077/library?page=173\n",
      "success https://www.last.fm/user/ashen077/library?page=174\n",
      "success https://www.last.fm/user/ashen077/library?page=175\n",
      "success https://www.last.fm/user/ashen077/library?page=176\n",
      "success https://www.last.fm/user/ashen077/library?page=177\n",
      "success https://www.last.fm/user/ashen077/library?page=178\n",
      "success https://www.last.fm/user/ashen077/library?page=179\n",
      "success https://www.last.fm/user/ashen077/library?page=180\n",
      "success https://www.last.fm/user/ashen077/library?page=181\n",
      "success https://www.last.fm/user/ashen077/library?page=182\n",
      "success https://www.last.fm/user/ashen077/library?page=183\n",
      "success https://www.last.fm/user/ashen077/library?page=184\n",
      "success https://www.last.fm/user/ashen077/library?page=185\n",
      "success https://www.last.fm/user/ashen077/library?page=186\n",
      "success https://www.last.fm/user/ashen077/library?page=187\n",
      "success https://www.last.fm/user/ashen077/library?page=188\n",
      "success https://www.last.fm/user/ashen077/library?page=189\n",
      "success https://www.last.fm/user/ashen077/library?page=190\n",
      "success https://www.last.fm/user/ashen077/library?page=191\n",
      "success https://www.last.fm/user/ashen077/library?page=192\n",
      "success https://www.last.fm/user/ashen077/library?page=193\n",
      "success https://www.last.fm/user/ashen077/library?page=194\n",
      "success https://www.last.fm/user/ashen077/library?page=195\n",
      "success https://www.last.fm/user/ashen077/library?page=196\n",
      "success https://www.last.fm/user/ashen077/library?page=197\n",
      "success https://www.last.fm/user/ashen077/library?page=198\n",
      "success https://www.last.fm/user/ashen077/library?page=199\n",
      "success https://www.last.fm/user/ashen077/library?page=200\n",
      "success https://www.last.fm/user/ashen077/library?page=201\n",
      "success https://www.last.fm/user/ashen077/library?page=202\n",
      "success https://www.last.fm/user/ashen077/library?page=203\n",
      "success https://www.last.fm/user/ashen077/library?page=204\n",
      "success https://www.last.fm/user/ashen077/library?page=205\n",
      "success https://www.last.fm/user/ashen077/library?page=206\n",
      "success https://www.last.fm/user/ashen077/library?page=207\n",
      "success https://www.last.fm/user/ashen077/library?page=208\n",
      "success https://www.last.fm/user/ashen077/library?page=209\n",
      "success https://www.last.fm/user/ashen077/library?page=210\n",
      "success https://www.last.fm/user/ashen077/library?page=211\n",
      "success https://www.last.fm/user/ashen077/library?page=212\n",
      "success https://www.last.fm/user/ashen077/library?page=213\n",
      "success https://www.last.fm/user/ashen077/library?page=214\n",
      "success https://www.last.fm/user/ashen077/library?page=215\n",
      "success https://www.last.fm/user/ashen077/library?page=216\n",
      "success https://www.last.fm/user/ashen077/library?page=217\n",
      "success https://www.last.fm/user/ashen077/library?page=218\n",
      "success https://www.last.fm/user/ashen077/library?page=219\n",
      "success https://www.last.fm/user/ashen077/library?page=220\n",
      "success https://www.last.fm/user/ashen077/library?page=221\n",
      "success https://www.last.fm/user/ashen077/library?page=222\n",
      "success https://www.last.fm/user/ashen077/library?page=223\n",
      "success https://www.last.fm/user/ashen077/library?page=224\n",
      "success https://www.last.fm/user/ashen077/library?page=225\n",
      "success https://www.last.fm/user/ashen077/library?page=226\n",
      "success https://www.last.fm/user/ashen077/library?page=227\n",
      "success https://www.last.fm/user/ashen077/library?page=228\n",
      "success https://www.last.fm/user/ashen077/library?page=229\n",
      "success https://www.last.fm/user/ashen077/library?page=230\n",
      "success https://www.last.fm/user/ashen077/library?page=231\n",
      "success https://www.last.fm/user/ashen077/library?page=232\n",
      "success https://www.last.fm/user/ashen077/library?page=233\n",
      "success https://www.last.fm/user/ashen077/library?page=234\n",
      "success https://www.last.fm/user/ashen077/library?page=235\n",
      "success https://www.last.fm/user/ashen077/library?page=236\n",
      "success https://www.last.fm/user/ashen077/library?page=237\n",
      "success https://www.last.fm/user/ashen077/library?page=238\n",
      "success https://www.last.fm/user/ashen077/library?page=239\n",
      "success https://www.last.fm/user/ashen077/library?page=240\n",
      "success https://www.last.fm/user/ashen077/library?page=241\n",
      "success https://www.last.fm/user/ashen077/library?page=242\n",
      "success https://www.last.fm/user/ashen077/library?page=243\n",
      "success https://www.last.fm/user/ashen077/library?page=244\n",
      "success https://www.last.fm/user/ashen077/library?page=245\n",
      "success https://www.last.fm/user/ashen077/library?page=246\n",
      "success https://www.last.fm/user/ashen077/library?page=247\n",
      "success https://www.last.fm/user/ashen077/library?page=248\n",
      "success https://www.last.fm/user/ashen077/library?page=249\n",
      "success https://www.last.fm/user/ashen077/library?page=250\n",
      "success https://www.last.fm/user/ashen077/library?page=251\n",
      "success https://www.last.fm/user/ashen077/library?page=252\n",
      "success https://www.last.fm/user/ashen077/library?page=253\n",
      "success https://www.last.fm/user/ashen077/library?page=254\n",
      "success https://www.last.fm/user/ashen077/library?page=255\n",
      "success https://www.last.fm/user/ashen077/library?page=256\n",
      "success https://www.last.fm/user/ashen077/library?page=257\n",
      "success https://www.last.fm/user/ashen077/library?page=258\n",
      "success https://www.last.fm/user/ashen077/library?page=259\n",
      "success https://www.last.fm/user/ashen077/library?page=260\n",
      "success https://www.last.fm/user/ashen077/library?page=261\n",
      "success https://www.last.fm/user/ashen077/library?page=262\n",
      "success https://www.last.fm/user/ashen077/library?page=263\n",
      "success https://www.last.fm/user/ashen077/library?page=264\n",
      "success https://www.last.fm/user/ashen077/library?page=265\n",
      "success https://www.last.fm/user/ashen077/library?page=266\n",
      "success https://www.last.fm/user/ashen077/library?page=267\n",
      "success https://www.last.fm/user/ashen077/library?page=268\n",
      "success https://www.last.fm/user/ashen077/library?page=269\n",
      "success https://www.last.fm/user/ashen077/library?page=270\n",
      "success https://www.last.fm/user/ashen077/library?page=271\n",
      "success https://www.last.fm/user/ashen077/library?page=272\n",
      "success https://www.last.fm/user/ashen077/library?page=273\n",
      "success https://www.last.fm/user/ashen077/library?page=274\n",
      "success https://www.last.fm/user/ashen077/library?page=275\n",
      "success https://www.last.fm/user/ashen077/library?page=276\n",
      "success https://www.last.fm/user/ashen077/library?page=277\n",
      "success https://www.last.fm/user/ashen077/library?page=278\n",
      "success https://www.last.fm/user/ashen077/library?page=279\n",
      "success https://www.last.fm/user/ashen077/library?page=280\n",
      "success https://www.last.fm/user/ashen077/library?page=281\n",
      "success https://www.last.fm/user/ashen077/library?page=282\n",
      "success https://www.last.fm/user/ashen077/library?page=283\n",
      "success https://www.last.fm/user/ashen077/library?page=284\n",
      "success https://www.last.fm/user/ashen077/library?page=285\n",
      "success https://www.last.fm/user/ashen077/library?page=286\n",
      "success https://www.last.fm/user/ashen077/library?page=287\n",
      "success https://www.last.fm/user/ashen077/library?page=288\n",
      "success https://www.last.fm/user/ashen077/library?page=289\n",
      "success https://www.last.fm/user/ashen077/library?page=290\n",
      "success https://www.last.fm/user/ashen077/library?page=291\n",
      "success https://www.last.fm/user/ashen077/library?page=292\n",
      "success https://www.last.fm/user/ashen077/library?page=293\n",
      "success https://www.last.fm/user/ashen077/library?page=294\n",
      "success https://www.last.fm/user/ashen077/library?page=295\n",
      "success https://www.last.fm/user/ashen077/library?page=296\n",
      "success https://www.last.fm/user/ashen077/library?page=297\n",
      "success https://www.last.fm/user/ashen077/library?page=298\n",
      "success https://www.last.fm/user/ashen077/library?page=299\n"
     ]
    }
   ],
   "source": [
    "for i in range(300):\n",
    "    tries = 0\n",
    "    url = f'https://www.last.fm/user/ashen077/library?page={i}'\n",
    "    response = r.get(url)\n",
    "\n",
    "    if response.status_code == 200:\n",
    "        print('success', url)\n",
    "        html = response.content.decode(response.encoding)\n",
    "    else:\n",
    "        while response.status_code != 200:\n",
    "            tries+=1\n",
    "            response = r.get(url)\n",
    "            if response.status_code == 200:\n",
    "                print(url, tries, response.status_code)\n",
    "                html = response.content.decode(response.encoding)\n",
    "                break"
   ],
   "metadata": {
    "collapsed": false,
    "pycharm": {
     "name": "#%%\n"
    }
   }
  },
  {
   "cell_type": "code",
   "execution_count": 3,
   "outputs": [],
   "source": [
    "payload = {\n",
    "    'method': 'album.getInfo',\n",
    "    'artist': 'Lana Del Rey',\n",
    "    'album': 'Ultraviolence'\n",
    "    # 'user': 'ashen077'\n",
    "}\n",
    "# LanaDelRay = ashen077.lastfm_get(payload)"
   ],
   "metadata": {
    "collapsed": false,
    "pycharm": {
     "name": "#%%\n"
    }
   }
  },
  {
   "cell_type": "code",
   "execution_count": 10,
   "outputs": [
    {
     "data": {
      "text/plain": "200"
     },
     "execution_count": 10,
     "metadata": {},
     "output_type": "execute_result"
    }
   ],
   "source": [
    "# LanaDelRay.status_code"
   ],
   "metadata": {
    "collapsed": false,
    "pycharm": {
     "name": "#%%\n"
    }
   }
  },
  {
   "cell_type": "code",
   "execution_count": 7,
   "outputs": [
    {
     "ename": "KeyboardInterrupt",
     "evalue": "",
     "output_type": "error",
     "traceback": [
      "\u001B[1;31m---------------------------------------------------------------------------\u001B[0m",
      "\u001B[1;31mKeyboardInterrupt\u001B[0m                         Traceback (most recent call last)",
      "\u001B[1;32m<ipython-input-7-5d74b75565e9>\u001B[0m in \u001B[0;36m<module>\u001B[1;34m\u001B[0m\n\u001B[1;32m----> 1\u001B[1;33m \u001B[0mprint\u001B[0m\u001B[1;33m(\u001B[0m\u001B[0mashen077\u001B[0m\u001B[1;33m.\u001B[0m\u001B[0mlastfm_output\u001B[0m\u001B[1;33m(\u001B[0m\u001B[0mpayload\u001B[0m\u001B[1;33m)\u001B[0m\u001B[1;33m)\u001B[0m\u001B[1;33m\u001B[0m\u001B[1;33m\u001B[0m\u001B[0m\n\u001B[0m",
      "\u001B[1;32mD:\\Data Engineering\\Big Data\\Big Data projects\\access data\\TEST RUN\\EX4\\mini project (prase last.fm scrobble records)\\phraser.py\u001B[0m in \u001B[0;36mlastfm_output\u001B[1;34m(self, obj)\u001B[0m\n\u001B[0;32m     29\u001B[0m \u001B[1;33m\u001B[0m\u001B[0m\n\u001B[0;32m     30\u001B[0m     \u001B[1;32mdef\u001B[0m \u001B[0mlastfm_output\u001B[0m\u001B[1;33m(\u001B[0m\u001B[0mself\u001B[0m\u001B[1;33m,\u001B[0m \u001B[0mobj\u001B[0m\u001B[1;33m)\u001B[0m\u001B[1;33m:\u001B[0m\u001B[1;33m\u001B[0m\u001B[1;33m\u001B[0m\u001B[0m\n\u001B[1;32m---> 31\u001B[1;33m         \u001B[1;32mif\u001B[0m \u001B[0mself\u001B[0m\u001B[1;33m.\u001B[0m\u001B[0m__lastfm_get\u001B[0m\u001B[1;33m(\u001B[0m\u001B[0mobj\u001B[0m\u001B[1;33m)\u001B[0m\u001B[1;33m.\u001B[0m\u001B[0mstatus_code\u001B[0m \u001B[1;33m==\u001B[0m \u001B[1;36m200\u001B[0m\u001B[1;33m:\u001B[0m\u001B[1;33m\u001B[0m\u001B[1;33m\u001B[0m\u001B[0m\n\u001B[0m\u001B[0;32m     32\u001B[0m             \u001B[0mdata\u001B[0m \u001B[1;33m=\u001B[0m \u001B[0mself\u001B[0m\u001B[1;33m.\u001B[0m\u001B[0m__lastfm_get\u001B[0m\u001B[1;33m(\u001B[0m\u001B[0mobj\u001B[0m\u001B[1;33m)\u001B[0m\u001B[1;33m\u001B[0m\u001B[1;33m\u001B[0m\u001B[0m\n\u001B[0;32m     33\u001B[0m             \u001B[0mdata\u001B[0m \u001B[1;33m=\u001B[0m \u001B[0mdata\u001B[0m\u001B[1;33m.\u001B[0m\u001B[0mjson\u001B[0m\u001B[1;33m(\u001B[0m\u001B[1;33m)\u001B[0m\u001B[1;33m\u001B[0m\u001B[1;33m\u001B[0m\u001B[0m\n",
      "\u001B[1;32mD:\\Data Engineering\\Big Data\\Big Data projects\\access data\\TEST RUN\\EX4\\mini project (prase last.fm scrobble records)\\phraser.py\u001B[0m in \u001B[0;36m__lastfm_get\u001B[1;34m(self, obj)\u001B[0m\n\u001B[0;32m     26\u001B[0m         return r.get(url=self.__baseURL,\n\u001B[0;32m     27\u001B[0m                      \u001B[0mheaders\u001B[0m\u001B[1;33m=\u001B[0m\u001B[0mself\u001B[0m\u001B[1;33m.\u001B[0m\u001B[0m__headers\u001B[0m\u001B[1;33m,\u001B[0m\u001B[1;33m\u001B[0m\u001B[1;33m\u001B[0m\u001B[0m\n\u001B[1;32m---> 28\u001B[1;33m                      params=self.__payload)\n\u001B[0m\u001B[0;32m     29\u001B[0m \u001B[1;33m\u001B[0m\u001B[0m\n\u001B[0;32m     30\u001B[0m     \u001B[1;32mdef\u001B[0m \u001B[0mlastfm_output\u001B[0m\u001B[1;33m(\u001B[0m\u001B[0mself\u001B[0m\u001B[1;33m,\u001B[0m \u001B[0mobj\u001B[0m\u001B[1;33m)\u001B[0m\u001B[1;33m:\u001B[0m\u001B[1;33m\u001B[0m\u001B[1;33m\u001B[0m\u001B[0m\n",
      "\u001B[1;32mc:\\users\\ashen\\appdata\\local\\programs\\python\\python37\\lib\\site-packages\\requests\\api.py\u001B[0m in \u001B[0;36mget\u001B[1;34m(url, params, **kwargs)\u001B[0m\n\u001B[0;32m     74\u001B[0m \u001B[1;33m\u001B[0m\u001B[0m\n\u001B[0;32m     75\u001B[0m     \u001B[0mkwargs\u001B[0m\u001B[1;33m.\u001B[0m\u001B[0msetdefault\u001B[0m\u001B[1;33m(\u001B[0m\u001B[1;34m'allow_redirects'\u001B[0m\u001B[1;33m,\u001B[0m \u001B[1;32mTrue\u001B[0m\u001B[1;33m)\u001B[0m\u001B[1;33m\u001B[0m\u001B[1;33m\u001B[0m\u001B[0m\n\u001B[1;32m---> 76\u001B[1;33m     \u001B[1;32mreturn\u001B[0m \u001B[0mrequest\u001B[0m\u001B[1;33m(\u001B[0m\u001B[1;34m'get'\u001B[0m\u001B[1;33m,\u001B[0m \u001B[0murl\u001B[0m\u001B[1;33m,\u001B[0m \u001B[0mparams\u001B[0m\u001B[1;33m=\u001B[0m\u001B[0mparams\u001B[0m\u001B[1;33m,\u001B[0m \u001B[1;33m**\u001B[0m\u001B[0mkwargs\u001B[0m\u001B[1;33m)\u001B[0m\u001B[1;33m\u001B[0m\u001B[1;33m\u001B[0m\u001B[0m\n\u001B[0m\u001B[0;32m     77\u001B[0m \u001B[1;33m\u001B[0m\u001B[0m\n\u001B[0;32m     78\u001B[0m \u001B[1;33m\u001B[0m\u001B[0m\n",
      "\u001B[1;32mc:\\users\\ashen\\appdata\\local\\programs\\python\\python37\\lib\\site-packages\\requests\\api.py\u001B[0m in \u001B[0;36mrequest\u001B[1;34m(method, url, **kwargs)\u001B[0m\n\u001B[0;32m     59\u001B[0m     \u001B[1;31m# cases, and look like a memory leak in others.\u001B[0m\u001B[1;33m\u001B[0m\u001B[1;33m\u001B[0m\u001B[1;33m\u001B[0m\u001B[0m\n\u001B[0;32m     60\u001B[0m     \u001B[1;32mwith\u001B[0m \u001B[0msessions\u001B[0m\u001B[1;33m.\u001B[0m\u001B[0mSession\u001B[0m\u001B[1;33m(\u001B[0m\u001B[1;33m)\u001B[0m \u001B[1;32mas\u001B[0m \u001B[0msession\u001B[0m\u001B[1;33m:\u001B[0m\u001B[1;33m\u001B[0m\u001B[1;33m\u001B[0m\u001B[0m\n\u001B[1;32m---> 61\u001B[1;33m         \u001B[1;32mreturn\u001B[0m \u001B[0msession\u001B[0m\u001B[1;33m.\u001B[0m\u001B[0mrequest\u001B[0m\u001B[1;33m(\u001B[0m\u001B[0mmethod\u001B[0m\u001B[1;33m=\u001B[0m\u001B[0mmethod\u001B[0m\u001B[1;33m,\u001B[0m \u001B[0murl\u001B[0m\u001B[1;33m=\u001B[0m\u001B[0murl\u001B[0m\u001B[1;33m,\u001B[0m \u001B[1;33m**\u001B[0m\u001B[0mkwargs\u001B[0m\u001B[1;33m)\u001B[0m\u001B[1;33m\u001B[0m\u001B[1;33m\u001B[0m\u001B[0m\n\u001B[0m\u001B[0;32m     62\u001B[0m \u001B[1;33m\u001B[0m\u001B[0m\n\u001B[0;32m     63\u001B[0m \u001B[1;33m\u001B[0m\u001B[0m\n",
      "\u001B[1;32mc:\\users\\ashen\\appdata\\local\\programs\\python\\python37\\lib\\site-packages\\requests\\sessions.py\u001B[0m in \u001B[0;36mrequest\u001B[1;34m(self, method, url, params, data, headers, cookies, files, auth, timeout, allow_redirects, proxies, hooks, stream, verify, cert, json)\u001B[0m\n\u001B[0;32m    528\u001B[0m         }\n\u001B[0;32m    529\u001B[0m         \u001B[0msend_kwargs\u001B[0m\u001B[1;33m.\u001B[0m\u001B[0mupdate\u001B[0m\u001B[1;33m(\u001B[0m\u001B[0msettings\u001B[0m\u001B[1;33m)\u001B[0m\u001B[1;33m\u001B[0m\u001B[1;33m\u001B[0m\u001B[0m\n\u001B[1;32m--> 530\u001B[1;33m         \u001B[0mresp\u001B[0m \u001B[1;33m=\u001B[0m \u001B[0mself\u001B[0m\u001B[1;33m.\u001B[0m\u001B[0msend\u001B[0m\u001B[1;33m(\u001B[0m\u001B[0mprep\u001B[0m\u001B[1;33m,\u001B[0m \u001B[1;33m**\u001B[0m\u001B[0msend_kwargs\u001B[0m\u001B[1;33m)\u001B[0m\u001B[1;33m\u001B[0m\u001B[1;33m\u001B[0m\u001B[0m\n\u001B[0m\u001B[0;32m    531\u001B[0m \u001B[1;33m\u001B[0m\u001B[0m\n\u001B[0;32m    532\u001B[0m         \u001B[1;32mreturn\u001B[0m \u001B[0mresp\u001B[0m\u001B[1;33m\u001B[0m\u001B[1;33m\u001B[0m\u001B[0m\n",
      "\u001B[1;32mc:\\users\\ashen\\appdata\\local\\programs\\python\\python37\\lib\\site-packages\\requests\\sessions.py\u001B[0m in \u001B[0;36msend\u001B[1;34m(self, request, **kwargs)\u001B[0m\n\u001B[0;32m    641\u001B[0m \u001B[1;33m\u001B[0m\u001B[0m\n\u001B[0;32m    642\u001B[0m         \u001B[1;31m# Send the request\u001B[0m\u001B[1;33m\u001B[0m\u001B[1;33m\u001B[0m\u001B[1;33m\u001B[0m\u001B[0m\n\u001B[1;32m--> 643\u001B[1;33m         \u001B[0mr\u001B[0m \u001B[1;33m=\u001B[0m \u001B[0madapter\u001B[0m\u001B[1;33m.\u001B[0m\u001B[0msend\u001B[0m\u001B[1;33m(\u001B[0m\u001B[0mrequest\u001B[0m\u001B[1;33m,\u001B[0m \u001B[1;33m**\u001B[0m\u001B[0mkwargs\u001B[0m\u001B[1;33m)\u001B[0m\u001B[1;33m\u001B[0m\u001B[1;33m\u001B[0m\u001B[0m\n\u001B[0m\u001B[0;32m    644\u001B[0m \u001B[1;33m\u001B[0m\u001B[0m\n\u001B[0;32m    645\u001B[0m         \u001B[1;31m# Total elapsed time of the request (approximately)\u001B[0m\u001B[1;33m\u001B[0m\u001B[1;33m\u001B[0m\u001B[1;33m\u001B[0m\u001B[0m\n",
      "\u001B[1;32mc:\\users\\ashen\\appdata\\local\\programs\\python\\python37\\lib\\site-packages\\requests\\adapters.py\u001B[0m in \u001B[0;36msend\u001B[1;34m(self, request, stream, timeout, verify, cert, proxies)\u001B[0m\n\u001B[0;32m    447\u001B[0m                     \u001B[0mdecode_content\u001B[0m\u001B[1;33m=\u001B[0m\u001B[1;32mFalse\u001B[0m\u001B[1;33m,\u001B[0m\u001B[1;33m\u001B[0m\u001B[1;33m\u001B[0m\u001B[0m\n\u001B[0;32m    448\u001B[0m                     \u001B[0mretries\u001B[0m\u001B[1;33m=\u001B[0m\u001B[0mself\u001B[0m\u001B[1;33m.\u001B[0m\u001B[0mmax_retries\u001B[0m\u001B[1;33m,\u001B[0m\u001B[1;33m\u001B[0m\u001B[1;33m\u001B[0m\u001B[0m\n\u001B[1;32m--> 449\u001B[1;33m                     \u001B[0mtimeout\u001B[0m\u001B[1;33m=\u001B[0m\u001B[0mtimeout\u001B[0m\u001B[1;33m\u001B[0m\u001B[1;33m\u001B[0m\u001B[0m\n\u001B[0m\u001B[0;32m    450\u001B[0m                 )\n\u001B[0;32m    451\u001B[0m \u001B[1;33m\u001B[0m\u001B[0m\n",
      "\u001B[1;32mc:\\users\\ashen\\appdata\\local\\programs\\python\\python37\\lib\\site-packages\\urllib3\\connectionpool.py\u001B[0m in \u001B[0;36murlopen\u001B[1;34m(self, method, url, body, headers, retries, redirect, assert_same_host, timeout, pool_timeout, release_conn, chunked, body_pos, **response_kw)\u001B[0m\n\u001B[0;32m    675\u001B[0m                 \u001B[0mbody\u001B[0m\u001B[1;33m=\u001B[0m\u001B[0mbody\u001B[0m\u001B[1;33m,\u001B[0m\u001B[1;33m\u001B[0m\u001B[1;33m\u001B[0m\u001B[0m\n\u001B[0;32m    676\u001B[0m                 \u001B[0mheaders\u001B[0m\u001B[1;33m=\u001B[0m\u001B[0mheaders\u001B[0m\u001B[1;33m,\u001B[0m\u001B[1;33m\u001B[0m\u001B[1;33m\u001B[0m\u001B[0m\n\u001B[1;32m--> 677\u001B[1;33m                 \u001B[0mchunked\u001B[0m\u001B[1;33m=\u001B[0m\u001B[0mchunked\u001B[0m\u001B[1;33m,\u001B[0m\u001B[1;33m\u001B[0m\u001B[1;33m\u001B[0m\u001B[0m\n\u001B[0m\u001B[0;32m    678\u001B[0m             )\n\u001B[0;32m    679\u001B[0m \u001B[1;33m\u001B[0m\u001B[0m\n",
      "\u001B[1;32mc:\\users\\ashen\\appdata\\local\\programs\\python\\python37\\lib\\site-packages\\urllib3\\connectionpool.py\u001B[0m in \u001B[0;36m_make_request\u001B[1;34m(self, conn, method, url, timeout, chunked, **httplib_request_kw)\u001B[0m\n\u001B[0;32m    424\u001B[0m                     \u001B[1;31m# Python 3 (including for exceptions like SystemExit).\u001B[0m\u001B[1;33m\u001B[0m\u001B[1;33m\u001B[0m\u001B[1;33m\u001B[0m\u001B[0m\n\u001B[0;32m    425\u001B[0m                     \u001B[1;31m# Otherwise it looks like a bug in the code.\u001B[0m\u001B[1;33m\u001B[0m\u001B[1;33m\u001B[0m\u001B[1;33m\u001B[0m\u001B[0m\n\u001B[1;32m--> 426\u001B[1;33m                     \u001B[0msix\u001B[0m\u001B[1;33m.\u001B[0m\u001B[0mraise_from\u001B[0m\u001B[1;33m(\u001B[0m\u001B[0me\u001B[0m\u001B[1;33m,\u001B[0m \u001B[1;32mNone\u001B[0m\u001B[1;33m)\u001B[0m\u001B[1;33m\u001B[0m\u001B[1;33m\u001B[0m\u001B[0m\n\u001B[0m\u001B[0;32m    427\u001B[0m         \u001B[1;32mexcept\u001B[0m \u001B[1;33m(\u001B[0m\u001B[0mSocketTimeout\u001B[0m\u001B[1;33m,\u001B[0m \u001B[0mBaseSSLError\u001B[0m\u001B[1;33m,\u001B[0m \u001B[0mSocketError\u001B[0m\u001B[1;33m)\u001B[0m \u001B[1;32mas\u001B[0m \u001B[0me\u001B[0m\u001B[1;33m:\u001B[0m\u001B[1;33m\u001B[0m\u001B[1;33m\u001B[0m\u001B[0m\n\u001B[0;32m    428\u001B[0m             \u001B[0mself\u001B[0m\u001B[1;33m.\u001B[0m\u001B[0m_raise_timeout\u001B[0m\u001B[1;33m(\u001B[0m\u001B[0merr\u001B[0m\u001B[1;33m=\u001B[0m\u001B[0me\u001B[0m\u001B[1;33m,\u001B[0m \u001B[0murl\u001B[0m\u001B[1;33m=\u001B[0m\u001B[0murl\u001B[0m\u001B[1;33m,\u001B[0m \u001B[0mtimeout_value\u001B[0m\u001B[1;33m=\u001B[0m\u001B[0mread_timeout\u001B[0m\u001B[1;33m)\u001B[0m\u001B[1;33m\u001B[0m\u001B[1;33m\u001B[0m\u001B[0m\n",
      "\u001B[1;32mc:\\users\\ashen\\appdata\\local\\programs\\python\\python37\\lib\\site-packages\\urllib3\\packages\\six.py\u001B[0m in \u001B[0;36mraise_from\u001B[1;34m(value, from_value)\u001B[0m\n",
      "\u001B[1;32mc:\\users\\ashen\\appdata\\local\\programs\\python\\python37\\lib\\site-packages\\urllib3\\connectionpool.py\u001B[0m in \u001B[0;36m_make_request\u001B[1;34m(self, conn, method, url, timeout, chunked, **httplib_request_kw)\u001B[0m\n\u001B[0;32m    419\u001B[0m                 \u001B[1;31m# Python 3\u001B[0m\u001B[1;33m\u001B[0m\u001B[1;33m\u001B[0m\u001B[1;33m\u001B[0m\u001B[0m\n\u001B[0;32m    420\u001B[0m                 \u001B[1;32mtry\u001B[0m\u001B[1;33m:\u001B[0m\u001B[1;33m\u001B[0m\u001B[1;33m\u001B[0m\u001B[0m\n\u001B[1;32m--> 421\u001B[1;33m                     \u001B[0mhttplib_response\u001B[0m \u001B[1;33m=\u001B[0m \u001B[0mconn\u001B[0m\u001B[1;33m.\u001B[0m\u001B[0mgetresponse\u001B[0m\u001B[1;33m(\u001B[0m\u001B[1;33m)\u001B[0m\u001B[1;33m\u001B[0m\u001B[1;33m\u001B[0m\u001B[0m\n\u001B[0m\u001B[0;32m    422\u001B[0m                 \u001B[1;32mexcept\u001B[0m \u001B[0mBaseException\u001B[0m \u001B[1;32mas\u001B[0m \u001B[0me\u001B[0m\u001B[1;33m:\u001B[0m\u001B[1;33m\u001B[0m\u001B[1;33m\u001B[0m\u001B[0m\n\u001B[0;32m    423\u001B[0m                     \u001B[1;31m# Remove the TypeError from the exception chain in\u001B[0m\u001B[1;33m\u001B[0m\u001B[1;33m\u001B[0m\u001B[1;33m\u001B[0m\u001B[0m\n",
      "\u001B[1;32mc:\\users\\ashen\\appdata\\local\\programs\\python\\python37\\lib\\http\\client.py\u001B[0m in \u001B[0;36mgetresponse\u001B[1;34m(self)\u001B[0m\n\u001B[0;32m   1319\u001B[0m         \u001B[1;32mtry\u001B[0m\u001B[1;33m:\u001B[0m\u001B[1;33m\u001B[0m\u001B[1;33m\u001B[0m\u001B[0m\n\u001B[0;32m   1320\u001B[0m             \u001B[1;32mtry\u001B[0m\u001B[1;33m:\u001B[0m\u001B[1;33m\u001B[0m\u001B[1;33m\u001B[0m\u001B[0m\n\u001B[1;32m-> 1321\u001B[1;33m                 \u001B[0mresponse\u001B[0m\u001B[1;33m.\u001B[0m\u001B[0mbegin\u001B[0m\u001B[1;33m(\u001B[0m\u001B[1;33m)\u001B[0m\u001B[1;33m\u001B[0m\u001B[1;33m\u001B[0m\u001B[0m\n\u001B[0m\u001B[0;32m   1322\u001B[0m             \u001B[1;32mexcept\u001B[0m \u001B[0mConnectionError\u001B[0m\u001B[1;33m:\u001B[0m\u001B[1;33m\u001B[0m\u001B[1;33m\u001B[0m\u001B[0m\n\u001B[0;32m   1323\u001B[0m                 \u001B[0mself\u001B[0m\u001B[1;33m.\u001B[0m\u001B[0mclose\u001B[0m\u001B[1;33m(\u001B[0m\u001B[1;33m)\u001B[0m\u001B[1;33m\u001B[0m\u001B[1;33m\u001B[0m\u001B[0m\n",
      "\u001B[1;32mc:\\users\\ashen\\appdata\\local\\programs\\python\\python37\\lib\\http\\client.py\u001B[0m in \u001B[0;36mbegin\u001B[1;34m(self)\u001B[0m\n\u001B[0;32m    294\u001B[0m         \u001B[1;31m# read until we get a non-100 response\u001B[0m\u001B[1;33m\u001B[0m\u001B[1;33m\u001B[0m\u001B[1;33m\u001B[0m\u001B[0m\n\u001B[0;32m    295\u001B[0m         \u001B[1;32mwhile\u001B[0m \u001B[1;32mTrue\u001B[0m\u001B[1;33m:\u001B[0m\u001B[1;33m\u001B[0m\u001B[1;33m\u001B[0m\u001B[0m\n\u001B[1;32m--> 296\u001B[1;33m             \u001B[0mversion\u001B[0m\u001B[1;33m,\u001B[0m \u001B[0mstatus\u001B[0m\u001B[1;33m,\u001B[0m \u001B[0mreason\u001B[0m \u001B[1;33m=\u001B[0m \u001B[0mself\u001B[0m\u001B[1;33m.\u001B[0m\u001B[0m_read_status\u001B[0m\u001B[1;33m(\u001B[0m\u001B[1;33m)\u001B[0m\u001B[1;33m\u001B[0m\u001B[1;33m\u001B[0m\u001B[0m\n\u001B[0m\u001B[0;32m    297\u001B[0m             \u001B[1;32mif\u001B[0m \u001B[0mstatus\u001B[0m \u001B[1;33m!=\u001B[0m \u001B[0mCONTINUE\u001B[0m\u001B[1;33m:\u001B[0m\u001B[1;33m\u001B[0m\u001B[1;33m\u001B[0m\u001B[0m\n\u001B[0;32m    298\u001B[0m                 \u001B[1;32mbreak\u001B[0m\u001B[1;33m\u001B[0m\u001B[1;33m\u001B[0m\u001B[0m\n",
      "\u001B[1;32mc:\\users\\ashen\\appdata\\local\\programs\\python\\python37\\lib\\http\\client.py\u001B[0m in \u001B[0;36m_read_status\u001B[1;34m(self)\u001B[0m\n\u001B[0;32m    255\u001B[0m \u001B[1;33m\u001B[0m\u001B[0m\n\u001B[0;32m    256\u001B[0m     \u001B[1;32mdef\u001B[0m \u001B[0m_read_status\u001B[0m\u001B[1;33m(\u001B[0m\u001B[0mself\u001B[0m\u001B[1;33m)\u001B[0m\u001B[1;33m:\u001B[0m\u001B[1;33m\u001B[0m\u001B[1;33m\u001B[0m\u001B[0m\n\u001B[1;32m--> 257\u001B[1;33m         \u001B[0mline\u001B[0m \u001B[1;33m=\u001B[0m \u001B[0mstr\u001B[0m\u001B[1;33m(\u001B[0m\u001B[0mself\u001B[0m\u001B[1;33m.\u001B[0m\u001B[0mfp\u001B[0m\u001B[1;33m.\u001B[0m\u001B[0mreadline\u001B[0m\u001B[1;33m(\u001B[0m\u001B[0m_MAXLINE\u001B[0m \u001B[1;33m+\u001B[0m \u001B[1;36m1\u001B[0m\u001B[1;33m)\u001B[0m\u001B[1;33m,\u001B[0m \u001B[1;34m\"iso-8859-1\"\u001B[0m\u001B[1;33m)\u001B[0m\u001B[1;33m\u001B[0m\u001B[1;33m\u001B[0m\u001B[0m\n\u001B[0m\u001B[0;32m    258\u001B[0m         \u001B[1;32mif\u001B[0m \u001B[0mlen\u001B[0m\u001B[1;33m(\u001B[0m\u001B[0mline\u001B[0m\u001B[1;33m)\u001B[0m \u001B[1;33m>\u001B[0m \u001B[0m_MAXLINE\u001B[0m\u001B[1;33m:\u001B[0m\u001B[1;33m\u001B[0m\u001B[1;33m\u001B[0m\u001B[0m\n\u001B[0;32m    259\u001B[0m             \u001B[1;32mraise\u001B[0m \u001B[0mLineTooLong\u001B[0m\u001B[1;33m(\u001B[0m\u001B[1;34m\"status line\"\u001B[0m\u001B[1;33m)\u001B[0m\u001B[1;33m\u001B[0m\u001B[1;33m\u001B[0m\u001B[0m\n",
      "\u001B[1;32mc:\\users\\ashen\\appdata\\local\\programs\\python\\python37\\lib\\socket.py\u001B[0m in \u001B[0;36mreadinto\u001B[1;34m(self, b)\u001B[0m\n\u001B[0;32m    587\u001B[0m         \u001B[1;32mwhile\u001B[0m \u001B[1;32mTrue\u001B[0m\u001B[1;33m:\u001B[0m\u001B[1;33m\u001B[0m\u001B[1;33m\u001B[0m\u001B[0m\n\u001B[0;32m    588\u001B[0m             \u001B[1;32mtry\u001B[0m\u001B[1;33m:\u001B[0m\u001B[1;33m\u001B[0m\u001B[1;33m\u001B[0m\u001B[0m\n\u001B[1;32m--> 589\u001B[1;33m                 \u001B[1;32mreturn\u001B[0m \u001B[0mself\u001B[0m\u001B[1;33m.\u001B[0m\u001B[0m_sock\u001B[0m\u001B[1;33m.\u001B[0m\u001B[0mrecv_into\u001B[0m\u001B[1;33m(\u001B[0m\u001B[0mb\u001B[0m\u001B[1;33m)\u001B[0m\u001B[1;33m\u001B[0m\u001B[1;33m\u001B[0m\u001B[0m\n\u001B[0m\u001B[0;32m    590\u001B[0m             \u001B[1;32mexcept\u001B[0m \u001B[0mtimeout\u001B[0m\u001B[1;33m:\u001B[0m\u001B[1;33m\u001B[0m\u001B[1;33m\u001B[0m\u001B[0m\n\u001B[0;32m    591\u001B[0m                 \u001B[0mself\u001B[0m\u001B[1;33m.\u001B[0m\u001B[0m_timeout_occurred\u001B[0m \u001B[1;33m=\u001B[0m \u001B[1;32mTrue\u001B[0m\u001B[1;33m\u001B[0m\u001B[1;33m\u001B[0m\u001B[0m\n",
      "\u001B[1;31mKeyboardInterrupt\u001B[0m: "
     ]
    }
   ],
   "source": [
    "print(ashen077.lastfm_output(payload))"
   ],
   "metadata": {
    "collapsed": false,
    "pycharm": {
     "name": "#%%\n"
    }
   }
  }
 ],
 "metadata": {
  "kernelspec": {
   "display_name": "Python 3",
   "language": "python",
   "name": "python3"
  },
  "language_info": {
   "codemirror_mode": {
    "name": "ipython",
    "version": 2
   },
   "file_extension": ".py",
   "mimetype": "text/x-python",
   "name": "python",
   "nbconvert_exporter": "python",
   "pygments_lexer": "ipython2",
   "version": "2.7.6"
  }
 },
 "nbformat": 4,
 "nbformat_minor": 0
}