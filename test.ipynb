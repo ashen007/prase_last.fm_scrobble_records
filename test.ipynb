{
 "cells": [
  {
   "cell_type": "code",
   "execution_count": 1,
   "metadata": {
    "collapsed": true
   },
   "outputs": [],
   "source": [
    "import json\n",
    "import phraser\n",
    "import re\n",
    "import pandas as pd\n",
    "import requests as r\n",
    "from sys import getsizeof\n",
    "from bs4 import BeautifulSoup as bs\n",
    "from urllib import request as req"
   ]
  },
  {
   "cell_type": "code",
   "execution_count": 2,
   "outputs": [],
   "source": [
    "ashen077 = phraser.pagePhrase('ashen077')"
   ],
   "metadata": {
    "collapsed": false,
    "pycharm": {
     "name": "#%%\n"
    }
   }
  },
  {
   "cell_type": "code",
   "execution_count": 3,
   "outputs": [
    {
     "name": "stdout",
     "output_type": "stream",
     "text": [
      "success https://www.last.fm/user/ashen077/library?page=1\n",
      "success https://www.last.fm/user/ashen077/library?page=2\n",
      "success https://www.last.fm/user/ashen077/library?page=3\n",
      "success https://www.last.fm/user/ashen077/library?page=4\n",
      "success https://www.last.fm/user/ashen077/library?page=5\n",
      "success https://www.last.fm/user/ashen077/library?page=6\n",
      "success https://www.last.fm/user/ashen077/library?page=7\n",
      "success https://www.last.fm/user/ashen077/library?page=8\n",
      "success https://www.last.fm/user/ashen077/library?page=9\n"
     ]
    }
   ],
   "source": [
    "data = ashen077.main()"
   ],
   "metadata": {
    "collapsed": false,
    "pycharm": {
     "name": "#%%\n"
    }
   }
  },
  {
   "cell_type": "code",
   "execution_count": 4,
   "outputs": [
    {
     "data": {
      "text/plain": "                           Artist                      Album  \\\n0                              MØ          Forever Neverland   \n1                              MØ          Forever Neverland   \n2                  MØ, Empress Of          Forever Neverland   \n3                              MØ          Forever Neverland   \n4                              MØ          Forever Neverland   \n..                            ...                        ...   \n95                 Ellie Goulding                   Delirium   \n96                       Ella Mai                   Ella Mai   \n97                       Dua Lipa           Future Nostalgia   \n98  Dua Lipa, Kigo & Charlie Puth  Future Nostalgia - Side B   \n99                       Dua Lipa  Future Nostalgia - Side B   \n\n                                                Track     Day Month  Date  \\\n0                                   Trying to Be Good  Friday   Dec    18   \n1                                    Imaginary Friend  Friday   Dec    18   \n2                                            Red Wine  Friday   Dec    18   \n3                                     Beautiful Wreck  Friday   Dec    18   \n4                          West Hollywood (Interlude)  Friday   Dec    18   \n..                                                ...     ...   ...   ...   \n95  Love Me Like You Do [From \"Fifty Shades Of Grey\"]  Friday   Dec    18   \n96                                               Trip  Friday   Dec    18   \n97                                   Future Nostalgia  Friday   Dec    18   \n98                                           Carry On  Friday   Dec    18   \n99                                           I'm Free  Friday   Dec    18   \n\n    Year   Time  \n0   2020  18:51  \n1   2020  18:48  \n2   2020  18:44  \n3   2020  18:40  \n4   2020  18:37  \n..   ...    ...  \n95  2020  10:02  \n96  2020  09:57  \n97  2020  09:53  \n98  2020  09:50  \n99  2020  09:46  \n\n[100 rows x 8 columns]",
      "text/html": "<div>\n<style scoped>\n    .dataframe tbody tr th:only-of-type {\n        vertical-align: middle;\n    }\n\n    .dataframe tbody tr th {\n        vertical-align: top;\n    }\n\n    .dataframe thead th {\n        text-align: right;\n    }\n</style>\n<table border=\"1\" class=\"dataframe\">\n  <thead>\n    <tr style=\"text-align: right;\">\n      <th></th>\n      <th>Artist</th>\n      <th>Album</th>\n      <th>Track</th>\n      <th>Day</th>\n      <th>Month</th>\n      <th>Date</th>\n      <th>Year</th>\n      <th>Time</th>\n    </tr>\n  </thead>\n  <tbody>\n    <tr>\n      <th>0</th>\n      <td>MØ</td>\n      <td>Forever Neverland</td>\n      <td>Trying to Be Good</td>\n      <td>Friday</td>\n      <td>Dec</td>\n      <td>18</td>\n      <td>2020</td>\n      <td>18:51</td>\n    </tr>\n    <tr>\n      <th>1</th>\n      <td>MØ</td>\n      <td>Forever Neverland</td>\n      <td>Imaginary Friend</td>\n      <td>Friday</td>\n      <td>Dec</td>\n      <td>18</td>\n      <td>2020</td>\n      <td>18:48</td>\n    </tr>\n    <tr>\n      <th>2</th>\n      <td>MØ, Empress Of</td>\n      <td>Forever Neverland</td>\n      <td>Red Wine</td>\n      <td>Friday</td>\n      <td>Dec</td>\n      <td>18</td>\n      <td>2020</td>\n      <td>18:44</td>\n    </tr>\n    <tr>\n      <th>3</th>\n      <td>MØ</td>\n      <td>Forever Neverland</td>\n      <td>Beautiful Wreck</td>\n      <td>Friday</td>\n      <td>Dec</td>\n      <td>18</td>\n      <td>2020</td>\n      <td>18:40</td>\n    </tr>\n    <tr>\n      <th>4</th>\n      <td>MØ</td>\n      <td>Forever Neverland</td>\n      <td>West Hollywood (Interlude)</td>\n      <td>Friday</td>\n      <td>Dec</td>\n      <td>18</td>\n      <td>2020</td>\n      <td>18:37</td>\n    </tr>\n    <tr>\n      <th>...</th>\n      <td>...</td>\n      <td>...</td>\n      <td>...</td>\n      <td>...</td>\n      <td>...</td>\n      <td>...</td>\n      <td>...</td>\n      <td>...</td>\n    </tr>\n    <tr>\n      <th>95</th>\n      <td>Ellie Goulding</td>\n      <td>Delirium</td>\n      <td>Love Me Like You Do [From \"Fifty Shades Of Grey\"]</td>\n      <td>Friday</td>\n      <td>Dec</td>\n      <td>18</td>\n      <td>2020</td>\n      <td>10:02</td>\n    </tr>\n    <tr>\n      <th>96</th>\n      <td>Ella Mai</td>\n      <td>Ella Mai</td>\n      <td>Trip</td>\n      <td>Friday</td>\n      <td>Dec</td>\n      <td>18</td>\n      <td>2020</td>\n      <td>09:57</td>\n    </tr>\n    <tr>\n      <th>97</th>\n      <td>Dua Lipa</td>\n      <td>Future Nostalgia</td>\n      <td>Future Nostalgia</td>\n      <td>Friday</td>\n      <td>Dec</td>\n      <td>18</td>\n      <td>2020</td>\n      <td>09:53</td>\n    </tr>\n    <tr>\n      <th>98</th>\n      <td>Dua Lipa, Kigo &amp; Charlie Puth</td>\n      <td>Future Nostalgia - Side B</td>\n      <td>Carry On</td>\n      <td>Friday</td>\n      <td>Dec</td>\n      <td>18</td>\n      <td>2020</td>\n      <td>09:50</td>\n    </tr>\n    <tr>\n      <th>99</th>\n      <td>Dua Lipa</td>\n      <td>Future Nostalgia - Side B</td>\n      <td>I'm Free</td>\n      <td>Friday</td>\n      <td>Dec</td>\n      <td>18</td>\n      <td>2020</td>\n      <td>09:46</td>\n    </tr>\n  </tbody>\n</table>\n<p>100 rows × 8 columns</p>\n</div>"
     },
     "execution_count": 4,
     "metadata": {},
     "output_type": "execute_result"
    }
   ],
   "source": [
    "data"
   ],
   "metadata": {
    "collapsed": false,
    "pycharm": {
     "name": "#%%\n"
    }
   }
  },
  {
   "cell_type": "code",
   "execution_count": 4,
   "outputs": [],
   "source": [
    "# link = ashen077.page_count()"
   ],
   "metadata": {
    "collapsed": false,
    "pycharm": {
     "name": "#%%\n"
    }
   }
  },
  {
   "cell_type": "code",
   "execution_count": 5,
   "outputs": [],
   "source": [
    "# li_list = [[a.getText() for a in li.find_all('a')] for li in link.find_all('li')\n",
    "# if li['class'][0]=='pagination-page']"
   ],
   "metadata": {
    "collapsed": false,
    "pycharm": {
     "name": "#%%\n"
    }
   }
  },
  {
   "cell_type": "code",
   "execution_count": 6,
   "outputs": [],
   "source": [
    "# pagecount = int(li_list[-1][0])\n",
    "# pagecount"
   ],
   "metadata": {
    "collapsed": false,
    "pycharm": {
     "name": "#%%\n"
    }
   }
  },
  {
   "cell_type": "code",
   "execution_count": 3,
   "outputs": [],
   "source": [
    "charts = ashen077.track_lists('https://www.last.fm/user/ashen077/library?page=1')"
   ],
   "metadata": {
    "collapsed": false,
    "pycharm": {
     "name": "#%%\n"
    }
   }
  },
  {
   "cell_type": "code",
   "execution_count": 5,
   "outputs": [],
   "source": [
    "rows = [[tr for tr in sec.find_all('tr')] for sec in charts]"
   ],
   "metadata": {
    "collapsed": false,
    "pycharm": {
     "name": "#%%\n"
    }
   }
  },
  {
   "cell_type": "code",
   "execution_count": 6,
   "outputs": [
    {
     "data": {
      "text/plain": "2"
     },
     "execution_count": 6,
     "metadata": {},
     "output_type": "execute_result"
    }
   ],
   "source": [
    "len(charts)"
   ],
   "metadata": {
    "collapsed": false,
    "pycharm": {
     "name": "#%%\n"
    }
   }
  },
  {
   "cell_type": "code",
   "execution_count": 7,
   "outputs": [
    {
     "ename": "TypeError",
     "evalue": "unsupported operand type(s) for +: 'Tag' and 'Tag'",
     "output_type": "error",
     "traceback": [
      "\u001B[1;31m---------------------------------------------------------------------------\u001B[0m",
      "\u001B[1;31mTypeError\u001B[0m                                 Traceback (most recent call last)",
      "\u001B[1;32m<ipython-input-7-52581acea765>\u001B[0m in \u001B[0;36m<module>\u001B[1;34m\u001B[0m\n\u001B[1;32m----> 1\u001B[1;33m \u001B[0mtr\u001B[0m \u001B[1;33m=\u001B[0m \u001B[0mcharts\u001B[0m\u001B[1;33m[\u001B[0m\u001B[1;36m0\u001B[0m\u001B[1;33m]\u001B[0m \u001B[1;33m+\u001B[0m \u001B[0mcharts\u001B[0m\u001B[1;33m[\u001B[0m\u001B[1;36m1\u001B[0m\u001B[1;33m]\u001B[0m\u001B[1;33m\u001B[0m\u001B[1;33m\u001B[0m\u001B[0m\n\u001B[0m",
      "\u001B[1;31mTypeError\u001B[0m: unsupported operand type(s) for +: 'Tag' and 'Tag'"
     ]
    }
   ],
   "source": [
    "tr = charts[0].find_all('tr') + charts[1].find_all('tr')"
   ],
   "metadata": {
    "collapsed": false,
    "pycharm": {
     "name": "#%%\n"
    }
   }
  },
  {
   "cell_type": "code",
   "execution_count": null,
   "outputs": [],
   "source": [
    "len(tr)"
   ],
   "metadata": {
    "collapsed": false,
    "pycharm": {
     "name": "#%%\n"
    }
   }
  },
  {
   "cell_type": "code",
   "execution_count": 15,
   "outputs": [
    {
     "data": {
      "text/plain": "5"
     },
     "execution_count": 15,
     "metadata": {},
     "output_type": "execute_result"
    }
   ],
   "source": [
    "len(charts[0])"
   ],
   "metadata": {
    "collapsed": false,
    "pycharm": {
     "name": "#%%\n"
    }
   }
  },
  {
   "cell_type": "code",
   "execution_count": 8,
   "outputs": [],
   "source": [
    "tr = []\n",
    "for sec in charts:\n",
    "    tr += sec.find_all('tr')"
   ],
   "metadata": {
    "collapsed": false,
    "pycharm": {
     "name": "#%%\n"
    }
   }
  },
  {
   "cell_type": "code",
   "execution_count": 9,
   "outputs": [
    {
     "data": {
      "text/plain": "52"
     },
     "execution_count": 9,
     "metadata": {},
     "output_type": "execute_result"
    }
   ],
   "source": [
    "len(tr)"
   ],
   "metadata": {
    "collapsed": false,
    "pycharm": {
     "name": "#%%\n"
    }
   }
  },
  {
   "cell_type": "code",
   "execution_count": 16,
   "outputs": [
    {
     "name": "stdout",
     "output_type": "stream",
     "text": [
      "ok\n",
      "ok\n",
      "ok\n",
      "ok\n",
      "ok\n",
      "ok\n",
      "ok\n",
      "ok\n",
      "ok\n",
      "ok\n",
      "ok\n",
      "ok\n",
      "ok\n",
      "ok\n",
      "ok\n",
      "ok\n",
      "ok\n",
      "ok\n",
      "ok\n",
      "ok\n",
      "ok\n",
      "ok\n",
      "ok\n",
      "ok\n",
      "ok\n",
      "ok\n",
      "ok\n",
      "ok\n",
      "ok\n",
      "ok\n",
      "ok\n",
      "ok\n",
      "ok\n",
      "ok\n",
      "ok\n",
      "ok\n",
      "ok\n",
      "ok\n",
      "ok\n",
      "ok\n",
      "ok\n",
      "ok\n",
      "ok\n",
      "ok\n",
      "ok\n",
      "ok\n",
      "ok\n",
      "ok\n",
      "ok\n",
      "ok\n"
     ]
    },
    {
     "data": {
      "text/plain": "52"
     },
     "execution_count": 16,
     "metadata": {},
     "output_type": "execute_result"
    }
   ],
   "source": [
    "for trs in tr:\n",
    "    if trs.has_attr('class'):\n",
    "        print('ok')\n",
    "    else:\n",
    "        del trs\n",
    "    # print(type(trs), type(tr))\n",
    "\n",
    "len(tr)"
   ],
   "metadata": {
    "collapsed": false,
    "pycharm": {
     "name": "#%%\n"
    }
   }
  },
  {
   "cell_type": "code",
   "execution_count": 12,
   "outputs": [
    {
     "data": {
      "text/plain": "<tr>\n<th>Play</th>\n<th>\n                        \n                            Album\n                        \n                    </th>\n<th>Loved</th>\n<th>\n                    \n                    \n                        Track name\n                    \n                </th>\n<th>Artist name </th>\n<th>Buy</th>\n<th>Options</th>\n<th>Timestamp</th>\n</tr>"
     },
     "execution_count": 12,
     "metadata": {},
     "output_type": "execute_result"
    }
   ],
   "source": [
    "tr[0]"
   ],
   "metadata": {
    "collapsed": false,
    "pycharm": {
     "name": "#%%\n"
    }
   }
  },
  {
   "cell_type": "code",
   "execution_count": 8,
   "outputs": [
    {
     "name": "stdout",
     "output_type": "stream",
     "text": [
      "<tr class=\"chartlist-row chartlist-row--with-artist chartlist-row--with-buylinks js-focus-controls-container\" data-ajax-form-state=\"\" data-edit-scrobble-id=\"82b83cc8b4e5a16105471202af632904\" data-playlist-row=\"\" data-scrobble-row=\"\">\n",
      " <td class=\"chartlist-play\">\n",
      "  <a class=\"chartlist-play-button js-playlink\" data-analytics-action=\"PlayTrackOnPage\" data-analytics-label=\"youtube\" data-artist-name=\"Tame Impala\" data-artist-url=\"/music/Tame+Impala\" data-playlink-affiliate=\"youtube\" data-track-name=\"Instant Destiny\" data-track-url=\"/music/Tame+Impala/_/Instant+Destiny\" data-youtube-id=\"hWtY1t_8Y_M\" data-youtube-url=\"https://www.youtube.com/watch?v=hWtY1t_8Y_M\" href=\"https://www.youtube.com/watch?v=hWtY1t_8Y_M\" target=\"_blank\" title=\"Play on YouTube\">\n",
      "   Play track\n",
      "  </a>\n",
      " </td>\n",
      " <td class=\"chartlist-image\">\n",
      "  <a class=\"cover-art\" href=\"/music/Tame+Impala/The+Slow+Rush\">\n",
      "   <img alt=\"The Slow Rush\" loading=\"lazy\" src=\"https://lastfm.freetls.fastly.net/i/u/64s/832ade6a35ec2a224ea9a5be326b5de4.jpg\"/>\n",
      "  </a>\n",
      " </td>\n",
      " <td class=\"chartlist-loved\">\n",
      "  <div data-toggle-button=\"\" data-toggle-button-current-state=\"unloved\" data-toggle-button-group-id=\"168db06e1573d13d61f9bff18d69759b\" data-toggle-button-states=\"[{&quot;name&quot;: &quot;unloved&quot;, &quot;button_text&quot;: &quot;ashen077 doesn't love this track&quot;, &quot;url&quot;: null, &quot;action&quot;: &quot;love&quot;, &quot;analytics_action&quot;: &quot;LoveTrack&quot;, &quot;event&quot;: &quot;track.love&quot;}, {&quot;name&quot;: &quot;loved&quot;, &quot;button_text&quot;: &quot;ashen077 loves this track&quot;, &quot;url&quot;: null, &quot;action&quot;: &quot;unlove&quot;, &quot;analytics_action&quot;: &quot;UnloveTrack&quot;, &quot;event&quot;: &quot;track.unlove&quot;}]\">\n",
      "   <span class=\"toggle-button chartlist-love-button\">\n",
      "    ashen077 doesn't love this track\n",
      "   </span>\n",
      "  </div>\n",
      " </td>\n",
      " <td class=\"chartlist-name\" data-toggle-button=\"\" data-toggle-button-current-state=\"unloved\" data-toggle-button-group-id=\"168db06e1573d13d61f9bff18d69759b\">\n",
      "  <a class=\"\" href=\"/music/Tame+Impala/_/Instant+Destiny\" title=\"Instant Destiny\">\n",
      "   Instant Destiny\n",
      "  </a>\n",
      " </td>\n",
      " <td class=\"chartlist-artist\">\n",
      "  <a href=\"/music/Tame+Impala\" title=\"Tame Impala\">\n",
      "   Tame Impala\n",
      "  </a>\n",
      " </td>\n",
      " <td class=\"chartlist-buylinks focus-control\">\n",
      "  <div class=\"lazy-buylinks\">\n",
      "   <button aria-controls=\"buylinks-ed39b0f0-2e4b-45d8-85f6-4f466e0c5cc1\" aria-expanded=\"false\" class=\"disclose-trigger lazy-buylinks-toggle\" data-disclose-lazy-buylinks=\"\" data-dropdown-layout-at=\"center bottom+3\" data-lazy-buylink-url=\"/music/Tame+Impala/_/Instant+Destiny/+partial/buylinks\">\n",
      "    Buy\n",
      "   </button>\n",
      "   <ul class=\"disclose-hide dropdown-menu-clickable buylinks-dropdown-menu\" id=\"buylinks-ed39b0f0-2e4b-45d8-85f6-4f466e0c5cc1\">\n",
      "    <li aria-live=\"polite\" class=\"menu-loading\" data-lazy-buylinks-loading=\"\">\n",
      "     Loading\n",
      "    </li>\n",
      "   </ul>\n",
      "  </div>\n",
      " </td>\n",
      " <td class=\"chartlist-more focus-control\">\n",
      "  <div>\n",
      "   <button aria-controls=\"chartlist-more-ff4d8066-1e3d-4707-b5e0-afb9ab546b01\" aria-expanded=\"false\" class=\"disclose-trigger chartlist-more-button\" data-disclose-lazy-buylinks=\"\" data-dropdown-layout-at=\"center bottom+3\" data-lazy-buylink-url=\"/music/Tame+Impala/_/Instant+Destiny/+partial/buylinks\">\n",
      "    More\n",
      "   </button>\n",
      "   <ul class=\"disclose-hide disclose-hide--js-only dropdown-menu-clickable chartlist-more-menu\" id=\"chartlist-more-ff4d8066-1e3d-4707-b5e0-afb9ab546b01\">\n",
      "    <li>\n",
      "     <a class=\"dropdown-menu-clickable-item more-item--track\" href=\"/music/Tame+Impala/_/Instant+Destiny\">\n",
      "      Go to track\n",
      "     </a>\n",
      "    </li>\n",
      "    <li>\n",
      "     <a class=\"dropdown-menu-clickable-item more-item--track\" href=\"/user/ashen077/library/music/Tame+Impala/_/Instant+Destiny\">\n",
      "      Go to track in library\n",
      "     </a>\n",
      "    </li>\n",
      "    <li>\n",
      "     <a class=\"dropdown-menu-clickable-item more-item--artist\" href=\"/music/Tame+Impala\">\n",
      "      Go to artist\n",
      "     </a>\n",
      "    </li>\n",
      "    <li>\n",
      "     <a class=\"dropdown-menu-clickable-item more-item--artist\" href=\"/user/ashen077/library/music/Tame+Impala\">\n",
      "      Go to artist in library\n",
      "     </a>\n",
      "    </li>\n",
      "    <li>\n",
      "     <a class=\"mimic-link dropdown-menu-clickable-item more-item--obsession\" data-open-modal=\"/join/modal?action=set-obsession&amp;back_to=%2Fuser%2Fashen077%2Flibrary\" href=\"https://secure.last.fm/login?next=/user/ashen077/library\">\n",
      "      Set track as current obsession\n",
      "     </a>\n",
      "    </li>\n",
      "    <li class=\"visible-xs\">\n",
      "     <span class=\"menu-title\">\n",
      "      Get track\n",
      "     </span>\n",
      "     <ul class=\"buylinks-dropdown-menu\">\n",
      "      <li aria-live=\"polite\" class=\"menu-loading\" data-lazy-buylinks-loading=\"\">\n",
      "       Loading\n",
      "      </li>\n",
      "     </ul>\n",
      "    </li>\n",
      "   </ul>\n",
      "  </div>\n",
      " </td>\n",
      " <td class=\"chartlist-timestamp chartlist-timestamp--lang-en\">\n",
      "  <span title=\"Sunday 6 Dec 2020, 8:49am\">\n",
      "   11 hours ago\n",
      "  </span>\n",
      " </td>\n",
      "</tr>\n",
      "\n"
     ]
    }
   ],
   "source": [
    "print(charts[0].prettify())"
   ],
   "metadata": {
    "collapsed": false,
    "pycharm": {
     "name": "#%%\n"
    }
   }
  },
  {
   "cell_type": "code",
   "execution_count": 9,
   "outputs": [],
   "source": [
    "tds = [[td for td in tr.find_all('td')] for tr in charts]"
   ],
   "metadata": {
    "collapsed": false,
    "pycharm": {
     "name": "#%%\n"
    }
   }
  },
  {
   "cell_type": "code",
   "execution_count": 12,
   "outputs": [
    {
     "data": {
      "text/plain": "(50, 8)"
     },
     "execution_count": 12,
     "metadata": {},
     "output_type": "execute_result"
    }
   ],
   "source": [
    "len(tds), len(tds[0])"
   ],
   "metadata": {
    "collapsed": false,
    "pycharm": {
     "name": "#%%\n"
    }
   }
  },
  {
   "cell_type": "code",
   "execution_count": 16,
   "outputs": [],
   "source": [
    "# df = pd.DataFrame(tds)"
   ],
   "metadata": {
    "collapsed": false,
    "pycharm": {
     "name": "#%%\n"
    }
   }
  },
  {
   "cell_type": "code",
   "execution_count": 17,
   "outputs": [
    {
     "data": {
      "text/plain": "                                                   0                       1  \\\n0  [\\n, [\\n                \\n                    ...  [\\n, [\\n, [], \\n], \\n]   \n1  [\\n, [\\n                \\n                    ...  [\\n, [\\n, [], \\n], \\n]   \n2  [\\n, [\\n                \\n                    ...  [\\n, [\\n, [], \\n], \\n]   \n3  [\\n, [\\n                \\n                    ...  [\\n, [\\n, [], \\n], \\n]   \n4                                               [\\n]  [\\n, [\\n, [], \\n], \\n]   \n5                                               [\\n]  [\\n, [\\n, [], \\n], \\n]   \n\n                                                   2  \\\n0  [\\n, [\\n, [\\n                ashen077 doesn't ...   \n1  [\\n, [\\n, [\\n                ashen077 doesn't ...   \n2  [\\n, [\\n, [\\n                ashen077 doesn't ...   \n3  [\\n, [\\n, [\\n                ashen077 doesn't ...   \n4  [\\n, [\\n, [\\n                ashen077 doesn't ...   \n5  [\\n, [\\n, [\\n                ashen077 doesn't ...   \n\n                                                   3  \\\n0                        [\\n, [Instant Destiny], \\n]   \n1                          [\\n, [One More Year], \\n]   \n2                          [\\n, [Warm December], \\n]   \n3                [\\n, [Short Red Silk Lingerie], \\n]   \n4  [\\n, [Have Yourself A Merry Little Christmas],...   \n5                            [\\n, [Winter Time], \\n]   \n\n                                          4  \\\n0                   [\\n, [Tame Impala], \\n]   \n1                   [\\n, [Tame Impala], \\n]   \n2               [\\n, [Sabrina Claudio], \\n]   \n3               [\\n, [Sabrina Claudio], \\n]   \n4               [\\n, [Sabrina Claudio], \\n]   \n5  [\\n, [Sabrina Claudio, Alicia Keys], \\n]   \n\n                                                   5  \\\n0  [\\n, [\\n, [Buy], \\n, [\\n, <li aria-live=\"polit...   \n1  [\\n, [\\n, [Buy], \\n, [\\n, <li aria-live=\"polit...   \n2  [\\n, [\\n, [Buy], \\n, [\\n, <li aria-live=\"polit...   \n3  [\\n, [\\n, [Buy], \\n, [\\n, <li aria-live=\"polit...   \n4  [\\n, [\\n, [Buy], \\n, [\\n, <li aria-live=\"polit...   \n5  [\\n, [\\n, [Buy], \\n, [\\n, <li aria-live=\"polit...   \n\n                                                   6  \\\n0  [\\n, [\\n, [More], \\n, [\\n, <li>\\n<a class=\"dro...   \n1  [\\n, [\\n, [More], \\n, [\\n, <li>\\n<a class=\"dro...   \n2  [\\n, [\\n, [More], \\n, [\\n, <li>\\n<a class=\"dro...   \n3  [\\n, [\\n, [More], \\n, [\\n, <li>\\n<a class=\"dro...   \n4  [\\n, [\\n, [More], \\n, [\\n, <li>\\n<a class=\"dro...   \n5  [\\n, [\\n, [More], \\n, [\\n, <li>\\n<a class=\"dro...   \n\n                                                   7  \n0  [\\n, [\\n                        11 hours ago\\n...  \n1  [\\n, [\\n                        11 hours ago\\n...  \n2  [\\n, [\\n                        23 hours ago\\n...  \n3  [\\n, [\\n                        23 hours ago\\n...  \n4  [\\n, [\\n                        23 hours ago\\n...  \n5  [\\n, [\\n                        23 hours ago\\n...  ",
      "text/html": "<div>\n<style scoped>\n    .dataframe tbody tr th:only-of-type {\n        vertical-align: middle;\n    }\n\n    .dataframe tbody tr th {\n        vertical-align: top;\n    }\n\n    .dataframe thead th {\n        text-align: right;\n    }\n</style>\n<table border=\"1\" class=\"dataframe\">\n  <thead>\n    <tr style=\"text-align: right;\">\n      <th></th>\n      <th>0</th>\n      <th>1</th>\n      <th>2</th>\n      <th>3</th>\n      <th>4</th>\n      <th>5</th>\n      <th>6</th>\n      <th>7</th>\n    </tr>\n  </thead>\n  <tbody>\n    <tr>\n      <th>0</th>\n      <td>[\\n, [\\n                \\n                    ...</td>\n      <td>[\\n, [\\n, [], \\n], \\n]</td>\n      <td>[\\n, [\\n, [\\n                ashen077 doesn't ...</td>\n      <td>[\\n, [Instant Destiny], \\n]</td>\n      <td>[\\n, [Tame Impala], \\n]</td>\n      <td>[\\n, [\\n, [Buy], \\n, [\\n, &lt;li aria-live=\"polit...</td>\n      <td>[\\n, [\\n, [More], \\n, [\\n, &lt;li&gt;\\n&lt;a class=\"dro...</td>\n      <td>[\\n, [\\n                        11 hours ago\\n...</td>\n    </tr>\n    <tr>\n      <th>1</th>\n      <td>[\\n, [\\n                \\n                    ...</td>\n      <td>[\\n, [\\n, [], \\n], \\n]</td>\n      <td>[\\n, [\\n, [\\n                ashen077 doesn't ...</td>\n      <td>[\\n, [One More Year], \\n]</td>\n      <td>[\\n, [Tame Impala], \\n]</td>\n      <td>[\\n, [\\n, [Buy], \\n, [\\n, &lt;li aria-live=\"polit...</td>\n      <td>[\\n, [\\n, [More], \\n, [\\n, &lt;li&gt;\\n&lt;a class=\"dro...</td>\n      <td>[\\n, [\\n                        11 hours ago\\n...</td>\n    </tr>\n    <tr>\n      <th>2</th>\n      <td>[\\n, [\\n                \\n                    ...</td>\n      <td>[\\n, [\\n, [], \\n], \\n]</td>\n      <td>[\\n, [\\n, [\\n                ashen077 doesn't ...</td>\n      <td>[\\n, [Warm December], \\n]</td>\n      <td>[\\n, [Sabrina Claudio], \\n]</td>\n      <td>[\\n, [\\n, [Buy], \\n, [\\n, &lt;li aria-live=\"polit...</td>\n      <td>[\\n, [\\n, [More], \\n, [\\n, &lt;li&gt;\\n&lt;a class=\"dro...</td>\n      <td>[\\n, [\\n                        23 hours ago\\n...</td>\n    </tr>\n    <tr>\n      <th>3</th>\n      <td>[\\n, [\\n                \\n                    ...</td>\n      <td>[\\n, [\\n, [], \\n], \\n]</td>\n      <td>[\\n, [\\n, [\\n                ashen077 doesn't ...</td>\n      <td>[\\n, [Short Red Silk Lingerie], \\n]</td>\n      <td>[\\n, [Sabrina Claudio], \\n]</td>\n      <td>[\\n, [\\n, [Buy], \\n, [\\n, &lt;li aria-live=\"polit...</td>\n      <td>[\\n, [\\n, [More], \\n, [\\n, &lt;li&gt;\\n&lt;a class=\"dro...</td>\n      <td>[\\n, [\\n                        23 hours ago\\n...</td>\n    </tr>\n    <tr>\n      <th>4</th>\n      <td>[\\n]</td>\n      <td>[\\n, [\\n, [], \\n], \\n]</td>\n      <td>[\\n, [\\n, [\\n                ashen077 doesn't ...</td>\n      <td>[\\n, [Have Yourself A Merry Little Christmas],...</td>\n      <td>[\\n, [Sabrina Claudio], \\n]</td>\n      <td>[\\n, [\\n, [Buy], \\n, [\\n, &lt;li aria-live=\"polit...</td>\n      <td>[\\n, [\\n, [More], \\n, [\\n, &lt;li&gt;\\n&lt;a class=\"dro...</td>\n      <td>[\\n, [\\n                        23 hours ago\\n...</td>\n    </tr>\n    <tr>\n      <th>5</th>\n      <td>[\\n]</td>\n      <td>[\\n, [\\n, [], \\n], \\n]</td>\n      <td>[\\n, [\\n, [\\n                ashen077 doesn't ...</td>\n      <td>[\\n, [Winter Time], \\n]</td>\n      <td>[\\n, [Sabrina Claudio, Alicia Keys], \\n]</td>\n      <td>[\\n, [\\n, [Buy], \\n, [\\n, &lt;li aria-live=\"polit...</td>\n      <td>[\\n, [\\n, [More], \\n, [\\n, &lt;li&gt;\\n&lt;a class=\"dro...</td>\n      <td>[\\n, [\\n                        23 hours ago\\n...</td>\n    </tr>\n  </tbody>\n</table>\n</div>"
     },
     "execution_count": 17,
     "metadata": {},
     "output_type": "execute_result"
    }
   ],
   "source": [
    "# df.head(6)"
   ],
   "metadata": {
    "collapsed": false,
    "pycharm": {
     "name": "#%%\n"
    }
   }
  },
  {
   "cell_type": "code",
   "execution_count": 19,
   "outputs": [
    {
     "name": "stdout",
     "output_type": "stream",
     "text": [
      "<td class=\"chartlist-play\">\n",
      "<a class=\"chartlist-play-button js-playlink\" data-analytics-action=\"PlayTrackOnPage\" data-analytics-label=\"youtube\" data-artist-name=\"Tame Impala\" data-artist-url=\"/music/Tame+Impala\" data-playlink-affiliate=\"youtube\" data-track-name=\"Instant Destiny\" data-track-url=\"/music/Tame+Impala/_/Instant+Destiny\" data-youtube-id=\"hWtY1t_8Y_M\" data-youtube-url=\"https://www.youtube.com/watch?v=hWtY1t_8Y_M\" href=\"https://www.youtube.com/watch?v=hWtY1t_8Y_M\" target=\"_blank\" title=\"Play on YouTube\">\n",
      "                \n",
      "                    Play track\n",
      "                \n",
      "            </a>\n",
      "</td>\n"
     ]
    }
   ],
   "source": [
    "# print(df[0].iloc[0])"
   ],
   "metadata": {
    "collapsed": false,
    "pycharm": {
     "name": "#%%\n"
    }
   }
  },
  {
   "cell_type": "code",
   "execution_count": 20,
   "outputs": [
    {
     "name": "stdout",
     "output_type": "stream",
     "text": [
      "<td class=\"chartlist-image\">\n",
      "<a class=\"cover-art\" href=\"/music/Tame+Impala/The+Slow+Rush\">\n",
      "<img alt=\"The Slow Rush\" loading=\"lazy\" src=\"https://lastfm.freetls.fastly.net/i/u/64s/832ade6a35ec2a224ea9a5be326b5de4.jpg\"/>\n",
      "</a>\n",
      "</td>\n"
     ]
    }
   ],
   "source": [
    "# print(df[1].iloc[0])"
   ],
   "metadata": {
    "collapsed": false,
    "pycharm": {
     "name": "#%%\n"
    }
   }
  },
  {
   "cell_type": "code",
   "execution_count": 21,
   "outputs": [
    {
     "name": "stdout",
     "output_type": "stream",
     "text": [
      "<td class=\"chartlist-loved\">\n",
      "<div data-toggle-button=\"\" data-toggle-button-current-state=\"unloved\" data-toggle-button-group-id=\"168db06e1573d13d61f9bff18d69759b\" data-toggle-button-states=\"[{&quot;name&quot;: &quot;unloved&quot;, &quot;button_text&quot;: &quot;ashen077 doesn't love this track&quot;, &quot;url&quot;: null, &quot;action&quot;: &quot;love&quot;, &quot;analytics_action&quot;: &quot;LoveTrack&quot;, &quot;event&quot;: &quot;track.love&quot;}, {&quot;name&quot;: &quot;loved&quot;, &quot;button_text&quot;: &quot;ashen077 loves this track&quot;, &quot;url&quot;: null, &quot;action&quot;: &quot;unlove&quot;, &quot;analytics_action&quot;: &quot;UnloveTrack&quot;, &quot;event&quot;: &quot;track.unlove&quot;}]\">\n",
      "<span class=\"toggle-button chartlist-love-button\">\n",
      "                ashen077 doesn't love this track\n",
      "            </span>\n",
      "</div>\n",
      "</td>\n"
     ]
    }
   ],
   "source": [
    "# print(df[2].iloc[0])"
   ],
   "metadata": {
    "collapsed": false,
    "pycharm": {
     "name": "#%%\n"
    }
   }
  },
  {
   "cell_type": "code",
   "execution_count": 22,
   "outputs": [
    {
     "name": "stdout",
     "output_type": "stream",
     "text": [
      "<td class=\"chartlist-name\" data-toggle-button=\"\" data-toggle-button-current-state=\"unloved\" data-toggle-button-group-id=\"168db06e1573d13d61f9bff18d69759b\">\n",
      "<a class=\"\" href=\"/music/Tame+Impala/_/Instant+Destiny\" title=\"Instant Destiny\">Instant Destiny</a>\n",
      "</td>\n"
     ]
    }
   ],
   "source": [
    "# print(df[3].iloc[0])"
   ],
   "metadata": {
    "collapsed": false,
    "pycharm": {
     "name": "#%%\n"
    }
   }
  },
  {
   "cell_type": "code",
   "execution_count": 23,
   "outputs": [
    {
     "name": "stdout",
     "output_type": "stream",
     "text": [
      "<td class=\"chartlist-artist\">\n",
      "<a href=\"/music/Tame+Impala\" title=\"Tame Impala\">Tame Impala</a>\n",
      "</td>\n"
     ]
    }
   ],
   "source": [
    "# print(df[4].iloc[0])"
   ],
   "metadata": {
    "collapsed": false,
    "pycharm": {
     "name": "#%%\n"
    }
   }
  },
  {
   "cell_type": "code",
   "execution_count": 24,
   "outputs": [
    {
     "name": "stdout",
     "output_type": "stream",
     "text": [
      "<td class=\"chartlist-buylinks focus-control\">\n",
      "<div class=\"lazy-buylinks\">\n",
      "<button aria-controls=\"buylinks-ed39b0f0-2e4b-45d8-85f6-4f466e0c5cc1\" aria-expanded=\"false\" class=\"disclose-trigger lazy-buylinks-toggle\" data-disclose-lazy-buylinks=\"\" data-dropdown-layout-at=\"center bottom+3\" data-lazy-buylink-url=\"/music/Tame+Impala/_/Instant+Destiny/+partial/buylinks\">Buy</button>\n",
      "<ul class=\"disclose-hide dropdown-menu-clickable buylinks-dropdown-menu\" id=\"buylinks-ed39b0f0-2e4b-45d8-85f6-4f466e0c5cc1\">\n",
      "<li aria-live=\"polite\" class=\"menu-loading\" data-lazy-buylinks-loading=\"\">Loading</li>\n",
      "</ul>\n",
      "</div>\n",
      "</td>\n"
     ]
    }
   ],
   "source": [
    "# print(df[5].iloc[0])"
   ],
   "metadata": {
    "collapsed": false,
    "pycharm": {
     "name": "#%%\n"
    }
   }
  },
  {
   "cell_type": "code",
   "execution_count": 25,
   "outputs": [
    {
     "name": "stdout",
     "output_type": "stream",
     "text": [
      "<td class=\"chartlist-more focus-control\">\n",
      "<div>\n",
      "<button aria-controls=\"chartlist-more-ff4d8066-1e3d-4707-b5e0-afb9ab546b01\" aria-expanded=\"false\" class=\"disclose-trigger chartlist-more-button\" data-disclose-lazy-buylinks=\"\" data-dropdown-layout-at=\"center bottom+3\" data-lazy-buylink-url=\"/music/Tame+Impala/_/Instant+Destiny/+partial/buylinks\">More</button>\n",
      "<ul class=\"disclose-hide disclose-hide--js-only dropdown-menu-clickable chartlist-more-menu\" id=\"chartlist-more-ff4d8066-1e3d-4707-b5e0-afb9ab546b01\">\n",
      "<li>\n",
      "<a class=\"dropdown-menu-clickable-item more-item--track\" href=\"/music/Tame+Impala/_/Instant+Destiny\">\n",
      "            \n",
      "                \n",
      "                    Go to track\n",
      "                \n",
      "            \n",
      "        </a>\n",
      "</li>\n",
      "<li>\n",
      "<a class=\"dropdown-menu-clickable-item more-item--track\" href=\"/user/ashen077/library/music/Tame+Impala/_/Instant+Destiny\">\n",
      "            \n",
      "                \n",
      "                    Go to track in library\n",
      "                \n",
      "            \n",
      "        </a>\n",
      "</li>\n",
      "<li>\n",
      "<a class=\"dropdown-menu-clickable-item more-item--artist\" href=\"/music/Tame+Impala\">\n",
      "            \n",
      "                \n",
      "                    Go to artist\n",
      "                \n",
      "            \n",
      "        </a>\n",
      "</li>\n",
      "<li>\n",
      "<a class=\"dropdown-menu-clickable-item more-item--artist\" href=\"/user/ashen077/library/music/Tame+Impala\">\n",
      "            \n",
      "                \n",
      "                    Go to artist in library\n",
      "                \n",
      "            \n",
      "        </a>\n",
      "</li>\n",
      "<li>\n",
      "<a class=\"mimic-link dropdown-menu-clickable-item more-item--obsession\" data-open-modal=\"/join/modal?action=set-obsession&amp;back_to=%2Fuser%2Fashen077%2Flibrary\" href=\"https://secure.last.fm/login?next=/user/ashen077/library\">\n",
      "            Set track as current obsession\n",
      "        </a>\n",
      "</li>\n",
      "<li class=\"visible-xs\">\n",
      "<span class=\"menu-title\">\n",
      "                                \n",
      "                                    Get track\n",
      "                                \n",
      "                            </span>\n",
      "<ul class=\"buylinks-dropdown-menu\">\n",
      "<li aria-live=\"polite\" class=\"menu-loading\" data-lazy-buylinks-loading=\"\">Loading</li>\n",
      "</ul>\n",
      "</li>\n",
      "</ul>\n",
      "</div>\n",
      "</td>\n"
     ]
    }
   ],
   "source": [
    "# print(df[6].iloc[0])"
   ],
   "metadata": {
    "collapsed": false,
    "pycharm": {
     "name": "#%%\n"
    }
   }
  },
  {
   "cell_type": "code",
   "execution_count": 26,
   "outputs": [
    {
     "name": "stdout",
     "output_type": "stream",
     "text": [
      "<td class=\"chartlist-timestamp chartlist-timestamp--lang-en\">\n",
      "<span title=\"Sunday 6 Dec 2020, 8:49am\">\n",
      "                        11 hours ago\n",
      "                    </span>\n",
      "</td>\n"
     ]
    }
   ],
   "source": [
    "# print(df[7].iloc[0])"
   ],
   "metadata": {
    "collapsed": false,
    "pycharm": {
     "name": "#%%\n"
    }
   }
  },
  {
   "cell_type": "code",
   "execution_count": 27,
   "outputs": [],
   "source": [
    "# df = df.drop([0, 2, 5, 6], axis=1)"
   ],
   "metadata": {
    "collapsed": false,
    "pycharm": {
     "name": "#%%\n"
    }
   }
  },
  {
   "cell_type": "code",
   "execution_count": 28,
   "outputs": [
    {
     "data": {
      "text/plain": "                        1                                                  3  \\\n0  [\\n, [\\n, [], \\n], \\n]                        [\\n, [Instant Destiny], \\n]   \n1  [\\n, [\\n, [], \\n], \\n]                          [\\n, [One More Year], \\n]   \n2  [\\n, [\\n, [], \\n], \\n]                          [\\n, [Warm December], \\n]   \n3  [\\n, [\\n, [], \\n], \\n]                [\\n, [Short Red Silk Lingerie], \\n]   \n4  [\\n, [\\n, [], \\n], \\n]  [\\n, [Have Yourself A Merry Little Christmas],...   \n5  [\\n, [\\n, [], \\n], \\n]                            [\\n, [Winter Time], \\n]   \n\n                                          4  \\\n0                   [\\n, [Tame Impala], \\n]   \n1                   [\\n, [Tame Impala], \\n]   \n2               [\\n, [Sabrina Claudio], \\n]   \n3               [\\n, [Sabrina Claudio], \\n]   \n4               [\\n, [Sabrina Claudio], \\n]   \n5  [\\n, [Sabrina Claudio, Alicia Keys], \\n]   \n\n                                                   7  \n0  [\\n, [\\n                        11 hours ago\\n...  \n1  [\\n, [\\n                        11 hours ago\\n...  \n2  [\\n, [\\n                        23 hours ago\\n...  \n3  [\\n, [\\n                        23 hours ago\\n...  \n4  [\\n, [\\n                        23 hours ago\\n...  \n5  [\\n, [\\n                        23 hours ago\\n...  ",
      "text/html": "<div>\n<style scoped>\n    .dataframe tbody tr th:only-of-type {\n        vertical-align: middle;\n    }\n\n    .dataframe tbody tr th {\n        vertical-align: top;\n    }\n\n    .dataframe thead th {\n        text-align: right;\n    }\n</style>\n<table border=\"1\" class=\"dataframe\">\n  <thead>\n    <tr style=\"text-align: right;\">\n      <th></th>\n      <th>1</th>\n      <th>3</th>\n      <th>4</th>\n      <th>7</th>\n    </tr>\n  </thead>\n  <tbody>\n    <tr>\n      <th>0</th>\n      <td>[\\n, [\\n, [], \\n], \\n]</td>\n      <td>[\\n, [Instant Destiny], \\n]</td>\n      <td>[\\n, [Tame Impala], \\n]</td>\n      <td>[\\n, [\\n                        11 hours ago\\n...</td>\n    </tr>\n    <tr>\n      <th>1</th>\n      <td>[\\n, [\\n, [], \\n], \\n]</td>\n      <td>[\\n, [One More Year], \\n]</td>\n      <td>[\\n, [Tame Impala], \\n]</td>\n      <td>[\\n, [\\n                        11 hours ago\\n...</td>\n    </tr>\n    <tr>\n      <th>2</th>\n      <td>[\\n, [\\n, [], \\n], \\n]</td>\n      <td>[\\n, [Warm December], \\n]</td>\n      <td>[\\n, [Sabrina Claudio], \\n]</td>\n      <td>[\\n, [\\n                        23 hours ago\\n...</td>\n    </tr>\n    <tr>\n      <th>3</th>\n      <td>[\\n, [\\n, [], \\n], \\n]</td>\n      <td>[\\n, [Short Red Silk Lingerie], \\n]</td>\n      <td>[\\n, [Sabrina Claudio], \\n]</td>\n      <td>[\\n, [\\n                        23 hours ago\\n...</td>\n    </tr>\n    <tr>\n      <th>4</th>\n      <td>[\\n, [\\n, [], \\n], \\n]</td>\n      <td>[\\n, [Have Yourself A Merry Little Christmas],...</td>\n      <td>[\\n, [Sabrina Claudio], \\n]</td>\n      <td>[\\n, [\\n                        23 hours ago\\n...</td>\n    </tr>\n    <tr>\n      <th>5</th>\n      <td>[\\n, [\\n, [], \\n], \\n]</td>\n      <td>[\\n, [Winter Time], \\n]</td>\n      <td>[\\n, [Sabrina Claudio, Alicia Keys], \\n]</td>\n      <td>[\\n, [\\n                        23 hours ago\\n...</td>\n    </tr>\n  </tbody>\n</table>\n</div>"
     },
     "execution_count": 28,
     "metadata": {},
     "output_type": "execute_result"
    }
   ],
   "source": [
    "# df.head(6)"
   ],
   "metadata": {
    "collapsed": false,
    "pycharm": {
     "name": "#%%\n"
    }
   }
  },
  {
   "cell_type": "code",
   "execution_count": 32,
   "outputs": [
    {
     "data": {
      "text/plain": "'The Slow Rush'"
     },
     "execution_count": 32,
     "metadata": {},
     "output_type": "execute_result"
    }
   ],
   "source": [
    "# df[1].iloc[0].img['alt']"
   ],
   "metadata": {
    "collapsed": false,
    "pycharm": {
     "name": "#%%\n"
    }
   }
  },
  {
   "cell_type": "code",
   "execution_count": 33,
   "outputs": [],
   "source": [
    "# df['Album'] = df[1].apply(lambda x: x.img['alt'])"
   ],
   "metadata": {
    "collapsed": false,
    "pycharm": {
     "name": "#%%\n"
    }
   }
  },
  {
   "cell_type": "code",
   "execution_count": 34,
   "outputs": [
    {
     "data": {
      "text/plain": "                        1                                                  3  \\\n0  [\\n, [\\n, [], \\n], \\n]                        [\\n, [Instant Destiny], \\n]   \n1  [\\n, [\\n, [], \\n], \\n]                          [\\n, [One More Year], \\n]   \n2  [\\n, [\\n, [], \\n], \\n]                          [\\n, [Warm December], \\n]   \n3  [\\n, [\\n, [], \\n], \\n]                [\\n, [Short Red Silk Lingerie], \\n]   \n4  [\\n, [\\n, [], \\n], \\n]  [\\n, [Have Yourself A Merry Little Christmas],...   \n5  [\\n, [\\n, [], \\n], \\n]                            [\\n, [Winter Time], \\n]   \n\n                                          4  \\\n0                   [\\n, [Tame Impala], \\n]   \n1                   [\\n, [Tame Impala], \\n]   \n2               [\\n, [Sabrina Claudio], \\n]   \n3               [\\n, [Sabrina Claudio], \\n]   \n4               [\\n, [Sabrina Claudio], \\n]   \n5  [\\n, [Sabrina Claudio, Alicia Keys], \\n]   \n\n                                                   7            Album  \n0  [\\n, [\\n                        11 hours ago\\n...    The Slow Rush  \n1  [\\n, [\\n                        11 hours ago\\n...    The Slow Rush  \n2  [\\n, [\\n                        23 hours ago\\n...  Christmas Blues  \n3  [\\n, [\\n                        23 hours ago\\n...  Christmas Blues  \n4  [\\n, [\\n                        23 hours ago\\n...  Christmas Blues  \n5  [\\n, [\\n                        23 hours ago\\n...  Christmas Blues  ",
      "text/html": "<div>\n<style scoped>\n    .dataframe tbody tr th:only-of-type {\n        vertical-align: middle;\n    }\n\n    .dataframe tbody tr th {\n        vertical-align: top;\n    }\n\n    .dataframe thead th {\n        text-align: right;\n    }\n</style>\n<table border=\"1\" class=\"dataframe\">\n  <thead>\n    <tr style=\"text-align: right;\">\n      <th></th>\n      <th>1</th>\n      <th>3</th>\n      <th>4</th>\n      <th>7</th>\n      <th>Album</th>\n    </tr>\n  </thead>\n  <tbody>\n    <tr>\n      <th>0</th>\n      <td>[\\n, [\\n, [], \\n], \\n]</td>\n      <td>[\\n, [Instant Destiny], \\n]</td>\n      <td>[\\n, [Tame Impala], \\n]</td>\n      <td>[\\n, [\\n                        11 hours ago\\n...</td>\n      <td>The Slow Rush</td>\n    </tr>\n    <tr>\n      <th>1</th>\n      <td>[\\n, [\\n, [], \\n], \\n]</td>\n      <td>[\\n, [One More Year], \\n]</td>\n      <td>[\\n, [Tame Impala], \\n]</td>\n      <td>[\\n, [\\n                        11 hours ago\\n...</td>\n      <td>The Slow Rush</td>\n    </tr>\n    <tr>\n      <th>2</th>\n      <td>[\\n, [\\n, [], \\n], \\n]</td>\n      <td>[\\n, [Warm December], \\n]</td>\n      <td>[\\n, [Sabrina Claudio], \\n]</td>\n      <td>[\\n, [\\n                        23 hours ago\\n...</td>\n      <td>Christmas Blues</td>\n    </tr>\n    <tr>\n      <th>3</th>\n      <td>[\\n, [\\n, [], \\n], \\n]</td>\n      <td>[\\n, [Short Red Silk Lingerie], \\n]</td>\n      <td>[\\n, [Sabrina Claudio], \\n]</td>\n      <td>[\\n, [\\n                        23 hours ago\\n...</td>\n      <td>Christmas Blues</td>\n    </tr>\n    <tr>\n      <th>4</th>\n      <td>[\\n, [\\n, [], \\n], \\n]</td>\n      <td>[\\n, [Have Yourself A Merry Little Christmas],...</td>\n      <td>[\\n, [Sabrina Claudio], \\n]</td>\n      <td>[\\n, [\\n                        23 hours ago\\n...</td>\n      <td>Christmas Blues</td>\n    </tr>\n    <tr>\n      <th>5</th>\n      <td>[\\n, [\\n, [], \\n], \\n]</td>\n      <td>[\\n, [Winter Time], \\n]</td>\n      <td>[\\n, [Sabrina Claudio, Alicia Keys], \\n]</td>\n      <td>[\\n, [\\n                        23 hours ago\\n...</td>\n      <td>Christmas Blues</td>\n    </tr>\n  </tbody>\n</table>\n</div>"
     },
     "execution_count": 34,
     "metadata": {},
     "output_type": "execute_result"
    }
   ],
   "source": [
    "# df.head(6)"
   ],
   "metadata": {
    "collapsed": false,
    "pycharm": {
     "name": "#%%\n"
    }
   }
  },
  {
   "cell_type": "code",
   "execution_count": 36,
   "outputs": [
    {
     "data": {
      "text/plain": "                        1                                                  3  \\\n0  [\\n, [\\n, [], \\n], \\n]                        [\\n, [Instant Destiny], \\n]   \n1  [\\n, [\\n, [], \\n], \\n]                          [\\n, [One More Year], \\n]   \n2  [\\n, [\\n, [], \\n], \\n]                          [\\n, [Warm December], \\n]   \n3  [\\n, [\\n, [], \\n], \\n]                [\\n, [Short Red Silk Lingerie], \\n]   \n4  [\\n, [\\n, [], \\n], \\n]  [\\n, [Have Yourself A Merry Little Christmas],...   \n5  [\\n, [\\n, [], \\n], \\n]                            [\\n, [Winter Time], \\n]   \n\n                                          4  \\\n0                   [\\n, [Tame Impala], \\n]   \n1                   [\\n, [Tame Impala], \\n]   \n2               [\\n, [Sabrina Claudio], \\n]   \n3               [\\n, [Sabrina Claudio], \\n]   \n4               [\\n, [Sabrina Claudio], \\n]   \n5  [\\n, [Sabrina Claudio, Alicia Keys], \\n]   \n\n                                                   7            Album  \\\n0  [\\n, [\\n                        11 hours ago\\n...    The Slow Rush   \n1  [\\n, [\\n                        11 hours ago\\n...    The Slow Rush   \n2  [\\n, [\\n                        23 hours ago\\n...  Christmas Blues   \n3  [\\n, [\\n                        23 hours ago\\n...  Christmas Blues   \n4  [\\n, [\\n                        23 hours ago\\n...  Christmas Blues   \n5  [\\n, [\\n                        23 hours ago\\n...  Christmas Blues   \n\n                          Time  \n0    Sunday 6 Dec 2020, 8:49am  \n1    Sunday 6 Dec 2020, 8:46am  \n2  Saturday 5 Dec 2020, 9:12pm  \n3  Saturday 5 Dec 2020, 9:09pm  \n4  Saturday 5 Dec 2020, 9:05pm  \n5  Saturday 5 Dec 2020, 9:01pm  ",
      "text/html": "<div>\n<style scoped>\n    .dataframe tbody tr th:only-of-type {\n        vertical-align: middle;\n    }\n\n    .dataframe tbody tr th {\n        vertical-align: top;\n    }\n\n    .dataframe thead th {\n        text-align: right;\n    }\n</style>\n<table border=\"1\" class=\"dataframe\">\n  <thead>\n    <tr style=\"text-align: right;\">\n      <th></th>\n      <th>1</th>\n      <th>3</th>\n      <th>4</th>\n      <th>7</th>\n      <th>Album</th>\n      <th>Time</th>\n    </tr>\n  </thead>\n  <tbody>\n    <tr>\n      <th>0</th>\n      <td>[\\n, [\\n, [], \\n], \\n]</td>\n      <td>[\\n, [Instant Destiny], \\n]</td>\n      <td>[\\n, [Tame Impala], \\n]</td>\n      <td>[\\n, [\\n                        11 hours ago\\n...</td>\n      <td>The Slow Rush</td>\n      <td>Sunday 6 Dec 2020, 8:49am</td>\n    </tr>\n    <tr>\n      <th>1</th>\n      <td>[\\n, [\\n, [], \\n], \\n]</td>\n      <td>[\\n, [One More Year], \\n]</td>\n      <td>[\\n, [Tame Impala], \\n]</td>\n      <td>[\\n, [\\n                        11 hours ago\\n...</td>\n      <td>The Slow Rush</td>\n      <td>Sunday 6 Dec 2020, 8:46am</td>\n    </tr>\n    <tr>\n      <th>2</th>\n      <td>[\\n, [\\n, [], \\n], \\n]</td>\n      <td>[\\n, [Warm December], \\n]</td>\n      <td>[\\n, [Sabrina Claudio], \\n]</td>\n      <td>[\\n, [\\n                        23 hours ago\\n...</td>\n      <td>Christmas Blues</td>\n      <td>Saturday 5 Dec 2020, 9:12pm</td>\n    </tr>\n    <tr>\n      <th>3</th>\n      <td>[\\n, [\\n, [], \\n], \\n]</td>\n      <td>[\\n, [Short Red Silk Lingerie], \\n]</td>\n      <td>[\\n, [Sabrina Claudio], \\n]</td>\n      <td>[\\n, [\\n                        23 hours ago\\n...</td>\n      <td>Christmas Blues</td>\n      <td>Saturday 5 Dec 2020, 9:09pm</td>\n    </tr>\n    <tr>\n      <th>4</th>\n      <td>[\\n, [\\n, [], \\n], \\n]</td>\n      <td>[\\n, [Have Yourself A Merry Little Christmas],...</td>\n      <td>[\\n, [Sabrina Claudio], \\n]</td>\n      <td>[\\n, [\\n                        23 hours ago\\n...</td>\n      <td>Christmas Blues</td>\n      <td>Saturday 5 Dec 2020, 9:05pm</td>\n    </tr>\n    <tr>\n      <th>5</th>\n      <td>[\\n, [\\n, [], \\n], \\n]</td>\n      <td>[\\n, [Winter Time], \\n]</td>\n      <td>[\\n, [Sabrina Claudio, Alicia Keys], \\n]</td>\n      <td>[\\n, [\\n                        23 hours ago\\n...</td>\n      <td>Christmas Blues</td>\n      <td>Saturday 5 Dec 2020, 9:01pm</td>\n    </tr>\n  </tbody>\n</table>\n</div>"
     },
     "execution_count": 36,
     "metadata": {},
     "output_type": "execute_result"
    }
   ],
   "source": [
    "# df['Time'] = df[7].apply(lambda x: x.span['title'])\n",
    "# df.head(6)"
   ],
   "metadata": {
    "collapsed": false,
    "pycharm": {
     "name": "#%%\n"
    }
   }
  },
  {
   "cell_type": "code",
   "execution_count": 37,
   "outputs": [],
   "source": [
    "# df['Track'] = df[3].apply(lambda x: x.a.getText())"
   ],
   "metadata": {
    "collapsed": false,
    "pycharm": {
     "name": "#%%\n"
    }
   }
  },
  {
   "cell_type": "code",
   "execution_count": 38,
   "outputs": [
    {
     "data": {
      "text/plain": "                        1                                                  3  \\\n0  [\\n, [\\n, [], \\n], \\n]                        [\\n, [Instant Destiny], \\n]   \n1  [\\n, [\\n, [], \\n], \\n]                          [\\n, [One More Year], \\n]   \n2  [\\n, [\\n, [], \\n], \\n]                          [\\n, [Warm December], \\n]   \n3  [\\n, [\\n, [], \\n], \\n]                [\\n, [Short Red Silk Lingerie], \\n]   \n4  [\\n, [\\n, [], \\n], \\n]  [\\n, [Have Yourself A Merry Little Christmas],...   \n5  [\\n, [\\n, [], \\n], \\n]                            [\\n, [Winter Time], \\n]   \n\n                                          4  \\\n0                   [\\n, [Tame Impala], \\n]   \n1                   [\\n, [Tame Impala], \\n]   \n2               [\\n, [Sabrina Claudio], \\n]   \n3               [\\n, [Sabrina Claudio], \\n]   \n4               [\\n, [Sabrina Claudio], \\n]   \n5  [\\n, [Sabrina Claudio, Alicia Keys], \\n]   \n\n                                                   7            Album  \\\n0  [\\n, [\\n                        11 hours ago\\n...    The Slow Rush   \n1  [\\n, [\\n                        11 hours ago\\n...    The Slow Rush   \n2  [\\n, [\\n                        23 hours ago\\n...  Christmas Blues   \n3  [\\n, [\\n                        23 hours ago\\n...  Christmas Blues   \n4  [\\n, [\\n                        23 hours ago\\n...  Christmas Blues   \n5  [\\n, [\\n                        23 hours ago\\n...  Christmas Blues   \n\n                          Time                                   Track  \n0    Sunday 6 Dec 2020, 8:49am                         Instant Destiny  \n1    Sunday 6 Dec 2020, 8:46am                           One More Year  \n2  Saturday 5 Dec 2020, 9:12pm                           Warm December  \n3  Saturday 5 Dec 2020, 9:09pm                 Short Red Silk Lingerie  \n4  Saturday 5 Dec 2020, 9:05pm  Have Yourself A Merry Little Christmas  \n5  Saturday 5 Dec 2020, 9:01pm                             Winter Time  ",
      "text/html": "<div>\n<style scoped>\n    .dataframe tbody tr th:only-of-type {\n        vertical-align: middle;\n    }\n\n    .dataframe tbody tr th {\n        vertical-align: top;\n    }\n\n    .dataframe thead th {\n        text-align: right;\n    }\n</style>\n<table border=\"1\" class=\"dataframe\">\n  <thead>\n    <tr style=\"text-align: right;\">\n      <th></th>\n      <th>1</th>\n      <th>3</th>\n      <th>4</th>\n      <th>7</th>\n      <th>Album</th>\n      <th>Time</th>\n      <th>Track</th>\n    </tr>\n  </thead>\n  <tbody>\n    <tr>\n      <th>0</th>\n      <td>[\\n, [\\n, [], \\n], \\n]</td>\n      <td>[\\n, [Instant Destiny], \\n]</td>\n      <td>[\\n, [Tame Impala], \\n]</td>\n      <td>[\\n, [\\n                        11 hours ago\\n...</td>\n      <td>The Slow Rush</td>\n      <td>Sunday 6 Dec 2020, 8:49am</td>\n      <td>Instant Destiny</td>\n    </tr>\n    <tr>\n      <th>1</th>\n      <td>[\\n, [\\n, [], \\n], \\n]</td>\n      <td>[\\n, [One More Year], \\n]</td>\n      <td>[\\n, [Tame Impala], \\n]</td>\n      <td>[\\n, [\\n                        11 hours ago\\n...</td>\n      <td>The Slow Rush</td>\n      <td>Sunday 6 Dec 2020, 8:46am</td>\n      <td>One More Year</td>\n    </tr>\n    <tr>\n      <th>2</th>\n      <td>[\\n, [\\n, [], \\n], \\n]</td>\n      <td>[\\n, [Warm December], \\n]</td>\n      <td>[\\n, [Sabrina Claudio], \\n]</td>\n      <td>[\\n, [\\n                        23 hours ago\\n...</td>\n      <td>Christmas Blues</td>\n      <td>Saturday 5 Dec 2020, 9:12pm</td>\n      <td>Warm December</td>\n    </tr>\n    <tr>\n      <th>3</th>\n      <td>[\\n, [\\n, [], \\n], \\n]</td>\n      <td>[\\n, [Short Red Silk Lingerie], \\n]</td>\n      <td>[\\n, [Sabrina Claudio], \\n]</td>\n      <td>[\\n, [\\n                        23 hours ago\\n...</td>\n      <td>Christmas Blues</td>\n      <td>Saturday 5 Dec 2020, 9:09pm</td>\n      <td>Short Red Silk Lingerie</td>\n    </tr>\n    <tr>\n      <th>4</th>\n      <td>[\\n, [\\n, [], \\n], \\n]</td>\n      <td>[\\n, [Have Yourself A Merry Little Christmas],...</td>\n      <td>[\\n, [Sabrina Claudio], \\n]</td>\n      <td>[\\n, [\\n                        23 hours ago\\n...</td>\n      <td>Christmas Blues</td>\n      <td>Saturday 5 Dec 2020, 9:05pm</td>\n      <td>Have Yourself A Merry Little Christmas</td>\n    </tr>\n    <tr>\n      <th>5</th>\n      <td>[\\n, [\\n, [], \\n], \\n]</td>\n      <td>[\\n, [Winter Time], \\n]</td>\n      <td>[\\n, [Sabrina Claudio, Alicia Keys], \\n]</td>\n      <td>[\\n, [\\n                        23 hours ago\\n...</td>\n      <td>Christmas Blues</td>\n      <td>Saturday 5 Dec 2020, 9:01pm</td>\n      <td>Winter Time</td>\n    </tr>\n  </tbody>\n</table>\n</div>"
     },
     "execution_count": 38,
     "metadata": {},
     "output_type": "execute_result"
    }
   ],
   "source": [
    "# df.head(6)"
   ],
   "metadata": {
    "collapsed": false,
    "pycharm": {
     "name": "#%%\n"
    }
   }
  },
  {
   "cell_type": "code",
   "execution_count": 40,
   "outputs": [
    {
     "data": {
      "text/plain": "             Album                         Time  \\\n0    The Slow Rush    Sunday 6 Dec 2020, 8:49am   \n1    The Slow Rush    Sunday 6 Dec 2020, 8:46am   \n2  Christmas Blues  Saturday 5 Dec 2020, 9:12pm   \n3  Christmas Blues  Saturday 5 Dec 2020, 9:09pm   \n4  Christmas Blues  Saturday 5 Dec 2020, 9:05pm   \n5  Christmas Blues  Saturday 5 Dec 2020, 9:01pm   \n\n                                    Track                        Artist  \n0                         Instant Destiny                   Tame Impala  \n1                           One More Year                   Tame Impala  \n2                           Warm December               Sabrina Claudio  \n3                 Short Red Silk Lingerie               Sabrina Claudio  \n4  Have Yourself A Merry Little Christmas               Sabrina Claudio  \n5                             Winter Time  Sabrina Claudio, Alicia Keys  ",
      "text/html": "<div>\n<style scoped>\n    .dataframe tbody tr th:only-of-type {\n        vertical-align: middle;\n    }\n\n    .dataframe tbody tr th {\n        vertical-align: top;\n    }\n\n    .dataframe thead th {\n        text-align: right;\n    }\n</style>\n<table border=\"1\" class=\"dataframe\">\n  <thead>\n    <tr style=\"text-align: right;\">\n      <th></th>\n      <th>Album</th>\n      <th>Time</th>\n      <th>Track</th>\n      <th>Artist</th>\n    </tr>\n  </thead>\n  <tbody>\n    <tr>\n      <th>0</th>\n      <td>The Slow Rush</td>\n      <td>Sunday 6 Dec 2020, 8:49am</td>\n      <td>Instant Destiny</td>\n      <td>Tame Impala</td>\n    </tr>\n    <tr>\n      <th>1</th>\n      <td>The Slow Rush</td>\n      <td>Sunday 6 Dec 2020, 8:46am</td>\n      <td>One More Year</td>\n      <td>Tame Impala</td>\n    </tr>\n    <tr>\n      <th>2</th>\n      <td>Christmas Blues</td>\n      <td>Saturday 5 Dec 2020, 9:12pm</td>\n      <td>Warm December</td>\n      <td>Sabrina Claudio</td>\n    </tr>\n    <tr>\n      <th>3</th>\n      <td>Christmas Blues</td>\n      <td>Saturday 5 Dec 2020, 9:09pm</td>\n      <td>Short Red Silk Lingerie</td>\n      <td>Sabrina Claudio</td>\n    </tr>\n    <tr>\n      <th>4</th>\n      <td>Christmas Blues</td>\n      <td>Saturday 5 Dec 2020, 9:05pm</td>\n      <td>Have Yourself A Merry Little Christmas</td>\n      <td>Sabrina Claudio</td>\n    </tr>\n    <tr>\n      <th>5</th>\n      <td>Christmas Blues</td>\n      <td>Saturday 5 Dec 2020, 9:01pm</td>\n      <td>Winter Time</td>\n      <td>Sabrina Claudio, Alicia Keys</td>\n    </tr>\n  </tbody>\n</table>\n</div>"
     },
     "execution_count": 40,
     "metadata": {},
     "output_type": "execute_result"
    }
   ],
   "source": [
    "# df['Artist'] = df[4].apply(lambda x: x.a.getText())\n",
    "# df = df.drop([1,3,4,7], axis=1)\n",
    "# df.head(6)"
   ],
   "metadata": {
    "collapsed": false,
    "pycharm": {
     "name": "#%%\n"
    }
   }
  },
  {
   "cell_type": "code",
   "execution_count": 4,
   "outputs": [
    {
     "data": {
      "text/plain": "        Artist Album            Track                        Time\n0  Tove Styrke  Sway       On a Level  Sunday 6 Dec 2020, 11:38am\n1  Tove Styrke  Sway           I Lied  Sunday 6 Dec 2020, 11:34am\n2  Tove Styrke  Sway  Changed My Mind  Sunday 6 Dec 2020, 11:31am\n3  Tove Styrke  Sway         Mistakes  Sunday 6 Dec 2020, 11:28am\n4  Tove Styrke  Sway       On The Low  Sunday 6 Dec 2020, 11:25am\n5  Tove Styrke  Sway      Say My Name  Sunday 6 Dec 2020, 11:21am",
      "text/html": "<div>\n<style scoped>\n    .dataframe tbody tr th:only-of-type {\n        vertical-align: middle;\n    }\n\n    .dataframe tbody tr th {\n        vertical-align: top;\n    }\n\n    .dataframe thead th {\n        text-align: right;\n    }\n</style>\n<table border=\"1\" class=\"dataframe\">\n  <thead>\n    <tr style=\"text-align: right;\">\n      <th></th>\n      <th>Artist</th>\n      <th>Album</th>\n      <th>Track</th>\n      <th>Time</th>\n    </tr>\n  </thead>\n  <tbody>\n    <tr>\n      <th>0</th>\n      <td>Tove Styrke</td>\n      <td>Sway</td>\n      <td>On a Level</td>\n      <td>Sunday 6 Dec 2020, 11:38am</td>\n    </tr>\n    <tr>\n      <th>1</th>\n      <td>Tove Styrke</td>\n      <td>Sway</td>\n      <td>I Lied</td>\n      <td>Sunday 6 Dec 2020, 11:34am</td>\n    </tr>\n    <tr>\n      <th>2</th>\n      <td>Tove Styrke</td>\n      <td>Sway</td>\n      <td>Changed My Mind</td>\n      <td>Sunday 6 Dec 2020, 11:31am</td>\n    </tr>\n    <tr>\n      <th>3</th>\n      <td>Tove Styrke</td>\n      <td>Sway</td>\n      <td>Mistakes</td>\n      <td>Sunday 6 Dec 2020, 11:28am</td>\n    </tr>\n    <tr>\n      <th>4</th>\n      <td>Tove Styrke</td>\n      <td>Sway</td>\n      <td>On The Low</td>\n      <td>Sunday 6 Dec 2020, 11:25am</td>\n    </tr>\n    <tr>\n      <th>5</th>\n      <td>Tove Styrke</td>\n      <td>Sway</td>\n      <td>Say My Name</td>\n      <td>Sunday 6 Dec 2020, 11:21am</td>\n    </tr>\n  </tbody>\n</table>\n</div>"
     },
     "execution_count": 4,
     "metadata": {},
     "output_type": "execute_result"
    }
   ],
   "source": [
    "# df = ashen077.extract_data(charts)\n",
    "# df.head(6)"
   ],
   "metadata": {
    "collapsed": false,
    "pycharm": {
     "name": "#%%\n"
    }
   }
  },
  {
   "cell_type": "code",
   "execution_count": 5,
   "outputs": [],
   "source": [
    "# df_s1 = df.head(6)\n",
    "# df_s2 = df.tail(6)"
   ],
   "metadata": {
    "collapsed": false,
    "pycharm": {
     "name": "#%%\n"
    }
   }
  },
  {
   "cell_type": "code",
   "execution_count": 7,
   "outputs": [
    {
     "data": {
      "text/plain": "    index           Artist                Album               Track  \\\n0       0      Tove Styrke                 Sway          On a Level   \n1       1      Tove Styrke                 Sway              I Lied   \n2       2      Tove Styrke                 Sway     Changed My Mind   \n3       3      Tove Styrke                 Sway            Mistakes   \n4       4      Tove Styrke                 Sway          On The Low   \n5       5      Tove Styrke                 Sway         Say My Name   \n6      44  Sabrina Claudio  No Rain, No Flowers            Creation   \n7      45  Sabrina Claudio  No Rain, No Flowers               Cycle   \n8      46  Sabrina Claudio  No Rain, No Flowers               Naked   \n9      47  Sabrina Claudio  No Rain, No Flowers           Come Here   \n10     48  Sabrina Claudio     Confidently Lost  Tell Me (Acoustic)   \n11     49  Sabrina Claudio     Confidently Lost             I Don't   \n\n                           Time  \n0    Sunday 6 Dec 2020, 11:38am  \n1    Sunday 6 Dec 2020, 11:34am  \n2    Sunday 6 Dec 2020, 11:31am  \n3    Sunday 6 Dec 2020, 11:28am  \n4    Sunday 6 Dec 2020, 11:25am  \n5    Sunday 6 Dec 2020, 11:21am  \n6   Saturday 5 Dec 2020, 7:50pm  \n7   Saturday 5 Dec 2020, 7:47pm  \n8   Saturday 5 Dec 2020, 7:43pm  \n9   Saturday 5 Dec 2020, 7:40pm  \n10  Saturday 5 Dec 2020, 7:36pm  \n11  Saturday 5 Dec 2020, 7:32pm  ",
      "text/html": "<div>\n<style scoped>\n    .dataframe tbody tr th:only-of-type {\n        vertical-align: middle;\n    }\n\n    .dataframe tbody tr th {\n        vertical-align: top;\n    }\n\n    .dataframe thead th {\n        text-align: right;\n    }\n</style>\n<table border=\"1\" class=\"dataframe\">\n  <thead>\n    <tr style=\"text-align: right;\">\n      <th></th>\n      <th>index</th>\n      <th>Artist</th>\n      <th>Album</th>\n      <th>Track</th>\n      <th>Time</th>\n    </tr>\n  </thead>\n  <tbody>\n    <tr>\n      <th>0</th>\n      <td>0</td>\n      <td>Tove Styrke</td>\n      <td>Sway</td>\n      <td>On a Level</td>\n      <td>Sunday 6 Dec 2020, 11:38am</td>\n    </tr>\n    <tr>\n      <th>1</th>\n      <td>1</td>\n      <td>Tove Styrke</td>\n      <td>Sway</td>\n      <td>I Lied</td>\n      <td>Sunday 6 Dec 2020, 11:34am</td>\n    </tr>\n    <tr>\n      <th>2</th>\n      <td>2</td>\n      <td>Tove Styrke</td>\n      <td>Sway</td>\n      <td>Changed My Mind</td>\n      <td>Sunday 6 Dec 2020, 11:31am</td>\n    </tr>\n    <tr>\n      <th>3</th>\n      <td>3</td>\n      <td>Tove Styrke</td>\n      <td>Sway</td>\n      <td>Mistakes</td>\n      <td>Sunday 6 Dec 2020, 11:28am</td>\n    </tr>\n    <tr>\n      <th>4</th>\n      <td>4</td>\n      <td>Tove Styrke</td>\n      <td>Sway</td>\n      <td>On The Low</td>\n      <td>Sunday 6 Dec 2020, 11:25am</td>\n    </tr>\n    <tr>\n      <th>5</th>\n      <td>5</td>\n      <td>Tove Styrke</td>\n      <td>Sway</td>\n      <td>Say My Name</td>\n      <td>Sunday 6 Dec 2020, 11:21am</td>\n    </tr>\n    <tr>\n      <th>6</th>\n      <td>44</td>\n      <td>Sabrina Claudio</td>\n      <td>No Rain, No Flowers</td>\n      <td>Creation</td>\n      <td>Saturday 5 Dec 2020, 7:50pm</td>\n    </tr>\n    <tr>\n      <th>7</th>\n      <td>45</td>\n      <td>Sabrina Claudio</td>\n      <td>No Rain, No Flowers</td>\n      <td>Cycle</td>\n      <td>Saturday 5 Dec 2020, 7:47pm</td>\n    </tr>\n    <tr>\n      <th>8</th>\n      <td>46</td>\n      <td>Sabrina Claudio</td>\n      <td>No Rain, No Flowers</td>\n      <td>Naked</td>\n      <td>Saturday 5 Dec 2020, 7:43pm</td>\n    </tr>\n    <tr>\n      <th>9</th>\n      <td>47</td>\n      <td>Sabrina Claudio</td>\n      <td>No Rain, No Flowers</td>\n      <td>Come Here</td>\n      <td>Saturday 5 Dec 2020, 7:40pm</td>\n    </tr>\n    <tr>\n      <th>10</th>\n      <td>48</td>\n      <td>Sabrina Claudio</td>\n      <td>Confidently Lost</td>\n      <td>Tell Me (Acoustic)</td>\n      <td>Saturday 5 Dec 2020, 7:36pm</td>\n    </tr>\n    <tr>\n      <th>11</th>\n      <td>49</td>\n      <td>Sabrina Claudio</td>\n      <td>Confidently Lost</td>\n      <td>I Don't</td>\n      <td>Saturday 5 Dec 2020, 7:32pm</td>\n    </tr>\n  </tbody>\n</table>\n</div>"
     },
     "execution_count": 7,
     "metadata": {},
     "output_type": "execute_result"
    }
   ],
   "source": [
    "# df_s1.append(df_s2).reset_index()"
   ],
   "metadata": {
    "collapsed": false,
    "pycharm": {
     "name": "#%%\n"
    }
   }
  },
  {
   "cell_type": "code",
   "execution_count": 8,
   "outputs": [
    {
     "data": {
      "text/plain": "(bs4.element.ResultSet, 544)"
     },
     "execution_count": 8,
     "metadata": {},
     "output_type": "execute_result"
    }
   ],
   "source": [
    "out = ashen077.track_lists('https://www.last.fm/user/ashen077/library?page=1')\n",
    "type(out), getsizeof(out)"
   ],
   "metadata": {
    "collapsed": false,
    "pycharm": {
     "name": "#%%\n"
    }
   }
  },
  {
   "cell_type": "code",
   "execution_count": 12,
   "outputs": [],
   "source": [
    "def track_lists(page):\n",
    "    html = req.urlopen(page)\n",
    "    DOM = bs(html, 'lxml')\n",
    "    trackList = DOM.find_all('tr', class_='chartlist-row')\n",
    "\n",
    "    return trackList"
   ],
   "metadata": {
    "collapsed": false,
    "pycharm": {
     "name": "#%%\n"
    }
   }
  },
  {
   "cell_type": "code",
   "execution_count": 13,
   "outputs": [
    {
     "data": {
      "text/plain": "(bs4.element.ResultSet, 544)"
     },
     "execution_count": 13,
     "metadata": {},
     "output_type": "execute_result"
    }
   ],
   "source": [
    "out_old = track_lists('https://www.last.fm/user/ashen077/library?page=1')\n",
    "type(out_old), getsizeof(out_old)"
   ],
   "metadata": {
    "collapsed": false,
    "pycharm": {
     "name": "#%%\n"
    }
   }
  },
  {
   "cell_type": "code",
   "execution_count": 7,
   "outputs": [
    {
     "data": {
      "text/plain": "(requests.models.Response, <Response [200]>)"
     },
     "execution_count": 7,
     "metadata": {},
     "output_type": "execute_result"
    }
   ],
   "source": [
    "url = 'https://www.last.fm/user/ashen077/library?page=200'\n",
    "response = r.get(url=url)\n",
    "type(response), response"
   ],
   "metadata": {
    "collapsed": false,
    "pycharm": {
     "name": "#%%\n"
    }
   }
  },
  {
   "cell_type": "code",
   "execution_count": 16,
   "outputs": [
    {
     "name": "stdout",
     "output_type": "stream",
     "text": [
      "success https://www.last.fm/user/ashen077/library?page=0\n",
      "success https://www.last.fm/user/ashen077/library?page=1\n",
      "success https://www.last.fm/user/ashen077/library?page=2\n",
      "success https://www.last.fm/user/ashen077/library?page=3\n",
      "success https://www.last.fm/user/ashen077/library?page=4\n",
      "success https://www.last.fm/user/ashen077/library?page=5\n",
      "success https://www.last.fm/user/ashen077/library?page=6\n",
      "success https://www.last.fm/user/ashen077/library?page=7\n",
      "success https://www.last.fm/user/ashen077/library?page=8\n",
      "success https://www.last.fm/user/ashen077/library?page=9\n",
      "success https://www.last.fm/user/ashen077/library?page=10\n",
      "success https://www.last.fm/user/ashen077/library?page=11\n",
      "success https://www.last.fm/user/ashen077/library?page=12\n",
      "success https://www.last.fm/user/ashen077/library?page=13\n",
      "success https://www.last.fm/user/ashen077/library?page=14\n",
      "success https://www.last.fm/user/ashen077/library?page=15\n",
      "success https://www.last.fm/user/ashen077/library?page=16\n",
      "success https://www.last.fm/user/ashen077/library?page=17\n",
      "success https://www.last.fm/user/ashen077/library?page=18\n",
      "success https://www.last.fm/user/ashen077/library?page=19\n",
      "success https://www.last.fm/user/ashen077/library?page=20\n",
      "success https://www.last.fm/user/ashen077/library?page=21\n",
      "success https://www.last.fm/user/ashen077/library?page=22\n",
      "success https://www.last.fm/user/ashen077/library?page=23\n",
      "success https://www.last.fm/user/ashen077/library?page=24\n",
      "success https://www.last.fm/user/ashen077/library?page=25\n",
      "success https://www.last.fm/user/ashen077/library?page=26\n",
      "success https://www.last.fm/user/ashen077/library?page=27\n",
      "success https://www.last.fm/user/ashen077/library?page=28\n",
      "success https://www.last.fm/user/ashen077/library?page=29\n",
      "success https://www.last.fm/user/ashen077/library?page=30\n",
      "success https://www.last.fm/user/ashen077/library?page=31\n",
      "success https://www.last.fm/user/ashen077/library?page=32\n",
      "success https://www.last.fm/user/ashen077/library?page=33\n",
      "success https://www.last.fm/user/ashen077/library?page=34\n",
      "success https://www.last.fm/user/ashen077/library?page=35\n",
      "success https://www.last.fm/user/ashen077/library?page=36\n",
      "success https://www.last.fm/user/ashen077/library?page=37\n",
      "success https://www.last.fm/user/ashen077/library?page=38\n",
      "success https://www.last.fm/user/ashen077/library?page=39\n",
      "success https://www.last.fm/user/ashen077/library?page=40\n",
      "success https://www.last.fm/user/ashen077/library?page=41\n",
      "success https://www.last.fm/user/ashen077/library?page=42\n",
      "success https://www.last.fm/user/ashen077/library?page=43\n",
      "success https://www.last.fm/user/ashen077/library?page=44\n",
      "success https://www.last.fm/user/ashen077/library?page=45\n",
      "success https://www.last.fm/user/ashen077/library?page=46\n",
      "success https://www.last.fm/user/ashen077/library?page=47\n",
      "success https://www.last.fm/user/ashen077/library?page=48\n",
      "success https://www.last.fm/user/ashen077/library?page=49\n",
      "success https://www.last.fm/user/ashen077/library?page=50\n",
      "success https://www.last.fm/user/ashen077/library?page=51\n",
      "success https://www.last.fm/user/ashen077/library?page=52\n",
      "success https://www.last.fm/user/ashen077/library?page=53\n",
      "success https://www.last.fm/user/ashen077/library?page=54\n",
      "success https://www.last.fm/user/ashen077/library?page=55\n",
      "success https://www.last.fm/user/ashen077/library?page=56\n",
      "success https://www.last.fm/user/ashen077/library?page=57\n",
      "success https://www.last.fm/user/ashen077/library?page=58\n",
      "success https://www.last.fm/user/ashen077/library?page=59\n",
      "success https://www.last.fm/user/ashen077/library?page=60\n",
      "success https://www.last.fm/user/ashen077/library?page=61\n",
      "success https://www.last.fm/user/ashen077/library?page=62\n",
      "success https://www.last.fm/user/ashen077/library?page=63\n",
      "success https://www.last.fm/user/ashen077/library?page=64\n",
      "success https://www.last.fm/user/ashen077/library?page=65\n",
      "success https://www.last.fm/user/ashen077/library?page=66\n",
      "success https://www.last.fm/user/ashen077/library?page=67\n",
      "success https://www.last.fm/user/ashen077/library?page=68\n",
      "success https://www.last.fm/user/ashen077/library?page=69\n",
      "success https://www.last.fm/user/ashen077/library?page=70\n",
      "success https://www.last.fm/user/ashen077/library?page=71\n",
      "success https://www.last.fm/user/ashen077/library?page=72\n",
      "success https://www.last.fm/user/ashen077/library?page=73\n",
      "success https://www.last.fm/user/ashen077/library?page=74\n",
      "success https://www.last.fm/user/ashen077/library?page=75\n",
      "success https://www.last.fm/user/ashen077/library?page=76\n",
      "success https://www.last.fm/user/ashen077/library?page=77\n",
      "success https://www.last.fm/user/ashen077/library?page=78\n",
      "success https://www.last.fm/user/ashen077/library?page=79\n",
      "success https://www.last.fm/user/ashen077/library?page=80\n",
      "success https://www.last.fm/user/ashen077/library?page=81\n",
      "success https://www.last.fm/user/ashen077/library?page=82\n",
      "success https://www.last.fm/user/ashen077/library?page=83\n",
      "success https://www.last.fm/user/ashen077/library?page=84\n",
      "success https://www.last.fm/user/ashen077/library?page=85\n",
      "success https://www.last.fm/user/ashen077/library?page=86\n",
      "success https://www.last.fm/user/ashen077/library?page=87\n",
      "success https://www.last.fm/user/ashen077/library?page=88\n",
      "success https://www.last.fm/user/ashen077/library?page=89\n",
      "success https://www.last.fm/user/ashen077/library?page=90\n",
      "success https://www.last.fm/user/ashen077/library?page=91\n",
      "success https://www.last.fm/user/ashen077/library?page=92\n",
      "success https://www.last.fm/user/ashen077/library?page=93\n",
      "success https://www.last.fm/user/ashen077/library?page=94\n",
      "success https://www.last.fm/user/ashen077/library?page=95\n",
      "success https://www.last.fm/user/ashen077/library?page=96\n",
      "success https://www.last.fm/user/ashen077/library?page=97\n",
      "success https://www.last.fm/user/ashen077/library?page=98\n",
      "success https://www.last.fm/user/ashen077/library?page=99\n",
      "success https://www.last.fm/user/ashen077/library?page=100\n",
      "success https://www.last.fm/user/ashen077/library?page=101\n",
      "success https://www.last.fm/user/ashen077/library?page=102\n",
      "success https://www.last.fm/user/ashen077/library?page=103\n",
      "success https://www.last.fm/user/ashen077/library?page=104\n",
      "success https://www.last.fm/user/ashen077/library?page=105\n",
      "success https://www.last.fm/user/ashen077/library?page=106\n",
      "success https://www.last.fm/user/ashen077/library?page=107\n",
      "success https://www.last.fm/user/ashen077/library?page=108\n",
      "success https://www.last.fm/user/ashen077/library?page=109\n",
      "success https://www.last.fm/user/ashen077/library?page=110\n",
      "success https://www.last.fm/user/ashen077/library?page=111\n",
      "success https://www.last.fm/user/ashen077/library?page=112\n",
      "success https://www.last.fm/user/ashen077/library?page=113\n",
      "success https://www.last.fm/user/ashen077/library?page=114\n",
      "success https://www.last.fm/user/ashen077/library?page=115\n",
      "success https://www.last.fm/user/ashen077/library?page=116\n",
      "success https://www.last.fm/user/ashen077/library?page=117\n",
      "success https://www.last.fm/user/ashen077/library?page=118\n",
      "success https://www.last.fm/user/ashen077/library?page=119\n",
      "success https://www.last.fm/user/ashen077/library?page=120\n",
      "success https://www.last.fm/user/ashen077/library?page=121\n",
      "success https://www.last.fm/user/ashen077/library?page=122\n",
      "success https://www.last.fm/user/ashen077/library?page=123\n",
      "success https://www.last.fm/user/ashen077/library?page=124\n",
      "success https://www.last.fm/user/ashen077/library?page=125\n",
      "success https://www.last.fm/user/ashen077/library?page=126\n",
      "success https://www.last.fm/user/ashen077/library?page=127\n",
      "success https://www.last.fm/user/ashen077/library?page=128\n",
      "success https://www.last.fm/user/ashen077/library?page=129\n",
      "success https://www.last.fm/user/ashen077/library?page=130\n",
      "success https://www.last.fm/user/ashen077/library?page=131\n",
      "success https://www.last.fm/user/ashen077/library?page=132\n",
      "success https://www.last.fm/user/ashen077/library?page=133\n",
      "success https://www.last.fm/user/ashen077/library?page=134\n",
      "success https://www.last.fm/user/ashen077/library?page=135\n",
      "success https://www.last.fm/user/ashen077/library?page=136\n",
      "success https://www.last.fm/user/ashen077/library?page=137\n",
      "success https://www.last.fm/user/ashen077/library?page=138\n",
      "success https://www.last.fm/user/ashen077/library?page=139\n",
      "success https://www.last.fm/user/ashen077/library?page=140\n",
      "success https://www.last.fm/user/ashen077/library?page=141\n",
      "success https://www.last.fm/user/ashen077/library?page=142\n",
      "success https://www.last.fm/user/ashen077/library?page=143\n",
      "success https://www.last.fm/user/ashen077/library?page=144\n",
      "success https://www.last.fm/user/ashen077/library?page=145\n",
      "success https://www.last.fm/user/ashen077/library?page=146\n",
      "success https://www.last.fm/user/ashen077/library?page=147\n",
      "success https://www.last.fm/user/ashen077/library?page=148\n",
      "success https://www.last.fm/user/ashen077/library?page=149\n",
      "success https://www.last.fm/user/ashen077/library?page=150\n",
      "success https://www.last.fm/user/ashen077/library?page=151\n",
      "success https://www.last.fm/user/ashen077/library?page=152\n",
      "success https://www.last.fm/user/ashen077/library?page=153\n",
      "success https://www.last.fm/user/ashen077/library?page=154\n",
      "success https://www.last.fm/user/ashen077/library?page=155\n",
      "success https://www.last.fm/user/ashen077/library?page=156\n",
      "success https://www.last.fm/user/ashen077/library?page=157\n",
      "success https://www.last.fm/user/ashen077/library?page=158\n",
      "success https://www.last.fm/user/ashen077/library?page=159\n",
      "success https://www.last.fm/user/ashen077/library?page=160\n",
      "success https://www.last.fm/user/ashen077/library?page=161\n",
      "success https://www.last.fm/user/ashen077/library?page=162\n",
      "success https://www.last.fm/user/ashen077/library?page=163\n",
      "success https://www.last.fm/user/ashen077/library?page=164\n",
      "success https://www.last.fm/user/ashen077/library?page=165\n",
      "success https://www.last.fm/user/ashen077/library?page=166\n",
      "success https://www.last.fm/user/ashen077/library?page=167\n",
      "success https://www.last.fm/user/ashen077/library?page=168\n",
      "success https://www.last.fm/user/ashen077/library?page=169\n",
      "success https://www.last.fm/user/ashen077/library?page=170\n",
      "success https://www.last.fm/user/ashen077/library?page=171\n",
      "success https://www.last.fm/user/ashen077/library?page=172\n",
      "success https://www.last.fm/user/ashen077/library?page=173\n",
      "success https://www.last.fm/user/ashen077/library?page=174\n",
      "success https://www.last.fm/user/ashen077/library?page=175\n",
      "success https://www.last.fm/user/ashen077/library?page=176\n",
      "success https://www.last.fm/user/ashen077/library?page=177\n",
      "success https://www.last.fm/user/ashen077/library?page=178\n",
      "success https://www.last.fm/user/ashen077/library?page=179\n",
      "success https://www.last.fm/user/ashen077/library?page=180\n",
      "success https://www.last.fm/user/ashen077/library?page=181\n",
      "success https://www.last.fm/user/ashen077/library?page=182\n",
      "success https://www.last.fm/user/ashen077/library?page=183\n",
      "success https://www.last.fm/user/ashen077/library?page=184\n",
      "success https://www.last.fm/user/ashen077/library?page=185\n",
      "success https://www.last.fm/user/ashen077/library?page=186\n",
      "success https://www.last.fm/user/ashen077/library?page=187\n",
      "success https://www.last.fm/user/ashen077/library?page=188\n",
      "success https://www.last.fm/user/ashen077/library?page=189\n",
      "success https://www.last.fm/user/ashen077/library?page=190\n",
      "success https://www.last.fm/user/ashen077/library?page=191\n",
      "success https://www.last.fm/user/ashen077/library?page=192\n",
      "success https://www.last.fm/user/ashen077/library?page=193\n",
      "success https://www.last.fm/user/ashen077/library?page=194\n",
      "success https://www.last.fm/user/ashen077/library?page=195\n",
      "success https://www.last.fm/user/ashen077/library?page=196\n",
      "success https://www.last.fm/user/ashen077/library?page=197\n",
      "success https://www.last.fm/user/ashen077/library?page=198\n",
      "success https://www.last.fm/user/ashen077/library?page=199\n",
      "success https://www.last.fm/user/ashen077/library?page=200\n",
      "success https://www.last.fm/user/ashen077/library?page=201\n",
      "success https://www.last.fm/user/ashen077/library?page=202\n",
      "success https://www.last.fm/user/ashen077/library?page=203\n",
      "success https://www.last.fm/user/ashen077/library?page=204\n",
      "success https://www.last.fm/user/ashen077/library?page=205\n",
      "success https://www.last.fm/user/ashen077/library?page=206\n",
      "success https://www.last.fm/user/ashen077/library?page=207\n",
      "success https://www.last.fm/user/ashen077/library?page=208\n",
      "success https://www.last.fm/user/ashen077/library?page=209\n",
      "success https://www.last.fm/user/ashen077/library?page=210\n",
      "success https://www.last.fm/user/ashen077/library?page=211\n",
      "success https://www.last.fm/user/ashen077/library?page=212\n",
      "success https://www.last.fm/user/ashen077/library?page=213\n",
      "success https://www.last.fm/user/ashen077/library?page=214\n",
      "success https://www.last.fm/user/ashen077/library?page=215\n",
      "success https://www.last.fm/user/ashen077/library?page=216\n",
      "success https://www.last.fm/user/ashen077/library?page=217\n",
      "success https://www.last.fm/user/ashen077/library?page=218\n",
      "success https://www.last.fm/user/ashen077/library?page=219\n",
      "success https://www.last.fm/user/ashen077/library?page=220\n",
      "success https://www.last.fm/user/ashen077/library?page=221\n",
      "success https://www.last.fm/user/ashen077/library?page=222\n",
      "success https://www.last.fm/user/ashen077/library?page=223\n",
      "success https://www.last.fm/user/ashen077/library?page=224\n",
      "success https://www.last.fm/user/ashen077/library?page=225\n",
      "success https://www.last.fm/user/ashen077/library?page=226\n",
      "success https://www.last.fm/user/ashen077/library?page=227\n",
      "success https://www.last.fm/user/ashen077/library?page=228\n",
      "success https://www.last.fm/user/ashen077/library?page=229\n",
      "success https://www.last.fm/user/ashen077/library?page=230\n",
      "success https://www.last.fm/user/ashen077/library?page=231\n",
      "success https://www.last.fm/user/ashen077/library?page=232\n",
      "success https://www.last.fm/user/ashen077/library?page=233\n",
      "success https://www.last.fm/user/ashen077/library?page=234\n",
      "success https://www.last.fm/user/ashen077/library?page=235\n",
      "success https://www.last.fm/user/ashen077/library?page=236\n",
      "success https://www.last.fm/user/ashen077/library?page=237\n",
      "success https://www.last.fm/user/ashen077/library?page=238\n",
      "success https://www.last.fm/user/ashen077/library?page=239\n",
      "success https://www.last.fm/user/ashen077/library?page=240\n",
      "success https://www.last.fm/user/ashen077/library?page=241\n",
      "success https://www.last.fm/user/ashen077/library?page=242\n",
      "success https://www.last.fm/user/ashen077/library?page=243\n",
      "success https://www.last.fm/user/ashen077/library?page=244\n",
      "success https://www.last.fm/user/ashen077/library?page=245\n",
      "success https://www.last.fm/user/ashen077/library?page=246\n",
      "success https://www.last.fm/user/ashen077/library?page=247\n",
      "success https://www.last.fm/user/ashen077/library?page=248\n",
      "success https://www.last.fm/user/ashen077/library?page=249\n",
      "success https://www.last.fm/user/ashen077/library?page=250\n",
      "success https://www.last.fm/user/ashen077/library?page=251\n",
      "success https://www.last.fm/user/ashen077/library?page=252\n",
      "success https://www.last.fm/user/ashen077/library?page=253\n",
      "success https://www.last.fm/user/ashen077/library?page=254\n",
      "success https://www.last.fm/user/ashen077/library?page=255\n",
      "success https://www.last.fm/user/ashen077/library?page=256\n",
      "success https://www.last.fm/user/ashen077/library?page=257\n",
      "success https://www.last.fm/user/ashen077/library?page=258\n",
      "success https://www.last.fm/user/ashen077/library?page=259\n",
      "success https://www.last.fm/user/ashen077/library?page=260\n",
      "success https://www.last.fm/user/ashen077/library?page=261\n",
      "success https://www.last.fm/user/ashen077/library?page=262\n",
      "success https://www.last.fm/user/ashen077/library?page=263\n",
      "success https://www.last.fm/user/ashen077/library?page=264\n",
      "success https://www.last.fm/user/ashen077/library?page=265\n",
      "success https://www.last.fm/user/ashen077/library?page=266\n",
      "success https://www.last.fm/user/ashen077/library?page=267\n",
      "success https://www.last.fm/user/ashen077/library?page=268\n",
      "success https://www.last.fm/user/ashen077/library?page=269\n",
      "success https://www.last.fm/user/ashen077/library?page=270\n",
      "success https://www.last.fm/user/ashen077/library?page=271\n",
      "success https://www.last.fm/user/ashen077/library?page=272\n",
      "success https://www.last.fm/user/ashen077/library?page=273\n",
      "success https://www.last.fm/user/ashen077/library?page=274\n",
      "success https://www.last.fm/user/ashen077/library?page=275\n",
      "success https://www.last.fm/user/ashen077/library?page=276\n",
      "success https://www.last.fm/user/ashen077/library?page=277\n",
      "success https://www.last.fm/user/ashen077/library?page=278\n",
      "success https://www.last.fm/user/ashen077/library?page=279\n",
      "success https://www.last.fm/user/ashen077/library?page=280\n",
      "success https://www.last.fm/user/ashen077/library?page=281\n",
      "success https://www.last.fm/user/ashen077/library?page=282\n",
      "success https://www.last.fm/user/ashen077/library?page=283\n",
      "success https://www.last.fm/user/ashen077/library?page=284\n",
      "success https://www.last.fm/user/ashen077/library?page=285\n",
      "success https://www.last.fm/user/ashen077/library?page=286\n",
      "success https://www.last.fm/user/ashen077/library?page=287\n",
      "success https://www.last.fm/user/ashen077/library?page=288\n",
      "success https://www.last.fm/user/ashen077/library?page=289\n",
      "success https://www.last.fm/user/ashen077/library?page=290\n",
      "success https://www.last.fm/user/ashen077/library?page=291\n",
      "success https://www.last.fm/user/ashen077/library?page=292\n",
      "success https://www.last.fm/user/ashen077/library?page=293\n",
      "success https://www.last.fm/user/ashen077/library?page=294\n",
      "success https://www.last.fm/user/ashen077/library?page=295\n",
      "success https://www.last.fm/user/ashen077/library?page=296\n",
      "success https://www.last.fm/user/ashen077/library?page=297\n",
      "success https://www.last.fm/user/ashen077/library?page=298\n",
      "success https://www.last.fm/user/ashen077/library?page=299\n"
     ]
    }
   ],
   "source": [
    "for i in range(300):\n",
    "    tries = 0\n",
    "    url = f'https://www.last.fm/user/ashen077/library?page={i}'\n",
    "    response = r.get(url)\n",
    "\n",
    "    if response.status_code == 200:\n",
    "        print('success', url)\n",
    "        html = response.content.decode(response.encoding)\n",
    "    else:\n",
    "        while response.status_code != 200:\n",
    "            tries+=1\n",
    "            response = r.get(url)\n",
    "            if response.status_code == 200:\n",
    "                print(url, tries, response.status_code)\n",
    "                html = response.content.decode(response.encoding)\n",
    "                break"
   ],
   "metadata": {
    "collapsed": false,
    "pycharm": {
     "name": "#%%\n"
    }
   }
  },
  {
   "cell_type": "code",
   "execution_count": 12,
   "outputs": [],
   "source": [
    "payload = {\n",
    "    'method': 'track.getInfo',\n",
    "    'artist': 'Lana Del Rey',\n",
    "    'track': 'Cruel World',\n",
    "    # 'user': 'ashen077'\n",
    "}\n",
    "# LanaDelRay = ashen077.lastfm_get(payload)"
   ],
   "metadata": {
    "collapsed": false,
    "pycharm": {
     "name": "#%%\n"
    }
   }
  },
  {
   "cell_type": "code",
   "execution_count": 13,
   "outputs": [],
   "source": [
    "data = ashen077.lastfm_get(payload)"
   ],
   "metadata": {
    "collapsed": false,
    "pycharm": {
     "name": "#%%\n"
    }
   }
  },
  {
   "cell_type": "code",
   "execution_count": 20,
   "outputs": [
    {
     "data": {
      "text/plain": "('400000',\n '275679',\n '2316194',\n ['indie',\n  'alternative',\n  'love at first listen',\n  'Lana Del Rey',\n  'Ultraviolence'])"
     },
     "execution_count": 20,
     "metadata": {},
     "output_type": "execute_result"
    }
   ],
   "source": [
    "data['track']['duration'], data['track']['listeners'], data['track']['playcount'], [t['name'] for t in data['track']['toptags']['tag']]"
   ],
   "metadata": {
    "collapsed": false,
    "pycharm": {
     "name": "#%%\n"
    }
   }
  },
  {
   "cell_type": "code",
   "execution_count": 14,
   "outputs": [
    {
     "name": "stdout",
     "output_type": "stream",
     "text": [
      "{\n",
      "    \"track\": {\n",
      "        \"album\": {\n",
      "            \"@attr\": {\n",
      "                \"position\": \"1\"\n",
      "            },\n",
      "            \"artist\": \"Lana Del Rey\",\n",
      "            \"image\": [\n",
      "                {\n",
      "                    \"#text\": \"https://lastfm.freetls.fastly.net/i/u/34s/ae3aaae440bfa49dbb6f6b2be4affa05.png\",\n",
      "                    \"size\": \"small\"\n",
      "                },\n",
      "                {\n",
      "                    \"#text\": \"https://lastfm.freetls.fastly.net/i/u/64s/ae3aaae440bfa49dbb6f6b2be4affa05.png\",\n",
      "                    \"size\": \"medium\"\n",
      "                },\n",
      "                {\n",
      "                    \"#text\": \"https://lastfm.freetls.fastly.net/i/u/174s/ae3aaae440bfa49dbb6f6b2be4affa05.png\",\n",
      "                    \"size\": \"large\"\n",
      "                },\n",
      "                {\n",
      "                    \"#text\": \"https://lastfm.freetls.fastly.net/i/u/300x300/ae3aaae440bfa49dbb6f6b2be4affa05.png\",\n",
      "                    \"size\": \"extralarge\"\n",
      "                }\n",
      "            ],\n",
      "            \"mbid\": \"9e6ab6f8-9792-430c-9672-0b238885a379\",\n",
      "            \"title\": \"Ultraviolence\",\n",
      "            \"url\": \"https://www.last.fm/music/Lana+Del+Rey/Ultraviolence\"\n",
      "        },\n",
      "        \"artist\": {\n",
      "            \"mbid\": \"b7539c32-53e7-4908-bda3-81449c367da6\",\n",
      "            \"name\": \"Lana Del Rey\",\n",
      "            \"url\": \"https://www.last.fm/music/Lana+Del+Rey\"\n",
      "        },\n",
      "        \"duration\": \"400000\",\n",
      "        \"listeners\": \"275679\",\n",
      "        \"mbid\": \"a76d0164-e02e-45b2-b93c-76c6d4381e24\",\n",
      "        \"name\": \"Cruel World\",\n",
      "        \"playcount\": \"2316194\",\n",
      "        \"streamable\": {\n",
      "            \"#text\": \"0\",\n",
      "            \"fulltrack\": \"0\"\n",
      "        },\n",
      "        \"toptags\": {\n",
      "            \"tag\": [\n",
      "                {\n",
      "                    \"name\": \"indie\",\n",
      "                    \"url\": \"https://www.last.fm/tag/indie\"\n",
      "                },\n",
      "                {\n",
      "                    \"name\": \"alternative\",\n",
      "                    \"url\": \"https://www.last.fm/tag/alternative\"\n",
      "                },\n",
      "                {\n",
      "                    \"name\": \"love at first listen\",\n",
      "                    \"url\": \"https://www.last.fm/tag/love+at+first+listen\"\n",
      "                },\n",
      "                {\n",
      "                    \"name\": \"Lana Del Rey\",\n",
      "                    \"url\": \"https://www.last.fm/tag/Lana+Del+Rey\"\n",
      "                },\n",
      "                {\n",
      "                    \"name\": \"Ultraviolence\",\n",
      "                    \"url\": \"https://www.last.fm/tag/Ultraviolence\"\n",
      "                }\n",
      "            ]\n",
      "        },\n",
      "        \"url\": \"https://www.last.fm/music/Lana+Del+Rey/_/Cruel+World\",\n",
      "        \"userloved\": \"0\",\n",
      "        \"userplaycount\": \"80\",\n",
      "        \"wiki\": {\n",
      "            \"content\": \" <a href=\\\"http://www.last.fm/music/Lana+Del+Rey/_/Cruel+World\\\">Read more on Last.fm</a>. User-contributed text is available under the Creative Commons By-SA License; additional terms may apply.\",\n",
      "            \"published\": \"28 Nov 2014, 18:02\",\n",
      "            \"summary\": \" <a href=\\\"http://www.last.fm/music/Lana+Del+Rey/_/Cruel+World\\\">Read more on Last.fm</a>.\"\n",
      "        }\n",
      "    }\n",
      "}\n"
     ]
    }
   ],
   "source": [
    "print(ashen077.lastfm_output(payload))"
   ],
   "metadata": {
    "collapsed": false,
    "pycharm": {
     "name": "#%%\n"
    }
   }
  },
  {
   "cell_type": "code",
   "execution_count": 4,
   "outputs": [
    {
     "data": {
      "text/plain": "      index        Artist             Album                  Track  \\\n0         0  Selena Gomez  Revival (Deluxe)  Outta My Hands (Loco)   \n1         1  Selena Gomez  Revival (Deluxe)                Perfect   \n2         2  Selena Gomez  Revival (Deluxe)                 Nobody   \n3         3  Selena Gomez  Revival (Deluxe)          Me & My Girls   \n4         4  Selena Gomez  Revival (Deluxe)                   Rise   \n...     ...           ...               ...                    ...   \n4945     45          Adna      Run, Lucifer               Lonesome   \n4946     46          Adna      Run, Lucifer         Beautiful Hell   \n4947     47          Adna      Run, Lucifer                 Living   \n4948     48          Adna      Run, Lucifer           Intro/Berlin   \n4949     49          Adna             Night                  Night   \n\n                              Time  \n0     Thursday 17 Dec 2020, 7:04pm  \n1     Thursday 17 Dec 2020, 7:01pm  \n2     Thursday 17 Dec 2020, 6:57pm  \n3     Thursday 17 Dec 2020, 6:53pm  \n4     Thursday 17 Dec 2020, 6:50pm  \n...                            ...  \n4945    Sunday 8 Nov 2020, 11:18am  \n4946    Sunday 8 Nov 2020, 11:15am  \n4947    Sunday 8 Nov 2020, 11:12am  \n4948    Sunday 8 Nov 2020, 11:08am  \n4949    Sunday 8 Nov 2020, 11:05am  \n\n[4950 rows x 5 columns]",
      "text/html": "<div>\n<style scoped>\n    .dataframe tbody tr th:only-of-type {\n        vertical-align: middle;\n    }\n\n    .dataframe tbody tr th {\n        vertical-align: top;\n    }\n\n    .dataframe thead th {\n        text-align: right;\n    }\n</style>\n<table border=\"1\" class=\"dataframe\">\n  <thead>\n    <tr style=\"text-align: right;\">\n      <th></th>\n      <th>index</th>\n      <th>Artist</th>\n      <th>Album</th>\n      <th>Track</th>\n      <th>Time</th>\n    </tr>\n  </thead>\n  <tbody>\n    <tr>\n      <th>0</th>\n      <td>0</td>\n      <td>Selena Gomez</td>\n      <td>Revival (Deluxe)</td>\n      <td>Outta My Hands (Loco)</td>\n      <td>Thursday 17 Dec 2020, 7:04pm</td>\n    </tr>\n    <tr>\n      <th>1</th>\n      <td>1</td>\n      <td>Selena Gomez</td>\n      <td>Revival (Deluxe)</td>\n      <td>Perfect</td>\n      <td>Thursday 17 Dec 2020, 7:01pm</td>\n    </tr>\n    <tr>\n      <th>2</th>\n      <td>2</td>\n      <td>Selena Gomez</td>\n      <td>Revival (Deluxe)</td>\n      <td>Nobody</td>\n      <td>Thursday 17 Dec 2020, 6:57pm</td>\n    </tr>\n    <tr>\n      <th>3</th>\n      <td>3</td>\n      <td>Selena Gomez</td>\n      <td>Revival (Deluxe)</td>\n      <td>Me &amp; My Girls</td>\n      <td>Thursday 17 Dec 2020, 6:53pm</td>\n    </tr>\n    <tr>\n      <th>4</th>\n      <td>4</td>\n      <td>Selena Gomez</td>\n      <td>Revival (Deluxe)</td>\n      <td>Rise</td>\n      <td>Thursday 17 Dec 2020, 6:50pm</td>\n    </tr>\n    <tr>\n      <th>...</th>\n      <td>...</td>\n      <td>...</td>\n      <td>...</td>\n      <td>...</td>\n      <td>...</td>\n    </tr>\n    <tr>\n      <th>4945</th>\n      <td>45</td>\n      <td>Adna</td>\n      <td>Run, Lucifer</td>\n      <td>Lonesome</td>\n      <td>Sunday 8 Nov 2020, 11:18am</td>\n    </tr>\n    <tr>\n      <th>4946</th>\n      <td>46</td>\n      <td>Adna</td>\n      <td>Run, Lucifer</td>\n      <td>Beautiful Hell</td>\n      <td>Sunday 8 Nov 2020, 11:15am</td>\n    </tr>\n    <tr>\n      <th>4947</th>\n      <td>47</td>\n      <td>Adna</td>\n      <td>Run, Lucifer</td>\n      <td>Living</td>\n      <td>Sunday 8 Nov 2020, 11:12am</td>\n    </tr>\n    <tr>\n      <th>4948</th>\n      <td>48</td>\n      <td>Adna</td>\n      <td>Run, Lucifer</td>\n      <td>Intro/Berlin</td>\n      <td>Sunday 8 Nov 2020, 11:08am</td>\n    </tr>\n    <tr>\n      <th>4949</th>\n      <td>49</td>\n      <td>Adna</td>\n      <td>Night</td>\n      <td>Night</td>\n      <td>Sunday 8 Nov 2020, 11:05am</td>\n    </tr>\n  </tbody>\n</table>\n<p>4950 rows × 5 columns</p>\n</div>"
     },
     "execution_count": 4,
     "metadata": {},
     "output_type": "execute_result"
    }
   ],
   "source": [
    "data"
   ],
   "metadata": {
    "collapsed": false,
    "pycharm": {
     "name": "#%%\n"
    }
   }
  },
  {
   "cell_type": "code",
   "execution_count": 4,
   "outputs": [],
   "source": [
    "def formatting_date(df):\n",
    "    \"\"\"clearly formatting time column to day, date, time, year, month\"\"\"\n",
    "    patterns = {'Day': re.compile(r\"(^[a-zA-Z]+)\"),\n",
    "                'Month' : re.compile(r\"(\\b[a-zA-Z]{3}\\b)\"),\n",
    "                'Date' : re.compile(r\"\\s(\\b[0-9]{1,}\\b)\\s\"),\n",
    "                'Year' : re.compile(r\"([0-9]{4})\"),\n",
    "                'TimeStamp' : re.compile(r\"([0-9]{1,}:[0-9]{2}[{a|p}]m)\")\n",
    "                }\n",
    "\n",
    "    for key, value in patterns.items():\n",
    "        if key in ['Date', 'Year']:\n",
    "            df[key] = df['Time'].str.extract(value).astype('int64')\n",
    "        else:\n",
    "            df[key] = df['Time'].str.extract(value)\n",
    "\n",
    "    df = df.drop('Time', axis=1)\n",
    "    df = df.rename(columns={'TimeStamp': 'Time'})\n",
    "    df['Time'] = df['Time'].apply(lambda x: pd.to_datetime(x).strftime('%H:%M'))\n",
    "\n",
    "    return df"
   ],
   "metadata": {
    "collapsed": false,
    "pycharm": {
     "name": "#%%\n"
    }
   }
  },
  {
   "cell_type": "code",
   "execution_count": 5,
   "outputs": [
    {
     "data": {
      "text/plain": "      index        Artist                 Album               Track     Day  \\\n0         0  James Arthur    Back from the Edge             If Only  Friday   \n1         1  James Arthur    Back from the Edge           Skeletons  Friday   \n2         2  James Arthur    Back from the Edge           The Truth  Friday   \n3         3  James Arthur    Back from the Edge             Finally  Friday   \n4         4  James Arthur    Back from the Edge  Remember Who I Was  Friday   \n...     ...           ...                   ...                 ...     ...   \n4945     45    The Weeknd  After Hours (Deluxe)        In Your Eyes  Sunday   \n4946     46    The Weeknd  After Hours (Deluxe)     Blinding Lights  Sunday   \n4947     47    The Weeknd  After Hours (Deluxe)               Faith  Sunday   \n4948     48    The Weeknd  After Hours (Deluxe)           Heartless  Sunday   \n4949     49    The Weeknd  After Hours (Deluxe)      Escape From LA  Sunday   \n\n     Month  Date  Year   Time  \n0      Dec    18  2020  15:05  \n1      Dec    18  2020  15:01  \n2      Dec    18  2020  14:57  \n3      Dec    18  2020  14:52  \n4      Dec    18  2020  14:48  \n...    ...   ...   ...    ...  \n4945   Nov     8  2020  23:37  \n4946   Nov     8  2020  23:34  \n4947   Nov     8  2020  23:29  \n4948   Nov     8  2020  23:26  \n4949   Nov     8  2020  23:20  \n\n[4950 rows x 9 columns]",
      "text/html": "<div>\n<style scoped>\n    .dataframe tbody tr th:only-of-type {\n        vertical-align: middle;\n    }\n\n    .dataframe tbody tr th {\n        vertical-align: top;\n    }\n\n    .dataframe thead th {\n        text-align: right;\n    }\n</style>\n<table border=\"1\" class=\"dataframe\">\n  <thead>\n    <tr style=\"text-align: right;\">\n      <th></th>\n      <th>index</th>\n      <th>Artist</th>\n      <th>Album</th>\n      <th>Track</th>\n      <th>Day</th>\n      <th>Month</th>\n      <th>Date</th>\n      <th>Year</th>\n      <th>Time</th>\n    </tr>\n  </thead>\n  <tbody>\n    <tr>\n      <th>0</th>\n      <td>0</td>\n      <td>James Arthur</td>\n      <td>Back from the Edge</td>\n      <td>If Only</td>\n      <td>Friday</td>\n      <td>Dec</td>\n      <td>18</td>\n      <td>2020</td>\n      <td>15:05</td>\n    </tr>\n    <tr>\n      <th>1</th>\n      <td>1</td>\n      <td>James Arthur</td>\n      <td>Back from the Edge</td>\n      <td>Skeletons</td>\n      <td>Friday</td>\n      <td>Dec</td>\n      <td>18</td>\n      <td>2020</td>\n      <td>15:01</td>\n    </tr>\n    <tr>\n      <th>2</th>\n      <td>2</td>\n      <td>James Arthur</td>\n      <td>Back from the Edge</td>\n      <td>The Truth</td>\n      <td>Friday</td>\n      <td>Dec</td>\n      <td>18</td>\n      <td>2020</td>\n      <td>14:57</td>\n    </tr>\n    <tr>\n      <th>3</th>\n      <td>3</td>\n      <td>James Arthur</td>\n      <td>Back from the Edge</td>\n      <td>Finally</td>\n      <td>Friday</td>\n      <td>Dec</td>\n      <td>18</td>\n      <td>2020</td>\n      <td>14:52</td>\n    </tr>\n    <tr>\n      <th>4</th>\n      <td>4</td>\n      <td>James Arthur</td>\n      <td>Back from the Edge</td>\n      <td>Remember Who I Was</td>\n      <td>Friday</td>\n      <td>Dec</td>\n      <td>18</td>\n      <td>2020</td>\n      <td>14:48</td>\n    </tr>\n    <tr>\n      <th>...</th>\n      <td>...</td>\n      <td>...</td>\n      <td>...</td>\n      <td>...</td>\n      <td>...</td>\n      <td>...</td>\n      <td>...</td>\n      <td>...</td>\n      <td>...</td>\n    </tr>\n    <tr>\n      <th>4945</th>\n      <td>45</td>\n      <td>The Weeknd</td>\n      <td>After Hours (Deluxe)</td>\n      <td>In Your Eyes</td>\n      <td>Sunday</td>\n      <td>Nov</td>\n      <td>8</td>\n      <td>2020</td>\n      <td>23:37</td>\n    </tr>\n    <tr>\n      <th>4946</th>\n      <td>46</td>\n      <td>The Weeknd</td>\n      <td>After Hours (Deluxe)</td>\n      <td>Blinding Lights</td>\n      <td>Sunday</td>\n      <td>Nov</td>\n      <td>8</td>\n      <td>2020</td>\n      <td>23:34</td>\n    </tr>\n    <tr>\n      <th>4947</th>\n      <td>47</td>\n      <td>The Weeknd</td>\n      <td>After Hours (Deluxe)</td>\n      <td>Faith</td>\n      <td>Sunday</td>\n      <td>Nov</td>\n      <td>8</td>\n      <td>2020</td>\n      <td>23:29</td>\n    </tr>\n    <tr>\n      <th>4948</th>\n      <td>48</td>\n      <td>The Weeknd</td>\n      <td>After Hours (Deluxe)</td>\n      <td>Heartless</td>\n      <td>Sunday</td>\n      <td>Nov</td>\n      <td>8</td>\n      <td>2020</td>\n      <td>23:26</td>\n    </tr>\n    <tr>\n      <th>4949</th>\n      <td>49</td>\n      <td>The Weeknd</td>\n      <td>After Hours (Deluxe)</td>\n      <td>Escape From LA</td>\n      <td>Sunday</td>\n      <td>Nov</td>\n      <td>8</td>\n      <td>2020</td>\n      <td>23:20</td>\n    </tr>\n  </tbody>\n</table>\n<p>4950 rows × 9 columns</p>\n</div>"
     },
     "execution_count": 5,
     "metadata": {},
     "output_type": "execute_result"
    }
   ],
   "source": [
    "d = formatting_date(data)\n",
    "d"
   ],
   "metadata": {
    "collapsed": false,
    "pycharm": {
     "name": "#%%\n"
    }
   }
  },
  {
   "cell_type": "code",
   "execution_count": 4,
   "outputs": [],
   "source": [
    "def get_tags(x):\n",
    "    payload = {'method': 'track.getInfo',\n",
    "               'artist': x[1]['Artist'],\n",
    "               'track': x[1]['Track']\n",
    "               }\n",
    "\n",
    "    getter = ashen077.lastfm_get(payload)\n",
    "\n",
    "    return [getter['track']['duration'],\n",
    "            getter['track']['listeners'],\n",
    "            getter['track']['playcount'],\n",
    "            ','.join([t['name'] for t in getter['track']['toptags']['tag']])]"
   ],
   "metadata": {
    "collapsed": false,
    "pycharm": {
     "name": "#%%\n"
    }
   }
  },
  {
   "cell_type": "code",
   "execution_count": 6,
   "outputs": [
    {
     "name": "stdout",
     "output_type": "stream",
     "text": [
      "['211000', '73240', '782473', 'pop,dance,sexy,spanish,electropop']\n",
      "['208000', '57575', '501973', 'pop,electropop,sexy,female vocalists,dance']\n",
      "['222000', '64140', '591847', 'pop,electropop,dance,rnb,electronic']\n",
      "['213000', '111426', '1288833', 'pop,dance,rnb,love at first listen,best of 2015']\n",
      "['234000', '30687', '139495', 'pop,soul,rnb,gospel,handclaps']\n",
      "['184000', '165437', '1258616', 'dance,rita ora,electronic,pop,dance pop']\n",
      "['209000', '13629', '76698', '']\n",
      "['175000', '15823', '118850', 'electropop']\n",
      "['260000', '16671', '134526', 'jazz,pop,british,r and b,rnb']\n",
      "['235000', '15393', '116296', 'pop,british,female vocalists,love at first listen']\n",
      "['0', '1674', '9941', '']\n",
      "['180000', '63680', '415652', 'pop,electropop,2010s,2019']\n",
      "['153000', '24827', '218032', 'love at first listen,electropop,pop,british']\n",
      "['242000', '16545', '85875', '']\n",
      "['226000', '15988', '72604', '']\n",
      "['227000', '31480', '175404', 'danish,2018 single']\n",
      "['227000', '31480', '175404', 'danish,2018 single']\n",
      "['67000', '8838', '29330', '']\n",
      "['0', '522', '1997', '']\n",
      "['0', '2765', '11197', '']\n",
      "['226000', '36879', '190713', 'pop,electronic,alternative,dance,party']\n",
      "['184000', '42960', '323995', 'fallon']\n",
      "['196000', '26426', '145673', '']\n",
      "['242000', '16545', '85875', '']\n",
      "['226000', '15988', '72604', '']\n",
      "['227000', '31480', '175404', 'danish,2018 single']\n",
      "['0', '557', '2224', '']\n",
      "['229000', '24545', '143196', '']\n",
      "['67000', '8838', '29330', '']\n",
      "['0', '522', '1996', '']\n",
      "['0', '497', '1889', '']\n",
      "['0', '2765', '11197', '']\n",
      "['226000', '36879', '190713', 'pop,electronic,alternative,dance,party']\n",
      "['184000', '42960', '323995', 'fallon']\n",
      "['196000', '26426', '145673', '']\n",
      "['188000', '45829', '242544', 'electronic,indie,pop,alternative,dance']\n",
      "['225000', '132987', '629825', 'folk,singer-songwriter,Awesome,Favorite,loveatfirstlisten']\n",
      "['274000', '75243', '397288', 'british,love at first listen,favorite song,2015,2015 single']\n",
      "['204000', '29941', '134604', 'indie,british,Awesome,Favorite,nocne wyciszenie']\n",
      "['259000', '356595', '2604199', 'indie pop,love at first listen,The Vampire Diaries,chillout,indie']\n",
      "['226000', '45497', '199256', 'love at first listen,sad songs']\n",
      "['204000', '21776', '86599', '']\n",
      "['204000', '21776', '86599', '']\n",
      "['174000', '10130', '43266', '']\n",
      "['226000', '45497', '199256', 'love at first listen,sad songs']\n",
      "['176000', '29285', '113802', 'Meyers']\n",
      "['195000', '32587', '168616', 'indie,british,indie folk']\n",
      "['256000', '14989', '84981', '']\n",
      "['239000', '81522', '374610', 'acoustic,rock,indie,alternative,folk']\n",
      "['223000', '55776', '207418', 'Alternative Folk,10s,a long red glare,suziko-rockwerchter,i know that from a tv show']\n",
      "['282000', '33799', '156633', 'love at first listen']\n",
      "['233000', '11141', '62142', '']\n",
      "['204000', '29941', '134604', 'indie,british,Awesome,Favorite,nocne wyciszenie']\n",
      "['233000', '11141', '62142', '']\n",
      "['299000', '9205', '44011', '']\n",
      "['220000', '9231', '44800', '']\n",
      "['305000', '10773', '50961', '']\n",
      "['256000', '14989', '84981', '']\n",
      "['216000', '19482', '83779', 'british,2018 single']\n",
      "['61000', '8900', '29063', '']\n",
      "['187000', '12258', '56035', '']\n",
      "['181000', '71881', '402681', 'Soundtrack,indie,british,2010s,after']\n",
      "['197000', '53277', '277241', 'british,2010s,snl,2018,2018 single']\n",
      "['255000', '51547', '356515', '2018,rock,british,indie rock,pop rock']\n",
      "['0', '15399', '81110', '']\n",
      "['59000', '10021', '30385', '']\n",
      "['215000', '20260', '79929', '']\n",
      "['0', '349', '1028', '']\n",
      "['0', '7115', '26695', 'pop']\n",
      "['244000', '7448', '34185', 'pop']\n",
      "['237000', '7141', '31666', 'pop']\n",
      "['260000', '9864', '49136', 'pop']\n",
      "['261000', '9227', '42861', 'pop']\n",
      "['178000', '16573', '67004', 'pop,british,The X Factor,talent show,2016 single']\n",
      "['272000', '10673', '43774', '']\n",
      "['0', '12529', '66212', 'pop']\n",
      "['249000', '8412', '33216', 'pop']\n",
      "['186000', '10521', '43598', 'pop,2010s']\n",
      "['222000', '40687', '215372', 'pop,british,airplane,The X Factor,talent show']\n",
      "['208000', '48586', '329913', '']\n",
      "['191000', '20035', '87948', 'pop']\n",
      "['246000', '93280', '524944', 'pop,british,Awesome,Favorite,airplane']\n",
      "['239000', '11586', '52911', 'pop,2010s']\n",
      "['211000', '286184', '2340898', 'pop,british,Awesome,Favorite,fallon']\n",
      "['0', '21148', '104420', 'indie,pop']\n",
      "['244000', '808800', '8549100', 'indie,soul,favorite track right now,2013,indie rock']\n",
      "['267000', '55173', '380218', '']\n",
      "['257000', '38555', '232759', '']\n",
      "['268000', '43151', '284707', '']\n",
      "['224000', '55199', '345916', 'handclaps']\n",
      "['289000', '35946', '206399', '']\n",
      "['207000', '41648', '282198', '']\n",
      "['300000', '102269', '637365', '']\n",
      "['208000', '39860', '247559', '']\n",
      "['206000', '52012', '273691', '']\n",
      "['210000', '42087', '279958', 'blues,2019']\n",
      "['331000', '46404', '338310', 'lush']\n",
      "['237000', '113672', '854243', 'alternative,2010s,night,handclaps,name check']\n",
      "['216000', '142069', '971733', 'alternative,2010s,handclaps,colbert,snapping']\n",
      "['225000', '41549', '269439', 'fallon,handclaps']\n",
      "['240000', '76909', '341694', 'soul,indie rock,acoustic,Awesome,irish']\n",
      "['225000', '112994', '557742', 'soul,blues,male vocal,irish,gospel']\n",
      "['278000', '133588', '618752', 'seen live,soul,folk,indie rock,blues']\n",
      "['198000', '255330', '1520772', 'soul,haunting,ethereal,lovely,electronic']\n",
      "['230000', '271054', '1767638', 'soul,singer-songwriter,pop,irish,Ballad']\n",
      "['208000', '158840', '900232', 'soul,gospel,seen live,indie rock,male vocal']\n",
      "['318000', '37535', '231993', 'rock,soul,acoustic,Ballad,duet']\n",
      "['283000', '290626', '1837214', 'blues,irish,soul,indie,singer']\n",
      "['324000', '151168', '785781', 'soul,seen live,folk,indie rock,blues']\n",
      "['235000', '44955', '184485', 'blues,chillout,male vocal,irish,2014']\n",
      "['223000', '311016', '1993976', 'soul,alternative,alternative rock,indie,synthpop']\n",
      "['267000', '170822', '1004538', 'folk,alternative,indie folk,dark,southern gothic']\n",
      "['223000', '201324', '1219388', 'party,indie rock,2010s,seen live,blues']\n",
      "['254000', '64844', '352166', 'soul,indie rock,blues,male vocal,irish']\n",
      "['219000', '140841', '850919', 'soul,indie rock,majestic,10s,seen live']\n",
      "['331000', '74919', '397660', 'soul,indie rock,blues,dark,male vocal']\n",
      "['244000', '808800', '8549100', 'indie,soul,favorite track right now,2013,indie rock']\n",
      "['196000', '36594', '241711', 'electropop,pop,dance-pop,synthpop,love at first listen']\n",
      "['214000', '62783', '400846', 'love at first listen,electropop,dance,dance-pop,House']\n",
      "['0', '447', '2391', '']\n",
      "['214000', '94381', '665357', 'british,rnb,bouncy,trip,fallon']\n",
      "['184000', '210649', '2733691', 'pop,nu-disco,electro-disco,Disco,dance']\n",
      "['0', '76', '296', '']\n",
      "['68000', '2098', '9981', '']\n",
      "['0', '2210', '11810', '']\n",
      "['0', '3214', '24229', '']\n",
      "['0', '3319', '45084', '']\n",
      "['0', '1678', '10862', '']\n",
      "['0', '3495', '30297', '']\n",
      "['0', '3083', '20757', '']\n",
      "['0', '3582', '30220', '']\n",
      "['0', '3235', '25891', '']\n",
      "['0', '3495', '30297', '']\n",
      "['0', '3495', '30297', '']\n",
      "['0', '3200', '25509', '']\n",
      "['166000', '152810', '1297176', 'pop,justin tranter']\n",
      "['0', '156638', '1448421', 'pop,fun,doo-wop,808']\n",
      "['221000', '321242', '4459324', 'pop,2020,Disco,dance,dance-pop']\n",
      "['0', '170749', '1978208', 'pop,Disco,sample,2020']\n",
      "['209000', '211869', '2710881', 'pop,dance,Disco,House,dance pop']\n",
      "['195000', '181825', '2117871', 'rnb,hot,love at first listen,HINOOO']\n",
      "['204000', '206931', '3150106', 'pop,Disco,Retro,2020,electropop']\n",
      "['193000', '305289', '6137836', 'pop,dance,synthpop,2020,Disco']\n",
      "['210000', '182690', '1963064', 'pop,electropop,new wave,summer,synthpop']\n",
      "['0', '437627', '8407234', 'Disco,pop,dance,2019,2010s']\n",
      "['193000', '304825', '6128277', 'pop,dance,synthpop,2020,Disco']\n",
      "['0', '437627', '8407234', 'Disco,pop,dance,2019,2010s']\n",
      "['193000', '304825', '6128277', 'pop,dance,synthpop,2020,Disco']\n",
      "['210000', '182690', '1963064', 'pop,electropop,new wave,summer,synthpop']\n",
      "['0', '437627', '8407234', 'Disco,pop,dance,2019,2010s']\n",
      "['240000', '345510', '4834302', 'pop,Disco,rap,Hip-Hop,female vocalists']\n",
      "['0', '39920', '276216', '']\n",
      "['0', '86854', '655120', 'alternative rock']\n",
      "['0', '50249', '350381', 'alternative rock,indie rock,10s']\n",
      "['0', '37642', '267915', '']\n",
      "['0', '48200', '344329', 'british,alternative rock,indie rock,10s,2013 single']\n",
      "['0', '38852', '261426', 'indie rock,british']\n",
      "['0', '44541', '313339', 'indie rock,british,10s']\n",
      "['0', '61100', '437219', 'british,indie rock,Test Tag,2015 single,bbc radio1 playlist 2015']\n",
      "['0', '77205', '579834', 'indie rock,british,alternative rock,love at first listen,indie alternative']\n",
      "['0', '62821', '462522', 'british,2014 single,bbc radio1 playlist 2014,suziko-rockwerchter']\n",
      "['0', '118625', '929189', 'british,indie rock,2010s,watch,conan']\n",
      "['0', '184956', '1293378', 'indie rock,rock,british,power pop,love at first listen']\n",
      "['0', '81622', '567661', 'british,alternative rock,indie rock,2015 single,bbc radio1 playlist 2015']\n",
      "['0', '38579', '366166', 'pop,love at first listen,electropop,sexy,female vocalists']\n",
      "['0', '37747', '322950', 'pop,electropop,female vocalists,dance-pop,rnb']\n",
      "['243000', '61170', '722028', 'pop,sad,Ballad,love at first listen,electropop']\n",
      "['217000', '59994', '574010', 'pop,indie,christian,alternative pop,electropop']\n",
      "['211000', '73240', '782473', 'pop,dance,sexy,spanish,electropop']\n",
      "['167000', '55213', '511244', 'pop,power,electropop,female vocalists,dance-pop']\n",
      "['208000', '57575', '501973', 'pop,electropop,sexy,female vocalists,dance']\n",
      "['222000', '64140', '591847', 'pop,electropop,dance,rnb,electronic']\n",
      "['213000', '111426', '1288833', 'pop,dance,rnb,love at first listen,best of 2015']\n",
      "['213000', '111426', '1288833', 'pop,dance,rnb,love at first listen,best of 2015']\n",
      "['181000', '39307', '789812', 'pop,love at first listen,2015,Hip-Hop,best of 2015']\n",
      "['195000', '91714', '1047372', 'pop,love at first listen,electropop,rnb,female vocalists']\n",
      "['229000', '248076', '2501104', 'Same Old Love,pop,female vocalists,urban,revival']\n",
      "['0', '219217', '1941580', 'pop,electropop,electronic,female vocalists,rnb']\n",
      "['0', '5181', '21901', '']\n",
      "['0', '1702', '6023', '']\n",
      "['0', '1725', '4630', 'christmas']\n",
      "['0', '49', '73', '']\n",
      "['0', '1859', '5041', '']\n",
      "['0', '96', '238', '']\n",
      "['0', '1956', '5278', '']\n",
      "['0', '2157', '6934', '']\n",
      "['242000', '11761', '63117', 'alternative rnb,soul,Love,rnb,love at first listen']\n",
      "['0', '2258', '10323', 'Awesome,Favorite']\n",
      "['233000', '9963', '57480', '']\n",
      "['233000', '9963', '57480', '']\n",
      "['197000', '26717', '173704', '']\n",
      "['215000', '58472', '322579', '']\n",
      "['268000', '10954', '54807', '']\n",
      "['214000', '21749', '108509', '']\n",
      "['0', '69', '434', '']\n",
      "['182000', '10165', '67332', 'Bossa Nova']\n",
      "['182000', '10165', '67332', 'Bossa Nova']\n",
      "['199000', '14756', '67645', '']\n",
      "['244000', '43738', '268868', 'soul,Awesome,r&b,Favorite,Neo-Soul']\n",
      "['241000', '16154', '92537', '']\n",
      "['283000', '29580', '179217', 'chill,Dreamy,rnb,great quality stuff']\n",
      "['245000', '50237', '334239', 'pop,soul,sexy,american,rnb']\n",
      "['0', '27028', '174640', 'alternative rnb,soul,american,rnb,Masterpiece']\n",
      "['207000', '13918', '71612', 'soul,r&b,best of 2017,Masterrpiece']\n",
      "['70000', '10855', '52013', '']\n",
      "['207000', '13918', '71612', 'soul,r&b,best of 2017,Masterrpiece']\n",
      "['70000', '10855', '52013', '']\n",
      "['268000', '10954', '54807', '']\n",
      "['215000', '58472', '322579', '']\n",
      "['268000', '10954', '54807', '']\n",
      "['219000', '10656', '55834', '']\n",
      "['214000', '21749', '108509', '']\n",
      "['0', '69', '434', '']\n",
      "['182000', '10165', '67332', 'Bossa Nova']\n",
      "['187000', '11979', '63296', '']\n",
      "['199000', '14756', '67645', '']\n",
      "['244000', '43781', '269214', 'soul,Awesome,r&b,Favorite,Neo-Soul']\n",
      "['241000', '16154', '92537', '']\n",
      "['283000', '29580', '179217', 'chill,Dreamy,rnb,great quality stuff']\n",
      "['245000', '50237', '334239', 'pop,soul,sexy,american,rnb']\n",
      "['176000', '48892', '352379', 'Disco,rnb,alternative rnb']\n",
      "['0', '27028', '174640', 'alternative rnb,soul,american,rnb,Masterpiece']\n",
      "['205000', '66724', '450265', 'rnb,2018 single,bbc radio1 playlist 2018']\n",
      "['219000', '11957', '62763', 'rnb,about time,best of 2017,hino,primeiro a gente grita QUE HINO depois ouve']\n",
      "['207000', '13918', '71612', 'soul,r&b,best of 2017,Masterrpiece']\n",
      "['70000', '10855', '52013', '']\n",
      "['0', '28631', '89207', '']\n",
      "['213000', '958', '10220', '']\n",
      "['265000', '6819', '22072', '']\n",
      "['244000', '3891', '17303', 'Soundtrack,flowers and plants,legacies']\n",
      "['200000', '2665', '13909', '']\n",
      "['258000', '22182', '67019', 'Awesome,Favorite']\n",
      "['265000', '8776', '26949', '']\n",
      "['234000', '14425', '40443', 'sxsw 2016']\n",
      "['206000', '192', '341', '']\n",
      "['234000', '17451', '50836', '']\n",
      "['191000', '2078', '12914', '']\n",
      "['234000', '30687', '139495', 'pop,soul,rnb,gospel,handclaps']\n",
      "['184000', '165437', '1258616', 'dance,rita ora,electronic,pop,dance pop']\n",
      "['209000', '13629', '76698', '']\n",
      "['175000', '15823', '118850', 'electropop']\n",
      "['260000', '16671', '134526', 'jazz,pop,british,r and b,rnb']\n",
      "['235000', '15393', '116296', 'pop,british,female vocalists,love at first listen']\n",
      "['213000', '15086', '80687', 'pop,Julia Michaels']\n",
      "['0', '1674', '9941', '']\n",
      "['182000', '17442', '107148', 'electropop']\n",
      "['180000', '63680', '415652', 'pop,electropop,2010s,2019']\n",
      "['153000', '24827', '218032', 'love at first listen,electropop,pop,british']\n",
      "['190000', '136349', '1396868', 'pop,british,electropop,rita ora,2018 single']\n",
      "['221000', '100358', '745906', 'pop,charli xcx,bebe rexha,cardi b,female vocalists']\n",
      "['180000', '170323', '1407947', 'pop,british,party,not a cover,2017']\n",
      "['215000', '159011', '1801080', 'electronic,pop,hino,electropop,british']\n",
      "['217000', '300', '1057', '']\n",
      "['192000', '309', '920', '']\n",
      "['237000', '94', '205', '']\n",
      "['199000', '87', '189', '']\n",
      "['203000', '99', '229', '']\n",
      "['217000', '589', '1249', '']\n",
      "['182000', '182', '392', '']\n",
      "['201000', '128', '252', '']\n",
      "['144000', '346', '709', '']\n",
      "['187000', '86', '179', '']\n",
      "['198000', '365', '1405', '']\n",
      "['150000', '141', '276', '']\n",
      "['220000', '346720', '2402476', 'pop,electronic,british,UK Garage,uk number one']\n",
      "['242000', '16545', '85875', '']\n",
      "['226000', '15988', '72604', '']\n",
      "['227000', '31480', '175404', 'danish,2018 single']\n",
      "['0', '557', '2224', '']\n",
      "['229000', '24545', '143196', '']\n",
      "['67000', '8838', '29330', '']\n",
      "['0', '522', '1997', '']\n",
      "['0', '497', '1889', '']\n",
      "['0', '2765', '11197', '']\n",
      "['226000', '36879', '190713', 'pop,electronic,alternative,dance,party']\n",
      "['184000', '42960', '323995', 'fallon']\n",
      "['196000', '26426', '145673', '']\n",
      "['188000', '45829', '242544', 'electronic,indie,pop,alternative,dance']\n",
      "['45000', '11100', '33761', '']\n",
      "['355000', '141709', '1174234', 'jazz,indie rock,lounge,chill,blues']\n",
      "['184000', '532107', '5503079', 'indie rock,alternative,indie,british,sexy']\n",
      "['258000', '466594', '4260287', 'indie rock,rock,british,Eu batendo com meu pau num xilofone seria melhor,alternative']\n",
      "['193000', '532437', '5070761', 'indie rock,alternative,british,rock,alternative rock']\n",
      "['161000', '733661', '8029033', 'indie,indie rock,love at first listen,british,sexy']\n",
      "['181000', '403517', '3586693', 'indie rock,british,indie,alternative,alternative rock']\n",
      "['215000', '406783', '3060844', 'indie rock,indie,rock,british,brunelds']\n",
      "['243000', '451815', '3901170', 'indie rock,rock,alex turner,alternative,Love']\n",
      "['184000', '422096', '3294204', 'indie rock,alternative rock,rock,british,alternative']\n",
      "['207000', '612720', '6177317', 'indie rock,rock,alternative,arctic monkeys,Post-punk revival']\n",
      "['206000', '515237', '4796002', 'indie rock,british,rock,indie,alternative']\n",
      "['202000', '862416', '11387424', 'indie rock,indie,british,rock,arctic monkeys']\n",
      "['272000', '1084831', '14914754', 'indie rock,indie,alternative,arctic monkeys,rock']\n",
      "['204000', '65240', '377175', 'british,indie rock,love at first listen,indie,rock']\n",
      "['257000', '250333', '1839178', 'indie rock,rock,british,alternative,alternative rock']\n",
      "['226000', '332116', '2981160', 'indie rock,rock,indie,british,alternative']\n",
      "['191000', '298271', '2482333', 'indie rock,indie,rock,british,alternative rock']\n",
      "['204000', '300683', '2430064', 'indie rock,british,rock,alternative rock,indie']\n",
      "['163000', '291795', '2377134', 'indie,indie rock,rock,british,alternative rock']\n",
      "['232000', '266876', '1924876', 'indie rock,rock,british,alternative,indie']\n",
      "['142000', '284446', '2182530', 'indie rock,rock,british,indie,alternative']\n",
      "['221000', '392459', '3213525', 'indie rock,british,alternative rock,rock,Stoner Indie']\n",
      "['180000', '327747', '2739464', 'indie rock,british,rock,alternative rock,indie']\n",
      "['180000', '324264', '2434570', 'indie rock,british,rock,indie,alternative rock']\n",
      "['215000', '346060', '2745198', 'indie rock,rock,british,indie,alternative']\n",
      "['235000', '352187', '2708675', 'indie rock,british,rock,indie,alternative rock']\n",
      "['258000', '96029', '634519', 'cover,indie rock,indie,british,alternative']\n",
      "['298000', '95173', '617084', 'indie,indie rock,british,rock,alternative']\n",
      "['139000', '101479', '738785', 'indie rock,indie,british,rock,00s']\n",
      "['298000', '95173', '617084', 'indie,indie rock,british,rock,alternative']\n",
      "['139000', '101479', '738785', 'indie rock,indie,british,rock,00s']\n",
      "['209000', '171069', '1505329', 'chill,soul,rnb,Daniel caesar,h.e.r.']\n",
      "['278000', '203332', '1997920', 'sexy,smooth,rnb,alternative rnb,Meyers']\n",
      "['166000', '152810', '1297176', 'pop,justin tranter']\n",
      "['0', '156906', '1451326', 'pop,fun,doo-wop,808']\n",
      "['221000', '321242', '4459324', 'pop,2020,Disco,dance,dance-pop']\n",
      "['0', '170404', '1973402', 'pop,Disco,sample,2020']\n",
      "['209000', '211869', '2710881', 'pop,dance,Disco,House,dance pop']\n",
      "['195000', '182150', '2123027', 'rnb,hot,love at first listen,HINOOO']\n",
      "['204000', '206931', '3150106', 'pop,Disco,Retro,2020,electropop']\n",
      "['193000', '304825', '6128277', 'pop,dance,synthpop,2020,Disco']\n",
      "['210000', '182690', '1963064', 'pop,electropop,new wave,summer,synthpop']\n",
      "['0', '437627', '8407234', 'Disco,pop,dance,2019,2010s']\n",
      "['204000', '206931', '3150106', 'pop,Disco,Retro,2020,electropop']\n",
      "['193000', '304825', '6128277', 'pop,dance,synthpop,2020,Disco']\n",
      "['210000', '182385', '1959167', 'pop,electropop,new wave,summer,synthpop']\n",
      "['0', '437627', '8407234', 'Disco,pop,dance,2019,2010s']\n",
      "['184000', '210649', '2733691', 'pop,nu-disco,electro-disco,Disco,dance']\n",
      "['0', '76', '296', '']\n",
      "['68000', '2098', '9981', '']\n",
      "['0', '2210', '11810', '']\n",
      "['0', '3214', '24229', '']\n",
      "['0', '3319', '45084', '']\n",
      "['0', '3083', '20757', '']\n",
      "['0', '3582', '30220', '']\n",
      "['0', '3235', '25891', '']\n",
      "['0', '1678', '10862', '']\n",
      "['0', '3495', '30297', '']\n",
      "['0', '3200', '25509', '']\n",
      "['212000', '152334', '1523342', 'pop,folk,a perfect ending to a perfect album,beautiful,Soundtrack Of My Life']\n",
      "['0', '119528', '1042698', 'rock,pop,alternative,alternative rock,fip']\n",
      "['0', '118573', '1059412', 'pop,rock,alternative,alternative rock,indie']\n",
      "['0', '177805', '1686013', 'rock,alternative rock,pop,british,alternative']\n",
      "['0', '112221', '951983', 'rock,pop,alternative,alternative rock,pop rock']\n",
      "['0', '212327', '1788177', 'alternative,pop,rock,country,british']\n",
      "['0', '158446', '1448849', 'rock,louis tomlinson,indie,pop,alternative']\n",
      "['0', '131730', '1035359', 'rock,pop,alternative,alternative rock,soft rock']\n",
      "['0', '337657', '3855603', 'rock,alternative,pop,indie,british']\n",
      "['237000', '148043', '1335976', 'great way to start an album,rock,alternative,folk,indie']\n",
      "['377000', '132991', '1505486', 'pop,rock,alternative,alternative rock,alternative pop']\n",
      "['197000', '120988', '989240', 'pop,indie pop,2010s,rock,alternative']\n",
      "['189000', '124018', '1166468', 'pop,rock,alternative,alternative rock,indie pop']\n",
      "['221000', '156068', '1731970', 'pop,rock,alternative,alternative rock,alternative pop']\n",
      "['362000', '148672', '1554460', 'rock,pop,alternative,alternative rock,sexy']\n",
      "['192000', '142934', '1554804', 'pop,rock,alternative,alternative rock,alternative pop']\n",
      "['240000', '222659', '2708060', 'pop,chill,rock,alternative,alternative rock']\n",
      "['259000', '167838', '1841805', 'pop,rock,alternative,alternative rock,alternative pop']\n",
      "['172000', '269168', '4816144', 'pop,indie pop,rock,2010s,fine line']\n",
      "['207000', '326542', '5102869', 'pop,2010s,2019,rock,soul']\n",
      "['174000', '390915', '6096893', 'pop,2019,indie pop,2010s,fine line']\n",
      "['208000', '207527', '2787069', 'pop,louis tomlinson,rock,alternative,alternative rock']\n",
      "['189000', '124018', '1166468', 'pop,rock,alternative,alternative rock,indie pop']\n",
      "['221000', '156068', '1731970', 'pop,rock,alternative,alternative rock,alternative pop']\n",
      "['362000', '148672', '1554460', 'rock,pop,alternative,alternative rock,sexy']\n",
      "['192000', '142934', '1554804', 'pop,rock,alternative,alternative rock,alternative pop']\n",
      "['240000', '222659', '2708060', 'pop,chill,rock,alternative,alternative rock']\n",
      "['259000', '167838', '1841805', 'pop,rock,alternative,alternative rock,alternative pop']\n",
      "['172000', '269168', '4816144', 'pop,indie pop,rock,2010s,fine line']\n",
      "['207000', '326542', '5102869', 'pop,2010s,2019,rock,soul']\n",
      "['174000', '390915', '6096893', 'pop,2019,indie pop,2010s,fine line']\n",
      "['208000', '207527', '2787069', 'pop,louis tomlinson,rock,alternative,alternative rock']\n",
      "['149000', '60127', '401909', 'orchestral rock,florencia e a maquina']\n",
      "['281000', '69907', '497941', 'chill,female vocalists,baroque pop,alternative pop,Ballad']\n",
      "['298000', '62433', '423570', 'chamber pop,handclaps,orchestral rock,florencia e a maquina']\n",
      "['217000', '76306', '522381', 'indie,alternative,british,indie pop,orchestral rock']\n",
      "['288000', '67496', '420660', 'alternative,orchestral rock,florencia e a maquina']\n",
      "['0', '125307', '920044', 'indie,alternative,british,indie pop,Ballad']\n",
      "['241000', '101558', '803034', 'indie,british,alternative,indie pop,orchestral rock']\n",
      "['262000', '87657', '577504', 'spring,orchestral rock,florencia e a maquina,makes me feel some type of way']\n",
      "['214000', '168535', '1565653', 'alternative,indie,rock,british,indie pop']\n",
      "['221000', '86571', '566624', 'slow,Florence and The Machine,orchestral rock,high as hope,florencia e a maquina']\n",
      "['149000', '60127', '401909', 'orchestral rock,florencia e a maquina']\n",
      "['281000', '69907', '497941', 'chill,female vocalists,baroque pop,alternative pop,Ballad']\n",
      "['298000', '62433', '423570', 'chamber pop,handclaps,orchestral rock,florencia e a maquina']\n",
      "['217000', '76306', '522381', 'indie,alternative,british,indie pop,orchestral rock']\n",
      "['288000', '67496', '420660', 'alternative,orchestral rock,florencia e a maquina']\n",
      "['0', '125307', '920044', 'indie,alternative,british,indie pop,Ballad']\n",
      "['241000', '101558', '803034', 'indie,british,alternative,indie pop,orchestral rock']\n",
      "['262000', '87657', '577504', 'spring,orchestral rock,florencia e a maquina,makes me feel some type of way']\n",
      "['214000', '168535', '1565653', 'alternative,indie,rock,british,indie pop']\n",
      "['221000', '86571', '566624', 'slow,Florence and The Machine,orchestral rock,high as hope,florencia e a maquina']\n",
      "['149000', '60127', '401909', 'orchestral rock,florencia e a maquina']\n",
      "['281000', '69907', '497941', 'chill,female vocalists,baroque pop,alternative pop,Ballad']\n",
      "['298000', '62433', '423570', 'chamber pop,handclaps,orchestral rock,florencia e a maquina']\n",
      "['217000', '76306', '522381', 'indie,alternative,british,indie pop,orchestral rock']\n",
      "['288000', '67496', '420660', 'alternative,orchestral rock,florencia e a maquina']\n",
      "['0', '125307', '920044', 'indie,alternative,british,indie pop,Ballad']\n",
      "['241000', '101558', '803034', 'indie,british,alternative,indie pop,orchestral rock']\n",
      "['262000', '87657', '577504', 'spring,orchestral rock,florencia e a maquina,makes me feel some type of way']\n",
      "['214000', '168535', '1565653', 'alternative,indie,rock,british,indie pop']\n",
      "['221000', '86571', '566624', 'slow,Florence and The Machine,orchestral rock,high as hope,florencia e a maquina']\n",
      "['0', '15704', '94206', 'indie,british,alternative,female vocalists,2015']\n",
      "['256000', '16299', '91596', 'indie,british,alternative,female vocalists,2015']\n",
      "['0', '18961', '175564', 'why on earth is this just a bonus track,powerful,witchcraft indie,alternative,indie']\n",
      "['241000', '55409', '361496', 'indie,rock,alternative,british,female vocalists']\n",
      "['233000', '64885', '450701', 'female vocalists,indie,rock,british,alternative']\n",
      "['349000', '105538', '660263', 'rock,alternative,british,female vocalists,indie']\n",
      "['225000', '152284', '1023575', 'british,alternative,female vocalists,best of 2015,beautiful as fuck']\n",
      "['260000', '124474', '874688', 'indie,british,alternative,rock,female vocalists']\n",
      "['264000', '114535', '701041', 'indie,alternative,female vocalists,love at first listen,rock']\n",
      "['195000', '131080', '895287', 'indie,alternative,female vocalists,rock,british']\n",
      "['293000', '189207', '1592573', 'alternative,female vocalists,indie rock,best song on the album so far,love at first listen']\n",
      "['249000', '125009', '905039', 'female vocalists,indie,rock,alternative,pouring down']\n",
      "['307000', '163737', '1521478', 'epic,love at first listen,Incredible,alternative,indie']\n",
      "['334000', '156795', '1214304', 'indie,songs that i will still be listening to in a billion years,beautiful,rock,alternative']\n",
      "['216000', '275446', '2502964', 'indie rock,rock,best of 2015,alternative rock,slaying vocals']\n",
      "['234000', '268051', '2146321', 'love at first listen,alternative,indie rock,indie,female vocalists']\n",
      "['229000', '342358', '2544295', 'indie,alternative,british,female vocalists,love at first listen']\n",
      "['277000', '793151', '8019562', 'indie,female vocalists,indie pop,alternative,love at first listen']\n",
      "['302000', '319653', '2381296', 'indie,female vocalists,anthem,british,magical']\n",
      "['238000', '11484', '75324', 'alternative pop']\n",
      "['183000', '249959', '1747318', 'indie,female vocalists,alternative,Florence and The Machine,indie pop']\n",
      "['319000', '214138', '1499217', 'indie,british,indie pop,female vocalists,alternative']\n",
      "['243000', '213309', '1396135', 'indie,female vocalists,love at first listen,british,Eargasm']\n",
      "['275000', '287528', '2045537', 'indie,alternative,female vocalists,british,indie pop']\n",
      "['243000', '213309', '1396135', 'indie,female vocalists,love at first listen,british,Eargasm']\n",
      "['275000', '287528', '2045537', 'indie,alternative,female vocalists,british,indie pop']\n",
      "['302000', '319653', '2381296', 'indie,female vocalists,anthem,british,magical']\n",
      "['238000', '11484', '75324', 'alternative pop']\n",
      "['333000', '484236', '4563405', 'indie,female vocalists,british,alternative,beautiful']\n",
      "['183000', '249959', '1747318', 'indie,female vocalists,alternative,Florence and The Machine,indie pop']\n",
      "['319000', '214138', '1499217', 'indie,british,indie pop,female vocalists,alternative']\n",
      "['243000', '213309', '1396135', 'indie,female vocalists,love at first listen,british,Eargasm']\n",
      "['275000', '287528', '2045537', 'indie,alternative,female vocalists,british,indie pop']\n",
      "['246000', '298241', '2125240', 'indie,indie pop,female vocalists,alternative,british']\n",
      "['312000', '389572', '3245086', 'indie,female vocalists,alternative,british,love at first listen']\n",
      "['302000', '319653', '2381296', 'indie,female vocalists,anthem,british,magical']\n",
      "['303000', '386692', '3121810', 'indie,female vocalists,epic,alternative,indie pop']\n",
      "['275000', '478161', '4978774', 'indie,alternative,female vocalists,british,love at first listen']\n",
      "['303000', '386692', '3121810', 'indie,female vocalists,epic,alternative,indie pop']\n",
      "['275000', '478161', '4978774', 'indie,alternative,female vocalists,british,love at first listen']\n",
      "['243000', '341561', '2437273', 'indie,british,female vocalists,alternative,indie pop']\n",
      "['229000', '342358', '2544295', 'indie,alternative,british,female vocalists,love at first listen']\n",
      "['271000', '511333', '4692932', 'indie,alternative,female vocalists,indie pop,beautiful']\n",
      "['333000', '484236', '4563405', 'indie,female vocalists,british,alternative,beautiful']\n",
      "['277000', '793151', '8019562', 'indie,female vocalists,indie pop,alternative,love at first listen']\n",
      "['299000', '436501', '3652472', 'indie,female vocalists,british,alternative,love at first listen']\n",
      "['149000', '60127', '401909', 'orchestral rock,florencia e a maquina']\n",
      "['281000', '69907', '497941', 'chill,female vocalists,baroque pop,alternative pop,Ballad']\n",
      "['298000', '62433', '423570', 'chamber pop,handclaps,orchestral rock,florencia e a maquina']\n",
      "['217000', '76306', '522381', 'indie,alternative,british,indie pop,orchestral rock']\n"
     ]
    }
   ],
   "source": [
    "df_x = []\n",
    "# pd.DataFrame(columns=['Duration', 'Listeners', 'PlayCount', 'Tags'])\n",
    "\n",
    "for row in data[['Artist', 'Track']].iterrows():\n",
    "    df_temp = get_tags(row)\n",
    "    df_x.append(df_temp)\n",
    "    print(df_temp)"
   ],
   "metadata": {
    "collapsed": false,
    "pycharm": {
     "name": "#%%\n"
    }
   }
  },
  {
   "cell_type": "code",
   "execution_count": 7,
   "outputs": [
    {
     "data": {
      "text/plain": "    Duration Listeners PlayCount  \\\n0     211000     73240    782473   \n1     208000     57575    501973   \n2     222000     64140    591847   \n3     213000    111426   1288833   \n4     234000     30687    139495   \n..       ...       ...       ...   \n445   299000    436501   3652472   \n446   149000     60127    401909   \n447   281000     69907    497941   \n448   298000     62433    423570   \n449   217000     76306    522381   \n\n                                                  Tags  \n0                    pop,dance,sexy,spanish,electropop  \n1           pop,electropop,sexy,female vocalists,dance  \n2                  pop,electropop,dance,rnb,electronic  \n3      pop,dance,rnb,love at first listen,best of 2015  \n4                        pop,soul,rnb,gospel,handclaps  \n..                                                 ...  \n445  indie,female vocalists,british,alternative,lov...  \n446              orchestral rock,florencia e a maquina  \n447  chill,female vocalists,baroque pop,alternative...  \n448  chamber pop,handclaps,orchestral rock,florenci...  \n449  indie,alternative,british,indie pop,orchestral...  \n\n[450 rows x 4 columns]",
      "text/html": "<div>\n<style scoped>\n    .dataframe tbody tr th:only-of-type {\n        vertical-align: middle;\n    }\n\n    .dataframe tbody tr th {\n        vertical-align: top;\n    }\n\n    .dataframe thead th {\n        text-align: right;\n    }\n</style>\n<table border=\"1\" class=\"dataframe\">\n  <thead>\n    <tr style=\"text-align: right;\">\n      <th></th>\n      <th>Duration</th>\n      <th>Listeners</th>\n      <th>PlayCount</th>\n      <th>Tags</th>\n    </tr>\n  </thead>\n  <tbody>\n    <tr>\n      <th>0</th>\n      <td>211000</td>\n      <td>73240</td>\n      <td>782473</td>\n      <td>pop,dance,sexy,spanish,electropop</td>\n    </tr>\n    <tr>\n      <th>1</th>\n      <td>208000</td>\n      <td>57575</td>\n      <td>501973</td>\n      <td>pop,electropop,sexy,female vocalists,dance</td>\n    </tr>\n    <tr>\n      <th>2</th>\n      <td>222000</td>\n      <td>64140</td>\n      <td>591847</td>\n      <td>pop,electropop,dance,rnb,electronic</td>\n    </tr>\n    <tr>\n      <th>3</th>\n      <td>213000</td>\n      <td>111426</td>\n      <td>1288833</td>\n      <td>pop,dance,rnb,love at first listen,best of 2015</td>\n    </tr>\n    <tr>\n      <th>4</th>\n      <td>234000</td>\n      <td>30687</td>\n      <td>139495</td>\n      <td>pop,soul,rnb,gospel,handclaps</td>\n    </tr>\n    <tr>\n      <th>...</th>\n      <td>...</td>\n      <td>...</td>\n      <td>...</td>\n      <td>...</td>\n    </tr>\n    <tr>\n      <th>445</th>\n      <td>299000</td>\n      <td>436501</td>\n      <td>3652472</td>\n      <td>indie,female vocalists,british,alternative,lov...</td>\n    </tr>\n    <tr>\n      <th>446</th>\n      <td>149000</td>\n      <td>60127</td>\n      <td>401909</td>\n      <td>orchestral rock,florencia e a maquina</td>\n    </tr>\n    <tr>\n      <th>447</th>\n      <td>281000</td>\n      <td>69907</td>\n      <td>497941</td>\n      <td>chill,female vocalists,baroque pop,alternative...</td>\n    </tr>\n    <tr>\n      <th>448</th>\n      <td>298000</td>\n      <td>62433</td>\n      <td>423570</td>\n      <td>chamber pop,handclaps,orchestral rock,florenci...</td>\n    </tr>\n    <tr>\n      <th>449</th>\n      <td>217000</td>\n      <td>76306</td>\n      <td>522381</td>\n      <td>indie,alternative,british,indie pop,orchestral...</td>\n    </tr>\n  </tbody>\n</table>\n<p>450 rows × 4 columns</p>\n</div>"
     },
     "execution_count": 7,
     "metadata": {},
     "output_type": "execute_result"
    }
   ],
   "source": [
    "df_x = pd.DataFrame(df_x, columns=['Duration', 'Listeners', 'PlayCount', 'Tags'])\n",
    "df_x"
   ],
   "metadata": {
    "collapsed": false,
    "pycharm": {
     "name": "#%%\n"
    }
   }
  },
  {
   "cell_type": "code",
   "execution_count": 55,
   "outputs": [
    {
     "data": {
      "text/plain": "                           Artist                      Album  \\\n0                              MØ          Forever Neverland   \n1                              MØ          Forever Neverland   \n2                  MØ, Empress Of          Forever Neverland   \n3                              MØ          Forever Neverland   \n4                              MØ          Forever Neverland   \n..                            ...                        ...   \n95                 Ellie Goulding                   Delirium   \n96                       Ella Mai                   Ella Mai   \n97                       Dua Lipa           Future Nostalgia   \n98  Dua Lipa, Kigo & Charlie Puth  Future Nostalgia - Side B   \n99                       Dua Lipa  Future Nostalgia - Side B   \n\n                                                Track     Day Month  Date  \\\n0                                   Trying to Be Good  Friday   Dec    18   \n1                                    Imaginary Friend  Friday   Dec    18   \n2                                            Red Wine  Friday   Dec    18   \n3                                     Beautiful Wreck  Friday   Dec    18   \n4                          West Hollywood (Interlude)  Friday   Dec    18   \n..                                                ...     ...   ...   ...   \n95  Love Me Like You Do [From \"Fifty Shades Of Grey\"]  Friday   Dec    18   \n96                                               Trip  Friday   Dec    18   \n97                                   Future Nostalgia  Friday   Dec    18   \n98                                           Carry On  Friday   Dec    18   \n99                                           I'm Free  Friday   Dec    18   \n\n    Year   Time Duration Listeners PlayCount  \\\n0   2020  18:51   226000     15988     72604   \n1   2020  18:48   227000     31480    175404   \n2   2020  18:44        0       557      2224   \n3   2020  18:40   229000     24545    143196   \n4   2020  18:37    67000      8838     29330   \n..   ...    ...      ...       ...       ...   \n95  2020  10:02        0       447      2391   \n96  2020  09:57   214000     94381    665357   \n97  2020  09:53   184000    210328   2729364   \n98  2020  09:50        0        76       296   \n99  2020  09:46    68000      2098      9966   \n\n                                      Tags  \n0                                           \n1                       danish,2018 single  \n2                                           \n3                                           \n4                                           \n..                                     ...  \n95                                          \n96          british,rnb,bouncy,trip,fallon  \n97  pop,nu-disco,electro-disco,Disco,dance  \n98                                          \n99                                          \n\n[100 rows x 12 columns]",
      "text/html": "<div>\n<style scoped>\n    .dataframe tbody tr th:only-of-type {\n        vertical-align: middle;\n    }\n\n    .dataframe tbody tr th {\n        vertical-align: top;\n    }\n\n    .dataframe thead th {\n        text-align: right;\n    }\n</style>\n<table border=\"1\" class=\"dataframe\">\n  <thead>\n    <tr style=\"text-align: right;\">\n      <th></th>\n      <th>Artist</th>\n      <th>Album</th>\n      <th>Track</th>\n      <th>Day</th>\n      <th>Month</th>\n      <th>Date</th>\n      <th>Year</th>\n      <th>Time</th>\n      <th>Duration</th>\n      <th>Listeners</th>\n      <th>PlayCount</th>\n      <th>Tags</th>\n    </tr>\n  </thead>\n  <tbody>\n    <tr>\n      <th>0</th>\n      <td>MØ</td>\n      <td>Forever Neverland</td>\n      <td>Trying to Be Good</td>\n      <td>Friday</td>\n      <td>Dec</td>\n      <td>18</td>\n      <td>2020</td>\n      <td>18:51</td>\n      <td>226000</td>\n      <td>15988</td>\n      <td>72604</td>\n      <td></td>\n    </tr>\n    <tr>\n      <th>1</th>\n      <td>MØ</td>\n      <td>Forever Neverland</td>\n      <td>Imaginary Friend</td>\n      <td>Friday</td>\n      <td>Dec</td>\n      <td>18</td>\n      <td>2020</td>\n      <td>18:48</td>\n      <td>227000</td>\n      <td>31480</td>\n      <td>175404</td>\n      <td>danish,2018 single</td>\n    </tr>\n    <tr>\n      <th>2</th>\n      <td>MØ, Empress Of</td>\n      <td>Forever Neverland</td>\n      <td>Red Wine</td>\n      <td>Friday</td>\n      <td>Dec</td>\n      <td>18</td>\n      <td>2020</td>\n      <td>18:44</td>\n      <td>0</td>\n      <td>557</td>\n      <td>2224</td>\n      <td></td>\n    </tr>\n    <tr>\n      <th>3</th>\n      <td>MØ</td>\n      <td>Forever Neverland</td>\n      <td>Beautiful Wreck</td>\n      <td>Friday</td>\n      <td>Dec</td>\n      <td>18</td>\n      <td>2020</td>\n      <td>18:40</td>\n      <td>229000</td>\n      <td>24545</td>\n      <td>143196</td>\n      <td></td>\n    </tr>\n    <tr>\n      <th>4</th>\n      <td>MØ</td>\n      <td>Forever Neverland</td>\n      <td>West Hollywood (Interlude)</td>\n      <td>Friday</td>\n      <td>Dec</td>\n      <td>18</td>\n      <td>2020</td>\n      <td>18:37</td>\n      <td>67000</td>\n      <td>8838</td>\n      <td>29330</td>\n      <td></td>\n    </tr>\n    <tr>\n      <th>...</th>\n      <td>...</td>\n      <td>...</td>\n      <td>...</td>\n      <td>...</td>\n      <td>...</td>\n      <td>...</td>\n      <td>...</td>\n      <td>...</td>\n      <td>...</td>\n      <td>...</td>\n      <td>...</td>\n      <td>...</td>\n    </tr>\n    <tr>\n      <th>95</th>\n      <td>Ellie Goulding</td>\n      <td>Delirium</td>\n      <td>Love Me Like You Do [From \"Fifty Shades Of Grey\"]</td>\n      <td>Friday</td>\n      <td>Dec</td>\n      <td>18</td>\n      <td>2020</td>\n      <td>10:02</td>\n      <td>0</td>\n      <td>447</td>\n      <td>2391</td>\n      <td></td>\n    </tr>\n    <tr>\n      <th>96</th>\n      <td>Ella Mai</td>\n      <td>Ella Mai</td>\n      <td>Trip</td>\n      <td>Friday</td>\n      <td>Dec</td>\n      <td>18</td>\n      <td>2020</td>\n      <td>09:57</td>\n      <td>214000</td>\n      <td>94381</td>\n      <td>665357</td>\n      <td>british,rnb,bouncy,trip,fallon</td>\n    </tr>\n    <tr>\n      <th>97</th>\n      <td>Dua Lipa</td>\n      <td>Future Nostalgia</td>\n      <td>Future Nostalgia</td>\n      <td>Friday</td>\n      <td>Dec</td>\n      <td>18</td>\n      <td>2020</td>\n      <td>09:53</td>\n      <td>184000</td>\n      <td>210328</td>\n      <td>2729364</td>\n      <td>pop,nu-disco,electro-disco,Disco,dance</td>\n    </tr>\n    <tr>\n      <th>98</th>\n      <td>Dua Lipa, Kigo &amp; Charlie Puth</td>\n      <td>Future Nostalgia - Side B</td>\n      <td>Carry On</td>\n      <td>Friday</td>\n      <td>Dec</td>\n      <td>18</td>\n      <td>2020</td>\n      <td>09:50</td>\n      <td>0</td>\n      <td>76</td>\n      <td>296</td>\n      <td></td>\n    </tr>\n    <tr>\n      <th>99</th>\n      <td>Dua Lipa</td>\n      <td>Future Nostalgia - Side B</td>\n      <td>I'm Free</td>\n      <td>Friday</td>\n      <td>Dec</td>\n      <td>18</td>\n      <td>2020</td>\n      <td>09:46</td>\n      <td>68000</td>\n      <td>2098</td>\n      <td>9966</td>\n      <td></td>\n    </tr>\n  </tbody>\n</table>\n<p>100 rows × 12 columns</p>\n</div>"
     },
     "execution_count": 55,
     "metadata": {},
     "output_type": "execute_result"
    }
   ],
   "source": [
    "df_new = pd.concat([data, df_x], axis=1)\n",
    "df_new"
   ],
   "metadata": {
    "collapsed": false,
    "pycharm": {
     "name": "#%%\n"
    }
   }
  },
  {
   "cell_type": "code",
   "execution_count": 49,
   "outputs": [],
   "source": [
    "df_new.drop(['Duration', 'Listeners', 'PlayCount'],axis=1, inplace=True)"
   ],
   "metadata": {
    "collapsed": false,
    "pycharm": {
     "name": "#%%\n"
    }
   }
  },
  {
   "cell_type": "code",
   "execution_count": 56,
   "outputs": [
    {
     "data": {
      "text/plain": "                           Artist                      Album  \\\n0                              MØ          Forever Neverland   \n1                              MØ          Forever Neverland   \n2                  MØ, Empress Of          Forever Neverland   \n3                              MØ          Forever Neverland   \n4                              MØ          Forever Neverland   \n..                            ...                        ...   \n95                 Ellie Goulding                   Delirium   \n96                       Ella Mai                   Ella Mai   \n97                       Dua Lipa           Future Nostalgia   \n98  Dua Lipa, Kigo & Charlie Puth  Future Nostalgia - Side B   \n99                       Dua Lipa  Future Nostalgia - Side B   \n\n                                                Track     Day Month  Date  \\\n0                                   Trying to Be Good  Friday   Dec    18   \n1                                    Imaginary Friend  Friday   Dec    18   \n2                                            Red Wine  Friday   Dec    18   \n3                                     Beautiful Wreck  Friday   Dec    18   \n4                          West Hollywood (Interlude)  Friday   Dec    18   \n..                                                ...     ...   ...   ...   \n95  Love Me Like You Do [From \"Fifty Shades Of Grey\"]  Friday   Dec    18   \n96                                               Trip  Friday   Dec    18   \n97                                   Future Nostalgia  Friday   Dec    18   \n98                                           Carry On  Friday   Dec    18   \n99                                           I'm Free  Friday   Dec    18   \n\n    Year   Time  \n0   2020  18:51  \n1   2020  18:48  \n2   2020  18:44  \n3   2020  18:40  \n4   2020  18:37  \n..   ...    ...  \n95  2020  10:02  \n96  2020  09:57  \n97  2020  09:53  \n98  2020  09:50  \n99  2020  09:46  \n\n[100 rows x 8 columns]",
      "text/html": "<div>\n<style scoped>\n    .dataframe tbody tr th:only-of-type {\n        vertical-align: middle;\n    }\n\n    .dataframe tbody tr th {\n        vertical-align: top;\n    }\n\n    .dataframe thead th {\n        text-align: right;\n    }\n</style>\n<table border=\"1\" class=\"dataframe\">\n  <thead>\n    <tr style=\"text-align: right;\">\n      <th></th>\n      <th>Artist</th>\n      <th>Album</th>\n      <th>Track</th>\n      <th>Day</th>\n      <th>Month</th>\n      <th>Date</th>\n      <th>Year</th>\n      <th>Time</th>\n    </tr>\n  </thead>\n  <tbody>\n    <tr>\n      <th>0</th>\n      <td>MØ</td>\n      <td>Forever Neverland</td>\n      <td>Trying to Be Good</td>\n      <td>Friday</td>\n      <td>Dec</td>\n      <td>18</td>\n      <td>2020</td>\n      <td>18:51</td>\n    </tr>\n    <tr>\n      <th>1</th>\n      <td>MØ</td>\n      <td>Forever Neverland</td>\n      <td>Imaginary Friend</td>\n      <td>Friday</td>\n      <td>Dec</td>\n      <td>18</td>\n      <td>2020</td>\n      <td>18:48</td>\n    </tr>\n    <tr>\n      <th>2</th>\n      <td>MØ, Empress Of</td>\n      <td>Forever Neverland</td>\n      <td>Red Wine</td>\n      <td>Friday</td>\n      <td>Dec</td>\n      <td>18</td>\n      <td>2020</td>\n      <td>18:44</td>\n    </tr>\n    <tr>\n      <th>3</th>\n      <td>MØ</td>\n      <td>Forever Neverland</td>\n      <td>Beautiful Wreck</td>\n      <td>Friday</td>\n      <td>Dec</td>\n      <td>18</td>\n      <td>2020</td>\n      <td>18:40</td>\n    </tr>\n    <tr>\n      <th>4</th>\n      <td>MØ</td>\n      <td>Forever Neverland</td>\n      <td>West Hollywood (Interlude)</td>\n      <td>Friday</td>\n      <td>Dec</td>\n      <td>18</td>\n      <td>2020</td>\n      <td>18:37</td>\n    </tr>\n    <tr>\n      <th>...</th>\n      <td>...</td>\n      <td>...</td>\n      <td>...</td>\n      <td>...</td>\n      <td>...</td>\n      <td>...</td>\n      <td>...</td>\n      <td>...</td>\n    </tr>\n    <tr>\n      <th>95</th>\n      <td>Ellie Goulding</td>\n      <td>Delirium</td>\n      <td>Love Me Like You Do [From \"Fifty Shades Of Grey\"]</td>\n      <td>Friday</td>\n      <td>Dec</td>\n      <td>18</td>\n      <td>2020</td>\n      <td>10:02</td>\n    </tr>\n    <tr>\n      <th>96</th>\n      <td>Ella Mai</td>\n      <td>Ella Mai</td>\n      <td>Trip</td>\n      <td>Friday</td>\n      <td>Dec</td>\n      <td>18</td>\n      <td>2020</td>\n      <td>09:57</td>\n    </tr>\n    <tr>\n      <th>97</th>\n      <td>Dua Lipa</td>\n      <td>Future Nostalgia</td>\n      <td>Future Nostalgia</td>\n      <td>Friday</td>\n      <td>Dec</td>\n      <td>18</td>\n      <td>2020</td>\n      <td>09:53</td>\n    </tr>\n    <tr>\n      <th>98</th>\n      <td>Dua Lipa, Kigo &amp; Charlie Puth</td>\n      <td>Future Nostalgia - Side B</td>\n      <td>Carry On</td>\n      <td>Friday</td>\n      <td>Dec</td>\n      <td>18</td>\n      <td>2020</td>\n      <td>09:50</td>\n    </tr>\n    <tr>\n      <th>99</th>\n      <td>Dua Lipa</td>\n      <td>Future Nostalgia - Side B</td>\n      <td>I'm Free</td>\n      <td>Friday</td>\n      <td>Dec</td>\n      <td>18</td>\n      <td>2020</td>\n      <td>09:46</td>\n    </tr>\n  </tbody>\n</table>\n<p>100 rows × 8 columns</p>\n</div>"
     },
     "execution_count": 56,
     "metadata": {},
     "output_type": "execute_result"
    }
   ],
   "source": [
    "data"
   ],
   "metadata": {
    "collapsed": false,
    "pycharm": {
     "name": "#%%\n"
    }
   }
  },
  {
   "cell_type": "code",
   "execution_count": 8,
   "outputs": [
    {
     "name": "stdout",
     "output_type": "stream",
     "text": [
      "99999\r"
     ]
    }
   ],
   "source": [
    "for i in range(100000):\n",
    "    print(i, end='\\r')"
   ],
   "metadata": {
    "collapsed": false,
    "pycharm": {
     "name": "#%%\n"
    }
   }
  }
 ],
 "metadata": {
  "kernelspec": {
   "display_name": "Python 3",
   "language": "python",
   "name": "python3"
  },
  "language_info": {
   "codemirror_mode": {
    "name": "ipython",
    "version": 2
   },
   "file_extension": ".py",
   "mimetype": "text/x-python",
   "name": "python",
   "nbconvert_exporter": "python",
   "pygments_lexer": "ipython2",
   "version": "2.7.6"
  }
 },
 "nbformat": 4,
 "nbformat_minor": 0
}