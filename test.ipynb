{
 "cells": [
  {
   "cell_type": "code",
   "execution_count": 1,
   "metadata": {
    "collapsed": true
   },
   "outputs": [],
   "source": [
    "import phraser\n",
    "import pandas as pd"
   ]
  },
  {
   "cell_type": "code",
   "execution_count": 2,
   "outputs": [],
   "source": [
    "ashen077 = phraser.pagePhrase('ashen077')"
   ],
   "metadata": {
    "collapsed": false,
    "pycharm": {
     "name": "#%%\n"
    }
   }
  },
  {
   "cell_type": "code",
   "execution_count": 3,
   "outputs": [],
   "source": [
    "ashen077.read_page()"
   ],
   "metadata": {
    "collapsed": false,
    "pycharm": {
     "name": "#%%\n"
    }
   }
  },
  {
   "cell_type": "code",
   "execution_count": 4,
   "outputs": [],
   "source": [
    "# link = ashen077.page_count()"
   ],
   "metadata": {
    "collapsed": false,
    "pycharm": {
     "name": "#%%\n"
    }
   }
  },
  {
   "cell_type": "code",
   "execution_count": 5,
   "outputs": [],
   "source": [
    "# li_list = [[a.getText() for a in li.find_all('a')] for li in link.find_all('li')\n",
    "# if li['class'][0]=='pagination-page']"
   ],
   "metadata": {
    "collapsed": false,
    "pycharm": {
     "name": "#%%\n"
    }
   }
  },
  {
   "cell_type": "code",
   "execution_count": 6,
   "outputs": [],
   "source": [
    "# pagecount = int(li_list[-1][0])\n",
    "# pagecount"
   ],
   "metadata": {
    "collapsed": false,
    "pycharm": {
     "name": "#%%\n"
    }
   }
  },
  {
   "cell_type": "code",
   "execution_count": 3,
   "outputs": [],
   "source": [
    "charts = ashen077.track_lists('https://www.last.fm/user/ashen077/library?page=3')"
   ],
   "metadata": {
    "collapsed": false,
    "pycharm": {
     "name": "#%%\n"
    }
   }
  },
  {
   "cell_type": "code",
   "execution_count": 5,
   "outputs": [],
   "source": [
    "rows = [[tr for tr in sec.find_all('tr')] for sec in charts]"
   ],
   "metadata": {
    "collapsed": false,
    "pycharm": {
     "name": "#%%\n"
    }
   }
  },
  {
   "cell_type": "code",
   "execution_count": 6,
   "outputs": [
    {
     "data": {
      "text/plain": "2"
     },
     "execution_count": 6,
     "metadata": {},
     "output_type": "execute_result"
    }
   ],
   "source": [
    "len(charts)"
   ],
   "metadata": {
    "collapsed": false,
    "pycharm": {
     "name": "#%%\n"
    }
   }
  },
  {
   "cell_type": "code",
   "execution_count": 7,
   "outputs": [
    {
     "ename": "TypeError",
     "evalue": "unsupported operand type(s) for +: 'Tag' and 'Tag'",
     "output_type": "error",
     "traceback": [
      "\u001B[1;31m---------------------------------------------------------------------------\u001B[0m",
      "\u001B[1;31mTypeError\u001B[0m                                 Traceback (most recent call last)",
      "\u001B[1;32m<ipython-input-7-52581acea765>\u001B[0m in \u001B[0;36m<module>\u001B[1;34m\u001B[0m\n\u001B[1;32m----> 1\u001B[1;33m \u001B[0mtr\u001B[0m \u001B[1;33m=\u001B[0m \u001B[0mcharts\u001B[0m\u001B[1;33m[\u001B[0m\u001B[1;36m0\u001B[0m\u001B[1;33m]\u001B[0m \u001B[1;33m+\u001B[0m \u001B[0mcharts\u001B[0m\u001B[1;33m[\u001B[0m\u001B[1;36m1\u001B[0m\u001B[1;33m]\u001B[0m\u001B[1;33m\u001B[0m\u001B[1;33m\u001B[0m\u001B[0m\n\u001B[0m",
      "\u001B[1;31mTypeError\u001B[0m: unsupported operand type(s) for +: 'Tag' and 'Tag'"
     ]
    }
   ],
   "source": [
    "tr = charts[0].find_all('tr') + charts[1].find_all('tr')"
   ],
   "metadata": {
    "collapsed": false,
    "pycharm": {
     "name": "#%%\n"
    }
   }
  },
  {
   "cell_type": "code",
   "execution_count": null,
   "outputs": [],
   "source": [
    "len(tr)"
   ],
   "metadata": {
    "collapsed": false,
    "pycharm": {
     "name": "#%%\n"
    }
   }
  },
  {
   "cell_type": "code",
   "execution_count": 15,
   "outputs": [
    {
     "data": {
      "text/plain": "5"
     },
     "execution_count": 15,
     "metadata": {},
     "output_type": "execute_result"
    }
   ],
   "source": [
    "len(charts[0])"
   ],
   "metadata": {
    "collapsed": false,
    "pycharm": {
     "name": "#%%\n"
    }
   }
  },
  {
   "cell_type": "code",
   "execution_count": 8,
   "outputs": [],
   "source": [
    "tr = []\n",
    "for sec in charts:\n",
    "    tr += sec.find_all('tr')"
   ],
   "metadata": {
    "collapsed": false,
    "pycharm": {
     "name": "#%%\n"
    }
   }
  },
  {
   "cell_type": "code",
   "execution_count": 9,
   "outputs": [
    {
     "data": {
      "text/plain": "52"
     },
     "execution_count": 9,
     "metadata": {},
     "output_type": "execute_result"
    }
   ],
   "source": [
    "len(tr)"
   ],
   "metadata": {
    "collapsed": false,
    "pycharm": {
     "name": "#%%\n"
    }
   }
  },
  {
   "cell_type": "code",
   "execution_count": 16,
   "outputs": [
    {
     "name": "stdout",
     "output_type": "stream",
     "text": [
      "ok\n",
      "ok\n",
      "ok\n",
      "ok\n",
      "ok\n",
      "ok\n",
      "ok\n",
      "ok\n",
      "ok\n",
      "ok\n",
      "ok\n",
      "ok\n",
      "ok\n",
      "ok\n",
      "ok\n",
      "ok\n",
      "ok\n",
      "ok\n",
      "ok\n",
      "ok\n",
      "ok\n",
      "ok\n",
      "ok\n",
      "ok\n",
      "ok\n",
      "ok\n",
      "ok\n",
      "ok\n",
      "ok\n",
      "ok\n",
      "ok\n",
      "ok\n",
      "ok\n",
      "ok\n",
      "ok\n",
      "ok\n",
      "ok\n",
      "ok\n",
      "ok\n",
      "ok\n",
      "ok\n",
      "ok\n",
      "ok\n",
      "ok\n",
      "ok\n",
      "ok\n",
      "ok\n",
      "ok\n",
      "ok\n",
      "ok\n"
     ]
    },
    {
     "data": {
      "text/plain": "52"
     },
     "execution_count": 16,
     "metadata": {},
     "output_type": "execute_result"
    }
   ],
   "source": [
    "for trs in tr:\n",
    "    if trs.has_attr('class'):\n",
    "        print('ok')\n",
    "    else:\n",
    "        del trs\n",
    "    # print(type(trs), type(tr))\n",
    "\n",
    "len(tr)"
   ],
   "metadata": {
    "collapsed": false,
    "pycharm": {
     "name": "#%%\n"
    }
   }
  },
  {
   "cell_type": "code",
   "execution_count": 12,
   "outputs": [
    {
     "data": {
      "text/plain": "<tr>\n<th>Play</th>\n<th>\n                        \n                            Album\n                        \n                    </th>\n<th>Loved</th>\n<th>\n                    \n                    \n                        Track name\n                    \n                </th>\n<th>Artist name </th>\n<th>Buy</th>\n<th>Options</th>\n<th>Timestamp</th>\n</tr>"
     },
     "execution_count": 12,
     "metadata": {},
     "output_type": "execute_result"
    }
   ],
   "source": [
    "tr[0]"
   ],
   "metadata": {
    "collapsed": false,
    "pycharm": {
     "name": "#%%\n"
    }
   }
  },
  {
   "cell_type": "code",
   "execution_count": 8,
   "outputs": [
    {
     "name": "stdout",
     "output_type": "stream",
     "text": [
      "<tr class=\"chartlist-row chartlist-row--with-artist chartlist-row--with-buylinks js-focus-controls-container\" data-ajax-form-state=\"\" data-edit-scrobble-id=\"82b83cc8b4e5a16105471202af632904\" data-playlist-row=\"\" data-scrobble-row=\"\">\n",
      " <td class=\"chartlist-play\">\n",
      "  <a class=\"chartlist-play-button js-playlink\" data-analytics-action=\"PlayTrackOnPage\" data-analytics-label=\"youtube\" data-artist-name=\"Tame Impala\" data-artist-url=\"/music/Tame+Impala\" data-playlink-affiliate=\"youtube\" data-track-name=\"Instant Destiny\" data-track-url=\"/music/Tame+Impala/_/Instant+Destiny\" data-youtube-id=\"hWtY1t_8Y_M\" data-youtube-url=\"https://www.youtube.com/watch?v=hWtY1t_8Y_M\" href=\"https://www.youtube.com/watch?v=hWtY1t_8Y_M\" target=\"_blank\" title=\"Play on YouTube\">\n",
      "   Play track\n",
      "  </a>\n",
      " </td>\n",
      " <td class=\"chartlist-image\">\n",
      "  <a class=\"cover-art\" href=\"/music/Tame+Impala/The+Slow+Rush\">\n",
      "   <img alt=\"The Slow Rush\" loading=\"lazy\" src=\"https://lastfm.freetls.fastly.net/i/u/64s/832ade6a35ec2a224ea9a5be326b5de4.jpg\"/>\n",
      "  </a>\n",
      " </td>\n",
      " <td class=\"chartlist-loved\">\n",
      "  <div data-toggle-button=\"\" data-toggle-button-current-state=\"unloved\" data-toggle-button-group-id=\"168db06e1573d13d61f9bff18d69759b\" data-toggle-button-states=\"[{&quot;name&quot;: &quot;unloved&quot;, &quot;button_text&quot;: &quot;ashen077 doesn't love this track&quot;, &quot;url&quot;: null, &quot;action&quot;: &quot;love&quot;, &quot;analytics_action&quot;: &quot;LoveTrack&quot;, &quot;event&quot;: &quot;track.love&quot;}, {&quot;name&quot;: &quot;loved&quot;, &quot;button_text&quot;: &quot;ashen077 loves this track&quot;, &quot;url&quot;: null, &quot;action&quot;: &quot;unlove&quot;, &quot;analytics_action&quot;: &quot;UnloveTrack&quot;, &quot;event&quot;: &quot;track.unlove&quot;}]\">\n",
      "   <span class=\"toggle-button chartlist-love-button\">\n",
      "    ashen077 doesn't love this track\n",
      "   </span>\n",
      "  </div>\n",
      " </td>\n",
      " <td class=\"chartlist-name\" data-toggle-button=\"\" data-toggle-button-current-state=\"unloved\" data-toggle-button-group-id=\"168db06e1573d13d61f9bff18d69759b\">\n",
      "  <a class=\"\" href=\"/music/Tame+Impala/_/Instant+Destiny\" title=\"Instant Destiny\">\n",
      "   Instant Destiny\n",
      "  </a>\n",
      " </td>\n",
      " <td class=\"chartlist-artist\">\n",
      "  <a href=\"/music/Tame+Impala\" title=\"Tame Impala\">\n",
      "   Tame Impala\n",
      "  </a>\n",
      " </td>\n",
      " <td class=\"chartlist-buylinks focus-control\">\n",
      "  <div class=\"lazy-buylinks\">\n",
      "   <button aria-controls=\"buylinks-ed39b0f0-2e4b-45d8-85f6-4f466e0c5cc1\" aria-expanded=\"false\" class=\"disclose-trigger lazy-buylinks-toggle\" data-disclose-lazy-buylinks=\"\" data-dropdown-layout-at=\"center bottom+3\" data-lazy-buylink-url=\"/music/Tame+Impala/_/Instant+Destiny/+partial/buylinks\">\n",
      "    Buy\n",
      "   </button>\n",
      "   <ul class=\"disclose-hide dropdown-menu-clickable buylinks-dropdown-menu\" id=\"buylinks-ed39b0f0-2e4b-45d8-85f6-4f466e0c5cc1\">\n",
      "    <li aria-live=\"polite\" class=\"menu-loading\" data-lazy-buylinks-loading=\"\">\n",
      "     Loading\n",
      "    </li>\n",
      "   </ul>\n",
      "  </div>\n",
      " </td>\n",
      " <td class=\"chartlist-more focus-control\">\n",
      "  <div>\n",
      "   <button aria-controls=\"chartlist-more-ff4d8066-1e3d-4707-b5e0-afb9ab546b01\" aria-expanded=\"false\" class=\"disclose-trigger chartlist-more-button\" data-disclose-lazy-buylinks=\"\" data-dropdown-layout-at=\"center bottom+3\" data-lazy-buylink-url=\"/music/Tame+Impala/_/Instant+Destiny/+partial/buylinks\">\n",
      "    More\n",
      "   </button>\n",
      "   <ul class=\"disclose-hide disclose-hide--js-only dropdown-menu-clickable chartlist-more-menu\" id=\"chartlist-more-ff4d8066-1e3d-4707-b5e0-afb9ab546b01\">\n",
      "    <li>\n",
      "     <a class=\"dropdown-menu-clickable-item more-item--track\" href=\"/music/Tame+Impala/_/Instant+Destiny\">\n",
      "      Go to track\n",
      "     </a>\n",
      "    </li>\n",
      "    <li>\n",
      "     <a class=\"dropdown-menu-clickable-item more-item--track\" href=\"/user/ashen077/library/music/Tame+Impala/_/Instant+Destiny\">\n",
      "      Go to track in library\n",
      "     </a>\n",
      "    </li>\n",
      "    <li>\n",
      "     <a class=\"dropdown-menu-clickable-item more-item--artist\" href=\"/music/Tame+Impala\">\n",
      "      Go to artist\n",
      "     </a>\n",
      "    </li>\n",
      "    <li>\n",
      "     <a class=\"dropdown-menu-clickable-item more-item--artist\" href=\"/user/ashen077/library/music/Tame+Impala\">\n",
      "      Go to artist in library\n",
      "     </a>\n",
      "    </li>\n",
      "    <li>\n",
      "     <a class=\"mimic-link dropdown-menu-clickable-item more-item--obsession\" data-open-modal=\"/join/modal?action=set-obsession&amp;back_to=%2Fuser%2Fashen077%2Flibrary\" href=\"https://secure.last.fm/login?next=/user/ashen077/library\">\n",
      "      Set track as current obsession\n",
      "     </a>\n",
      "    </li>\n",
      "    <li class=\"visible-xs\">\n",
      "     <span class=\"menu-title\">\n",
      "      Get track\n",
      "     </span>\n",
      "     <ul class=\"buylinks-dropdown-menu\">\n",
      "      <li aria-live=\"polite\" class=\"menu-loading\" data-lazy-buylinks-loading=\"\">\n",
      "       Loading\n",
      "      </li>\n",
      "     </ul>\n",
      "    </li>\n",
      "   </ul>\n",
      "  </div>\n",
      " </td>\n",
      " <td class=\"chartlist-timestamp chartlist-timestamp--lang-en\">\n",
      "  <span title=\"Sunday 6 Dec 2020, 8:49am\">\n",
      "   11 hours ago\n",
      "  </span>\n",
      " </td>\n",
      "</tr>\n",
      "\n"
     ]
    }
   ],
   "source": [
    "print(charts[0].prettify())"
   ],
   "metadata": {
    "collapsed": false,
    "pycharm": {
     "name": "#%%\n"
    }
   }
  },
  {
   "cell_type": "code",
   "execution_count": 9,
   "outputs": [],
   "source": [
    "tds = [[td for td in tr.find_all('td')] for tr in charts]"
   ],
   "metadata": {
    "collapsed": false,
    "pycharm": {
     "name": "#%%\n"
    }
   }
  },
  {
   "cell_type": "code",
   "execution_count": 12,
   "outputs": [
    {
     "data": {
      "text/plain": "(50, 8)"
     },
     "execution_count": 12,
     "metadata": {},
     "output_type": "execute_result"
    }
   ],
   "source": [
    "len(tds), len(tds[0])"
   ],
   "metadata": {
    "collapsed": false,
    "pycharm": {
     "name": "#%%\n"
    }
   }
  },
  {
   "cell_type": "code",
   "execution_count": 16,
   "outputs": [],
   "source": [
    "df = pd.DataFrame(tds)"
   ],
   "metadata": {
    "collapsed": false,
    "pycharm": {
     "name": "#%%\n"
    }
   }
  },
  {
   "cell_type": "code",
   "execution_count": 17,
   "outputs": [
    {
     "data": {
      "text/plain": "                                                   0                       1  \\\n0  [\\n, [\\n                \\n                    ...  [\\n, [\\n, [], \\n], \\n]   \n1  [\\n, [\\n                \\n                    ...  [\\n, [\\n, [], \\n], \\n]   \n2  [\\n, [\\n                \\n                    ...  [\\n, [\\n, [], \\n], \\n]   \n3  [\\n, [\\n                \\n                    ...  [\\n, [\\n, [], \\n], \\n]   \n4                                               [\\n]  [\\n, [\\n, [], \\n], \\n]   \n5                                               [\\n]  [\\n, [\\n, [], \\n], \\n]   \n\n                                                   2  \\\n0  [\\n, [\\n, [\\n                ashen077 doesn't ...   \n1  [\\n, [\\n, [\\n                ashen077 doesn't ...   \n2  [\\n, [\\n, [\\n                ashen077 doesn't ...   \n3  [\\n, [\\n, [\\n                ashen077 doesn't ...   \n4  [\\n, [\\n, [\\n                ashen077 doesn't ...   \n5  [\\n, [\\n, [\\n                ashen077 doesn't ...   \n\n                                                   3  \\\n0                        [\\n, [Instant Destiny], \\n]   \n1                          [\\n, [One More Year], \\n]   \n2                          [\\n, [Warm December], \\n]   \n3                [\\n, [Short Red Silk Lingerie], \\n]   \n4  [\\n, [Have Yourself A Merry Little Christmas],...   \n5                            [\\n, [Winter Time], \\n]   \n\n                                          4  \\\n0                   [\\n, [Tame Impala], \\n]   \n1                   [\\n, [Tame Impala], \\n]   \n2               [\\n, [Sabrina Claudio], \\n]   \n3               [\\n, [Sabrina Claudio], \\n]   \n4               [\\n, [Sabrina Claudio], \\n]   \n5  [\\n, [Sabrina Claudio, Alicia Keys], \\n]   \n\n                                                   5  \\\n0  [\\n, [\\n, [Buy], \\n, [\\n, <li aria-live=\"polit...   \n1  [\\n, [\\n, [Buy], \\n, [\\n, <li aria-live=\"polit...   \n2  [\\n, [\\n, [Buy], \\n, [\\n, <li aria-live=\"polit...   \n3  [\\n, [\\n, [Buy], \\n, [\\n, <li aria-live=\"polit...   \n4  [\\n, [\\n, [Buy], \\n, [\\n, <li aria-live=\"polit...   \n5  [\\n, [\\n, [Buy], \\n, [\\n, <li aria-live=\"polit...   \n\n                                                   6  \\\n0  [\\n, [\\n, [More], \\n, [\\n, <li>\\n<a class=\"dro...   \n1  [\\n, [\\n, [More], \\n, [\\n, <li>\\n<a class=\"dro...   \n2  [\\n, [\\n, [More], \\n, [\\n, <li>\\n<a class=\"dro...   \n3  [\\n, [\\n, [More], \\n, [\\n, <li>\\n<a class=\"dro...   \n4  [\\n, [\\n, [More], \\n, [\\n, <li>\\n<a class=\"dro...   \n5  [\\n, [\\n, [More], \\n, [\\n, <li>\\n<a class=\"dro...   \n\n                                                   7  \n0  [\\n, [\\n                        11 hours ago\\n...  \n1  [\\n, [\\n                        11 hours ago\\n...  \n2  [\\n, [\\n                        23 hours ago\\n...  \n3  [\\n, [\\n                        23 hours ago\\n...  \n4  [\\n, [\\n                        23 hours ago\\n...  \n5  [\\n, [\\n                        23 hours ago\\n...  ",
      "text/html": "<div>\n<style scoped>\n    .dataframe tbody tr th:only-of-type {\n        vertical-align: middle;\n    }\n\n    .dataframe tbody tr th {\n        vertical-align: top;\n    }\n\n    .dataframe thead th {\n        text-align: right;\n    }\n</style>\n<table border=\"1\" class=\"dataframe\">\n  <thead>\n    <tr style=\"text-align: right;\">\n      <th></th>\n      <th>0</th>\n      <th>1</th>\n      <th>2</th>\n      <th>3</th>\n      <th>4</th>\n      <th>5</th>\n      <th>6</th>\n      <th>7</th>\n    </tr>\n  </thead>\n  <tbody>\n    <tr>\n      <th>0</th>\n      <td>[\\n, [\\n                \\n                    ...</td>\n      <td>[\\n, [\\n, [], \\n], \\n]</td>\n      <td>[\\n, [\\n, [\\n                ashen077 doesn't ...</td>\n      <td>[\\n, [Instant Destiny], \\n]</td>\n      <td>[\\n, [Tame Impala], \\n]</td>\n      <td>[\\n, [\\n, [Buy], \\n, [\\n, &lt;li aria-live=\"polit...</td>\n      <td>[\\n, [\\n, [More], \\n, [\\n, &lt;li&gt;\\n&lt;a class=\"dro...</td>\n      <td>[\\n, [\\n                        11 hours ago\\n...</td>\n    </tr>\n    <tr>\n      <th>1</th>\n      <td>[\\n, [\\n                \\n                    ...</td>\n      <td>[\\n, [\\n, [], \\n], \\n]</td>\n      <td>[\\n, [\\n, [\\n                ashen077 doesn't ...</td>\n      <td>[\\n, [One More Year], \\n]</td>\n      <td>[\\n, [Tame Impala], \\n]</td>\n      <td>[\\n, [\\n, [Buy], \\n, [\\n, &lt;li aria-live=\"polit...</td>\n      <td>[\\n, [\\n, [More], \\n, [\\n, &lt;li&gt;\\n&lt;a class=\"dro...</td>\n      <td>[\\n, [\\n                        11 hours ago\\n...</td>\n    </tr>\n    <tr>\n      <th>2</th>\n      <td>[\\n, [\\n                \\n                    ...</td>\n      <td>[\\n, [\\n, [], \\n], \\n]</td>\n      <td>[\\n, [\\n, [\\n                ashen077 doesn't ...</td>\n      <td>[\\n, [Warm December], \\n]</td>\n      <td>[\\n, [Sabrina Claudio], \\n]</td>\n      <td>[\\n, [\\n, [Buy], \\n, [\\n, &lt;li aria-live=\"polit...</td>\n      <td>[\\n, [\\n, [More], \\n, [\\n, &lt;li&gt;\\n&lt;a class=\"dro...</td>\n      <td>[\\n, [\\n                        23 hours ago\\n...</td>\n    </tr>\n    <tr>\n      <th>3</th>\n      <td>[\\n, [\\n                \\n                    ...</td>\n      <td>[\\n, [\\n, [], \\n], \\n]</td>\n      <td>[\\n, [\\n, [\\n                ashen077 doesn't ...</td>\n      <td>[\\n, [Short Red Silk Lingerie], \\n]</td>\n      <td>[\\n, [Sabrina Claudio], \\n]</td>\n      <td>[\\n, [\\n, [Buy], \\n, [\\n, &lt;li aria-live=\"polit...</td>\n      <td>[\\n, [\\n, [More], \\n, [\\n, &lt;li&gt;\\n&lt;a class=\"dro...</td>\n      <td>[\\n, [\\n                        23 hours ago\\n...</td>\n    </tr>\n    <tr>\n      <th>4</th>\n      <td>[\\n]</td>\n      <td>[\\n, [\\n, [], \\n], \\n]</td>\n      <td>[\\n, [\\n, [\\n                ashen077 doesn't ...</td>\n      <td>[\\n, [Have Yourself A Merry Little Christmas],...</td>\n      <td>[\\n, [Sabrina Claudio], \\n]</td>\n      <td>[\\n, [\\n, [Buy], \\n, [\\n, &lt;li aria-live=\"polit...</td>\n      <td>[\\n, [\\n, [More], \\n, [\\n, &lt;li&gt;\\n&lt;a class=\"dro...</td>\n      <td>[\\n, [\\n                        23 hours ago\\n...</td>\n    </tr>\n    <tr>\n      <th>5</th>\n      <td>[\\n]</td>\n      <td>[\\n, [\\n, [], \\n], \\n]</td>\n      <td>[\\n, [\\n, [\\n                ashen077 doesn't ...</td>\n      <td>[\\n, [Winter Time], \\n]</td>\n      <td>[\\n, [Sabrina Claudio, Alicia Keys], \\n]</td>\n      <td>[\\n, [\\n, [Buy], \\n, [\\n, &lt;li aria-live=\"polit...</td>\n      <td>[\\n, [\\n, [More], \\n, [\\n, &lt;li&gt;\\n&lt;a class=\"dro...</td>\n      <td>[\\n, [\\n                        23 hours ago\\n...</td>\n    </tr>\n  </tbody>\n</table>\n</div>"
     },
     "execution_count": 17,
     "metadata": {},
     "output_type": "execute_result"
    }
   ],
   "source": [
    "df.head(6)"
   ],
   "metadata": {
    "collapsed": false,
    "pycharm": {
     "name": "#%%\n"
    }
   }
  },
  {
   "cell_type": "code",
   "execution_count": 19,
   "outputs": [
    {
     "name": "stdout",
     "output_type": "stream",
     "text": [
      "<td class=\"chartlist-play\">\n",
      "<a class=\"chartlist-play-button js-playlink\" data-analytics-action=\"PlayTrackOnPage\" data-analytics-label=\"youtube\" data-artist-name=\"Tame Impala\" data-artist-url=\"/music/Tame+Impala\" data-playlink-affiliate=\"youtube\" data-track-name=\"Instant Destiny\" data-track-url=\"/music/Tame+Impala/_/Instant+Destiny\" data-youtube-id=\"hWtY1t_8Y_M\" data-youtube-url=\"https://www.youtube.com/watch?v=hWtY1t_8Y_M\" href=\"https://www.youtube.com/watch?v=hWtY1t_8Y_M\" target=\"_blank\" title=\"Play on YouTube\">\n",
      "                \n",
      "                    Play track\n",
      "                \n",
      "            </a>\n",
      "</td>\n"
     ]
    }
   ],
   "source": [
    "print(df[0].iloc[0])"
   ],
   "metadata": {
    "collapsed": false,
    "pycharm": {
     "name": "#%%\n"
    }
   }
  },
  {
   "cell_type": "code",
   "execution_count": 20,
   "outputs": [
    {
     "name": "stdout",
     "output_type": "stream",
     "text": [
      "<td class=\"chartlist-image\">\n",
      "<a class=\"cover-art\" href=\"/music/Tame+Impala/The+Slow+Rush\">\n",
      "<img alt=\"The Slow Rush\" loading=\"lazy\" src=\"https://lastfm.freetls.fastly.net/i/u/64s/832ade6a35ec2a224ea9a5be326b5de4.jpg\"/>\n",
      "</a>\n",
      "</td>\n"
     ]
    }
   ],
   "source": [
    "print(df[1].iloc[0])"
   ],
   "metadata": {
    "collapsed": false,
    "pycharm": {
     "name": "#%%\n"
    }
   }
  },
  {
   "cell_type": "code",
   "execution_count": 21,
   "outputs": [
    {
     "name": "stdout",
     "output_type": "stream",
     "text": [
      "<td class=\"chartlist-loved\">\n",
      "<div data-toggle-button=\"\" data-toggle-button-current-state=\"unloved\" data-toggle-button-group-id=\"168db06e1573d13d61f9bff18d69759b\" data-toggle-button-states=\"[{&quot;name&quot;: &quot;unloved&quot;, &quot;button_text&quot;: &quot;ashen077 doesn't love this track&quot;, &quot;url&quot;: null, &quot;action&quot;: &quot;love&quot;, &quot;analytics_action&quot;: &quot;LoveTrack&quot;, &quot;event&quot;: &quot;track.love&quot;}, {&quot;name&quot;: &quot;loved&quot;, &quot;button_text&quot;: &quot;ashen077 loves this track&quot;, &quot;url&quot;: null, &quot;action&quot;: &quot;unlove&quot;, &quot;analytics_action&quot;: &quot;UnloveTrack&quot;, &quot;event&quot;: &quot;track.unlove&quot;}]\">\n",
      "<span class=\"toggle-button chartlist-love-button\">\n",
      "                ashen077 doesn't love this track\n",
      "            </span>\n",
      "</div>\n",
      "</td>\n"
     ]
    }
   ],
   "source": [
    "print(df[2].iloc[0])"
   ],
   "metadata": {
    "collapsed": false,
    "pycharm": {
     "name": "#%%\n"
    }
   }
  },
  {
   "cell_type": "code",
   "execution_count": 22,
   "outputs": [
    {
     "name": "stdout",
     "output_type": "stream",
     "text": [
      "<td class=\"chartlist-name\" data-toggle-button=\"\" data-toggle-button-current-state=\"unloved\" data-toggle-button-group-id=\"168db06e1573d13d61f9bff18d69759b\">\n",
      "<a class=\"\" href=\"/music/Tame+Impala/_/Instant+Destiny\" title=\"Instant Destiny\">Instant Destiny</a>\n",
      "</td>\n"
     ]
    }
   ],
   "source": [
    "print(df[3].iloc[0])"
   ],
   "metadata": {
    "collapsed": false,
    "pycharm": {
     "name": "#%%\n"
    }
   }
  },
  {
   "cell_type": "code",
   "execution_count": 23,
   "outputs": [
    {
     "name": "stdout",
     "output_type": "stream",
     "text": [
      "<td class=\"chartlist-artist\">\n",
      "<a href=\"/music/Tame+Impala\" title=\"Tame Impala\">Tame Impala</a>\n",
      "</td>\n"
     ]
    }
   ],
   "source": [
    "print(df[4].iloc[0])"
   ],
   "metadata": {
    "collapsed": false,
    "pycharm": {
     "name": "#%%\n"
    }
   }
  },
  {
   "cell_type": "code",
   "execution_count": 24,
   "outputs": [
    {
     "name": "stdout",
     "output_type": "stream",
     "text": [
      "<td class=\"chartlist-buylinks focus-control\">\n",
      "<div class=\"lazy-buylinks\">\n",
      "<button aria-controls=\"buylinks-ed39b0f0-2e4b-45d8-85f6-4f466e0c5cc1\" aria-expanded=\"false\" class=\"disclose-trigger lazy-buylinks-toggle\" data-disclose-lazy-buylinks=\"\" data-dropdown-layout-at=\"center bottom+3\" data-lazy-buylink-url=\"/music/Tame+Impala/_/Instant+Destiny/+partial/buylinks\">Buy</button>\n",
      "<ul class=\"disclose-hide dropdown-menu-clickable buylinks-dropdown-menu\" id=\"buylinks-ed39b0f0-2e4b-45d8-85f6-4f466e0c5cc1\">\n",
      "<li aria-live=\"polite\" class=\"menu-loading\" data-lazy-buylinks-loading=\"\">Loading</li>\n",
      "</ul>\n",
      "</div>\n",
      "</td>\n"
     ]
    }
   ],
   "source": [
    "print(df[5].iloc[0])"
   ],
   "metadata": {
    "collapsed": false,
    "pycharm": {
     "name": "#%%\n"
    }
   }
  },
  {
   "cell_type": "code",
   "execution_count": 25,
   "outputs": [
    {
     "name": "stdout",
     "output_type": "stream",
     "text": [
      "<td class=\"chartlist-more focus-control\">\n",
      "<div>\n",
      "<button aria-controls=\"chartlist-more-ff4d8066-1e3d-4707-b5e0-afb9ab546b01\" aria-expanded=\"false\" class=\"disclose-trigger chartlist-more-button\" data-disclose-lazy-buylinks=\"\" data-dropdown-layout-at=\"center bottom+3\" data-lazy-buylink-url=\"/music/Tame+Impala/_/Instant+Destiny/+partial/buylinks\">More</button>\n",
      "<ul class=\"disclose-hide disclose-hide--js-only dropdown-menu-clickable chartlist-more-menu\" id=\"chartlist-more-ff4d8066-1e3d-4707-b5e0-afb9ab546b01\">\n",
      "<li>\n",
      "<a class=\"dropdown-menu-clickable-item more-item--track\" href=\"/music/Tame+Impala/_/Instant+Destiny\">\n",
      "            \n",
      "                \n",
      "                    Go to track\n",
      "                \n",
      "            \n",
      "        </a>\n",
      "</li>\n",
      "<li>\n",
      "<a class=\"dropdown-menu-clickable-item more-item--track\" href=\"/user/ashen077/library/music/Tame+Impala/_/Instant+Destiny\">\n",
      "            \n",
      "                \n",
      "                    Go to track in library\n",
      "                \n",
      "            \n",
      "        </a>\n",
      "</li>\n",
      "<li>\n",
      "<a class=\"dropdown-menu-clickable-item more-item--artist\" href=\"/music/Tame+Impala\">\n",
      "            \n",
      "                \n",
      "                    Go to artist\n",
      "                \n",
      "            \n",
      "        </a>\n",
      "</li>\n",
      "<li>\n",
      "<a class=\"dropdown-menu-clickable-item more-item--artist\" href=\"/user/ashen077/library/music/Tame+Impala\">\n",
      "            \n",
      "                \n",
      "                    Go to artist in library\n",
      "                \n",
      "            \n",
      "        </a>\n",
      "</li>\n",
      "<li>\n",
      "<a class=\"mimic-link dropdown-menu-clickable-item more-item--obsession\" data-open-modal=\"/join/modal?action=set-obsession&amp;back_to=%2Fuser%2Fashen077%2Flibrary\" href=\"https://secure.last.fm/login?next=/user/ashen077/library\">\n",
      "            Set track as current obsession\n",
      "        </a>\n",
      "</li>\n",
      "<li class=\"visible-xs\">\n",
      "<span class=\"menu-title\">\n",
      "                                \n",
      "                                    Get track\n",
      "                                \n",
      "                            </span>\n",
      "<ul class=\"buylinks-dropdown-menu\">\n",
      "<li aria-live=\"polite\" class=\"menu-loading\" data-lazy-buylinks-loading=\"\">Loading</li>\n",
      "</ul>\n",
      "</li>\n",
      "</ul>\n",
      "</div>\n",
      "</td>\n"
     ]
    }
   ],
   "source": [
    "print(df[6].iloc[0])"
   ],
   "metadata": {
    "collapsed": false,
    "pycharm": {
     "name": "#%%\n"
    }
   }
  },
  {
   "cell_type": "code",
   "execution_count": 26,
   "outputs": [
    {
     "name": "stdout",
     "output_type": "stream",
     "text": [
      "<td class=\"chartlist-timestamp chartlist-timestamp--lang-en\">\n",
      "<span title=\"Sunday 6 Dec 2020, 8:49am\">\n",
      "                        11 hours ago\n",
      "                    </span>\n",
      "</td>\n"
     ]
    }
   ],
   "source": [
    "print(df[7].iloc[0])"
   ],
   "metadata": {
    "collapsed": false,
    "pycharm": {
     "name": "#%%\n"
    }
   }
  },
  {
   "cell_type": "code",
   "execution_count": 27,
   "outputs": [],
   "source": [
    "df = df.drop([0, 2, 5, 6], axis=1)"
   ],
   "metadata": {
    "collapsed": false,
    "pycharm": {
     "name": "#%%\n"
    }
   }
  },
  {
   "cell_type": "code",
   "execution_count": 28,
   "outputs": [
    {
     "data": {
      "text/plain": "                        1                                                  3  \\\n0  [\\n, [\\n, [], \\n], \\n]                        [\\n, [Instant Destiny], \\n]   \n1  [\\n, [\\n, [], \\n], \\n]                          [\\n, [One More Year], \\n]   \n2  [\\n, [\\n, [], \\n], \\n]                          [\\n, [Warm December], \\n]   \n3  [\\n, [\\n, [], \\n], \\n]                [\\n, [Short Red Silk Lingerie], \\n]   \n4  [\\n, [\\n, [], \\n], \\n]  [\\n, [Have Yourself A Merry Little Christmas],...   \n5  [\\n, [\\n, [], \\n], \\n]                            [\\n, [Winter Time], \\n]   \n\n                                          4  \\\n0                   [\\n, [Tame Impala], \\n]   \n1                   [\\n, [Tame Impala], \\n]   \n2               [\\n, [Sabrina Claudio], \\n]   \n3               [\\n, [Sabrina Claudio], \\n]   \n4               [\\n, [Sabrina Claudio], \\n]   \n5  [\\n, [Sabrina Claudio, Alicia Keys], \\n]   \n\n                                                   7  \n0  [\\n, [\\n                        11 hours ago\\n...  \n1  [\\n, [\\n                        11 hours ago\\n...  \n2  [\\n, [\\n                        23 hours ago\\n...  \n3  [\\n, [\\n                        23 hours ago\\n...  \n4  [\\n, [\\n                        23 hours ago\\n...  \n5  [\\n, [\\n                        23 hours ago\\n...  ",
      "text/html": "<div>\n<style scoped>\n    .dataframe tbody tr th:only-of-type {\n        vertical-align: middle;\n    }\n\n    .dataframe tbody tr th {\n        vertical-align: top;\n    }\n\n    .dataframe thead th {\n        text-align: right;\n    }\n</style>\n<table border=\"1\" class=\"dataframe\">\n  <thead>\n    <tr style=\"text-align: right;\">\n      <th></th>\n      <th>1</th>\n      <th>3</th>\n      <th>4</th>\n      <th>7</th>\n    </tr>\n  </thead>\n  <tbody>\n    <tr>\n      <th>0</th>\n      <td>[\\n, [\\n, [], \\n], \\n]</td>\n      <td>[\\n, [Instant Destiny], \\n]</td>\n      <td>[\\n, [Tame Impala], \\n]</td>\n      <td>[\\n, [\\n                        11 hours ago\\n...</td>\n    </tr>\n    <tr>\n      <th>1</th>\n      <td>[\\n, [\\n, [], \\n], \\n]</td>\n      <td>[\\n, [One More Year], \\n]</td>\n      <td>[\\n, [Tame Impala], \\n]</td>\n      <td>[\\n, [\\n                        11 hours ago\\n...</td>\n    </tr>\n    <tr>\n      <th>2</th>\n      <td>[\\n, [\\n, [], \\n], \\n]</td>\n      <td>[\\n, [Warm December], \\n]</td>\n      <td>[\\n, [Sabrina Claudio], \\n]</td>\n      <td>[\\n, [\\n                        23 hours ago\\n...</td>\n    </tr>\n    <tr>\n      <th>3</th>\n      <td>[\\n, [\\n, [], \\n], \\n]</td>\n      <td>[\\n, [Short Red Silk Lingerie], \\n]</td>\n      <td>[\\n, [Sabrina Claudio], \\n]</td>\n      <td>[\\n, [\\n                        23 hours ago\\n...</td>\n    </tr>\n    <tr>\n      <th>4</th>\n      <td>[\\n, [\\n, [], \\n], \\n]</td>\n      <td>[\\n, [Have Yourself A Merry Little Christmas],...</td>\n      <td>[\\n, [Sabrina Claudio], \\n]</td>\n      <td>[\\n, [\\n                        23 hours ago\\n...</td>\n    </tr>\n    <tr>\n      <th>5</th>\n      <td>[\\n, [\\n, [], \\n], \\n]</td>\n      <td>[\\n, [Winter Time], \\n]</td>\n      <td>[\\n, [Sabrina Claudio, Alicia Keys], \\n]</td>\n      <td>[\\n, [\\n                        23 hours ago\\n...</td>\n    </tr>\n  </tbody>\n</table>\n</div>"
     },
     "execution_count": 28,
     "metadata": {},
     "output_type": "execute_result"
    }
   ],
   "source": [
    "df.head(6)"
   ],
   "metadata": {
    "collapsed": false,
    "pycharm": {
     "name": "#%%\n"
    }
   }
  },
  {
   "cell_type": "code",
   "execution_count": 32,
   "outputs": [
    {
     "data": {
      "text/plain": "'The Slow Rush'"
     },
     "execution_count": 32,
     "metadata": {},
     "output_type": "execute_result"
    }
   ],
   "source": [
    "df[1].iloc[0].img['alt']"
   ],
   "metadata": {
    "collapsed": false,
    "pycharm": {
     "name": "#%%\n"
    }
   }
  },
  {
   "cell_type": "code",
   "execution_count": 33,
   "outputs": [],
   "source": [
    "df['Album'] = df[1].apply(lambda x: x.img['alt'])"
   ],
   "metadata": {
    "collapsed": false,
    "pycharm": {
     "name": "#%%\n"
    }
   }
  },
  {
   "cell_type": "code",
   "execution_count": 34,
   "outputs": [
    {
     "data": {
      "text/plain": "                        1                                                  3  \\\n0  [\\n, [\\n, [], \\n], \\n]                        [\\n, [Instant Destiny], \\n]   \n1  [\\n, [\\n, [], \\n], \\n]                          [\\n, [One More Year], \\n]   \n2  [\\n, [\\n, [], \\n], \\n]                          [\\n, [Warm December], \\n]   \n3  [\\n, [\\n, [], \\n], \\n]                [\\n, [Short Red Silk Lingerie], \\n]   \n4  [\\n, [\\n, [], \\n], \\n]  [\\n, [Have Yourself A Merry Little Christmas],...   \n5  [\\n, [\\n, [], \\n], \\n]                            [\\n, [Winter Time], \\n]   \n\n                                          4  \\\n0                   [\\n, [Tame Impala], \\n]   \n1                   [\\n, [Tame Impala], \\n]   \n2               [\\n, [Sabrina Claudio], \\n]   \n3               [\\n, [Sabrina Claudio], \\n]   \n4               [\\n, [Sabrina Claudio], \\n]   \n5  [\\n, [Sabrina Claudio, Alicia Keys], \\n]   \n\n                                                   7            Album  \n0  [\\n, [\\n                        11 hours ago\\n...    The Slow Rush  \n1  [\\n, [\\n                        11 hours ago\\n...    The Slow Rush  \n2  [\\n, [\\n                        23 hours ago\\n...  Christmas Blues  \n3  [\\n, [\\n                        23 hours ago\\n...  Christmas Blues  \n4  [\\n, [\\n                        23 hours ago\\n...  Christmas Blues  \n5  [\\n, [\\n                        23 hours ago\\n...  Christmas Blues  ",
      "text/html": "<div>\n<style scoped>\n    .dataframe tbody tr th:only-of-type {\n        vertical-align: middle;\n    }\n\n    .dataframe tbody tr th {\n        vertical-align: top;\n    }\n\n    .dataframe thead th {\n        text-align: right;\n    }\n</style>\n<table border=\"1\" class=\"dataframe\">\n  <thead>\n    <tr style=\"text-align: right;\">\n      <th></th>\n      <th>1</th>\n      <th>3</th>\n      <th>4</th>\n      <th>7</th>\n      <th>Album</th>\n    </tr>\n  </thead>\n  <tbody>\n    <tr>\n      <th>0</th>\n      <td>[\\n, [\\n, [], \\n], \\n]</td>\n      <td>[\\n, [Instant Destiny], \\n]</td>\n      <td>[\\n, [Tame Impala], \\n]</td>\n      <td>[\\n, [\\n                        11 hours ago\\n...</td>\n      <td>The Slow Rush</td>\n    </tr>\n    <tr>\n      <th>1</th>\n      <td>[\\n, [\\n, [], \\n], \\n]</td>\n      <td>[\\n, [One More Year], \\n]</td>\n      <td>[\\n, [Tame Impala], \\n]</td>\n      <td>[\\n, [\\n                        11 hours ago\\n...</td>\n      <td>The Slow Rush</td>\n    </tr>\n    <tr>\n      <th>2</th>\n      <td>[\\n, [\\n, [], \\n], \\n]</td>\n      <td>[\\n, [Warm December], \\n]</td>\n      <td>[\\n, [Sabrina Claudio], \\n]</td>\n      <td>[\\n, [\\n                        23 hours ago\\n...</td>\n      <td>Christmas Blues</td>\n    </tr>\n    <tr>\n      <th>3</th>\n      <td>[\\n, [\\n, [], \\n], \\n]</td>\n      <td>[\\n, [Short Red Silk Lingerie], \\n]</td>\n      <td>[\\n, [Sabrina Claudio], \\n]</td>\n      <td>[\\n, [\\n                        23 hours ago\\n...</td>\n      <td>Christmas Blues</td>\n    </tr>\n    <tr>\n      <th>4</th>\n      <td>[\\n, [\\n, [], \\n], \\n]</td>\n      <td>[\\n, [Have Yourself A Merry Little Christmas],...</td>\n      <td>[\\n, [Sabrina Claudio], \\n]</td>\n      <td>[\\n, [\\n                        23 hours ago\\n...</td>\n      <td>Christmas Blues</td>\n    </tr>\n    <tr>\n      <th>5</th>\n      <td>[\\n, [\\n, [], \\n], \\n]</td>\n      <td>[\\n, [Winter Time], \\n]</td>\n      <td>[\\n, [Sabrina Claudio, Alicia Keys], \\n]</td>\n      <td>[\\n, [\\n                        23 hours ago\\n...</td>\n      <td>Christmas Blues</td>\n    </tr>\n  </tbody>\n</table>\n</div>"
     },
     "execution_count": 34,
     "metadata": {},
     "output_type": "execute_result"
    }
   ],
   "source": [
    "df.head(6)"
   ],
   "metadata": {
    "collapsed": false,
    "pycharm": {
     "name": "#%%\n"
    }
   }
  },
  {
   "cell_type": "code",
   "execution_count": 36,
   "outputs": [
    {
     "data": {
      "text/plain": "                        1                                                  3  \\\n0  [\\n, [\\n, [], \\n], \\n]                        [\\n, [Instant Destiny], \\n]   \n1  [\\n, [\\n, [], \\n], \\n]                          [\\n, [One More Year], \\n]   \n2  [\\n, [\\n, [], \\n], \\n]                          [\\n, [Warm December], \\n]   \n3  [\\n, [\\n, [], \\n], \\n]                [\\n, [Short Red Silk Lingerie], \\n]   \n4  [\\n, [\\n, [], \\n], \\n]  [\\n, [Have Yourself A Merry Little Christmas],...   \n5  [\\n, [\\n, [], \\n], \\n]                            [\\n, [Winter Time], \\n]   \n\n                                          4  \\\n0                   [\\n, [Tame Impala], \\n]   \n1                   [\\n, [Tame Impala], \\n]   \n2               [\\n, [Sabrina Claudio], \\n]   \n3               [\\n, [Sabrina Claudio], \\n]   \n4               [\\n, [Sabrina Claudio], \\n]   \n5  [\\n, [Sabrina Claudio, Alicia Keys], \\n]   \n\n                                                   7            Album  \\\n0  [\\n, [\\n                        11 hours ago\\n...    The Slow Rush   \n1  [\\n, [\\n                        11 hours ago\\n...    The Slow Rush   \n2  [\\n, [\\n                        23 hours ago\\n...  Christmas Blues   \n3  [\\n, [\\n                        23 hours ago\\n...  Christmas Blues   \n4  [\\n, [\\n                        23 hours ago\\n...  Christmas Blues   \n5  [\\n, [\\n                        23 hours ago\\n...  Christmas Blues   \n\n                          Time  \n0    Sunday 6 Dec 2020, 8:49am  \n1    Sunday 6 Dec 2020, 8:46am  \n2  Saturday 5 Dec 2020, 9:12pm  \n3  Saturday 5 Dec 2020, 9:09pm  \n4  Saturday 5 Dec 2020, 9:05pm  \n5  Saturday 5 Dec 2020, 9:01pm  ",
      "text/html": "<div>\n<style scoped>\n    .dataframe tbody tr th:only-of-type {\n        vertical-align: middle;\n    }\n\n    .dataframe tbody tr th {\n        vertical-align: top;\n    }\n\n    .dataframe thead th {\n        text-align: right;\n    }\n</style>\n<table border=\"1\" class=\"dataframe\">\n  <thead>\n    <tr style=\"text-align: right;\">\n      <th></th>\n      <th>1</th>\n      <th>3</th>\n      <th>4</th>\n      <th>7</th>\n      <th>Album</th>\n      <th>Time</th>\n    </tr>\n  </thead>\n  <tbody>\n    <tr>\n      <th>0</th>\n      <td>[\\n, [\\n, [], \\n], \\n]</td>\n      <td>[\\n, [Instant Destiny], \\n]</td>\n      <td>[\\n, [Tame Impala], \\n]</td>\n      <td>[\\n, [\\n                        11 hours ago\\n...</td>\n      <td>The Slow Rush</td>\n      <td>Sunday 6 Dec 2020, 8:49am</td>\n    </tr>\n    <tr>\n      <th>1</th>\n      <td>[\\n, [\\n, [], \\n], \\n]</td>\n      <td>[\\n, [One More Year], \\n]</td>\n      <td>[\\n, [Tame Impala], \\n]</td>\n      <td>[\\n, [\\n                        11 hours ago\\n...</td>\n      <td>The Slow Rush</td>\n      <td>Sunday 6 Dec 2020, 8:46am</td>\n    </tr>\n    <tr>\n      <th>2</th>\n      <td>[\\n, [\\n, [], \\n], \\n]</td>\n      <td>[\\n, [Warm December], \\n]</td>\n      <td>[\\n, [Sabrina Claudio], \\n]</td>\n      <td>[\\n, [\\n                        23 hours ago\\n...</td>\n      <td>Christmas Blues</td>\n      <td>Saturday 5 Dec 2020, 9:12pm</td>\n    </tr>\n    <tr>\n      <th>3</th>\n      <td>[\\n, [\\n, [], \\n], \\n]</td>\n      <td>[\\n, [Short Red Silk Lingerie], \\n]</td>\n      <td>[\\n, [Sabrina Claudio], \\n]</td>\n      <td>[\\n, [\\n                        23 hours ago\\n...</td>\n      <td>Christmas Blues</td>\n      <td>Saturday 5 Dec 2020, 9:09pm</td>\n    </tr>\n    <tr>\n      <th>4</th>\n      <td>[\\n, [\\n, [], \\n], \\n]</td>\n      <td>[\\n, [Have Yourself A Merry Little Christmas],...</td>\n      <td>[\\n, [Sabrina Claudio], \\n]</td>\n      <td>[\\n, [\\n                        23 hours ago\\n...</td>\n      <td>Christmas Blues</td>\n      <td>Saturday 5 Dec 2020, 9:05pm</td>\n    </tr>\n    <tr>\n      <th>5</th>\n      <td>[\\n, [\\n, [], \\n], \\n]</td>\n      <td>[\\n, [Winter Time], \\n]</td>\n      <td>[\\n, [Sabrina Claudio, Alicia Keys], \\n]</td>\n      <td>[\\n, [\\n                        23 hours ago\\n...</td>\n      <td>Christmas Blues</td>\n      <td>Saturday 5 Dec 2020, 9:01pm</td>\n    </tr>\n  </tbody>\n</table>\n</div>"
     },
     "execution_count": 36,
     "metadata": {},
     "output_type": "execute_result"
    }
   ],
   "source": [
    "df['Time'] = df[7].apply(lambda x: x.span['title'])\n",
    "df.head(6)"
   ],
   "metadata": {
    "collapsed": false,
    "pycharm": {
     "name": "#%%\n"
    }
   }
  },
  {
   "cell_type": "code",
   "execution_count": 37,
   "outputs": [],
   "source": [
    "df['Track'] = df[3].apply(lambda x: x.a.getText())"
   ],
   "metadata": {
    "collapsed": false,
    "pycharm": {
     "name": "#%%\n"
    }
   }
  },
  {
   "cell_type": "code",
   "execution_count": 38,
   "outputs": [
    {
     "data": {
      "text/plain": "                        1                                                  3  \\\n0  [\\n, [\\n, [], \\n], \\n]                        [\\n, [Instant Destiny], \\n]   \n1  [\\n, [\\n, [], \\n], \\n]                          [\\n, [One More Year], \\n]   \n2  [\\n, [\\n, [], \\n], \\n]                          [\\n, [Warm December], \\n]   \n3  [\\n, [\\n, [], \\n], \\n]                [\\n, [Short Red Silk Lingerie], \\n]   \n4  [\\n, [\\n, [], \\n], \\n]  [\\n, [Have Yourself A Merry Little Christmas],...   \n5  [\\n, [\\n, [], \\n], \\n]                            [\\n, [Winter Time], \\n]   \n\n                                          4  \\\n0                   [\\n, [Tame Impala], \\n]   \n1                   [\\n, [Tame Impala], \\n]   \n2               [\\n, [Sabrina Claudio], \\n]   \n3               [\\n, [Sabrina Claudio], \\n]   \n4               [\\n, [Sabrina Claudio], \\n]   \n5  [\\n, [Sabrina Claudio, Alicia Keys], \\n]   \n\n                                                   7            Album  \\\n0  [\\n, [\\n                        11 hours ago\\n...    The Slow Rush   \n1  [\\n, [\\n                        11 hours ago\\n...    The Slow Rush   \n2  [\\n, [\\n                        23 hours ago\\n...  Christmas Blues   \n3  [\\n, [\\n                        23 hours ago\\n...  Christmas Blues   \n4  [\\n, [\\n                        23 hours ago\\n...  Christmas Blues   \n5  [\\n, [\\n                        23 hours ago\\n...  Christmas Blues   \n\n                          Time                                   Track  \n0    Sunday 6 Dec 2020, 8:49am                         Instant Destiny  \n1    Sunday 6 Dec 2020, 8:46am                           One More Year  \n2  Saturday 5 Dec 2020, 9:12pm                           Warm December  \n3  Saturday 5 Dec 2020, 9:09pm                 Short Red Silk Lingerie  \n4  Saturday 5 Dec 2020, 9:05pm  Have Yourself A Merry Little Christmas  \n5  Saturday 5 Dec 2020, 9:01pm                             Winter Time  ",
      "text/html": "<div>\n<style scoped>\n    .dataframe tbody tr th:only-of-type {\n        vertical-align: middle;\n    }\n\n    .dataframe tbody tr th {\n        vertical-align: top;\n    }\n\n    .dataframe thead th {\n        text-align: right;\n    }\n</style>\n<table border=\"1\" class=\"dataframe\">\n  <thead>\n    <tr style=\"text-align: right;\">\n      <th></th>\n      <th>1</th>\n      <th>3</th>\n      <th>4</th>\n      <th>7</th>\n      <th>Album</th>\n      <th>Time</th>\n      <th>Track</th>\n    </tr>\n  </thead>\n  <tbody>\n    <tr>\n      <th>0</th>\n      <td>[\\n, [\\n, [], \\n], \\n]</td>\n      <td>[\\n, [Instant Destiny], \\n]</td>\n      <td>[\\n, [Tame Impala], \\n]</td>\n      <td>[\\n, [\\n                        11 hours ago\\n...</td>\n      <td>The Slow Rush</td>\n      <td>Sunday 6 Dec 2020, 8:49am</td>\n      <td>Instant Destiny</td>\n    </tr>\n    <tr>\n      <th>1</th>\n      <td>[\\n, [\\n, [], \\n], \\n]</td>\n      <td>[\\n, [One More Year], \\n]</td>\n      <td>[\\n, [Tame Impala], \\n]</td>\n      <td>[\\n, [\\n                        11 hours ago\\n...</td>\n      <td>The Slow Rush</td>\n      <td>Sunday 6 Dec 2020, 8:46am</td>\n      <td>One More Year</td>\n    </tr>\n    <tr>\n      <th>2</th>\n      <td>[\\n, [\\n, [], \\n], \\n]</td>\n      <td>[\\n, [Warm December], \\n]</td>\n      <td>[\\n, [Sabrina Claudio], \\n]</td>\n      <td>[\\n, [\\n                        23 hours ago\\n...</td>\n      <td>Christmas Blues</td>\n      <td>Saturday 5 Dec 2020, 9:12pm</td>\n      <td>Warm December</td>\n    </tr>\n    <tr>\n      <th>3</th>\n      <td>[\\n, [\\n, [], \\n], \\n]</td>\n      <td>[\\n, [Short Red Silk Lingerie], \\n]</td>\n      <td>[\\n, [Sabrina Claudio], \\n]</td>\n      <td>[\\n, [\\n                        23 hours ago\\n...</td>\n      <td>Christmas Blues</td>\n      <td>Saturday 5 Dec 2020, 9:09pm</td>\n      <td>Short Red Silk Lingerie</td>\n    </tr>\n    <tr>\n      <th>4</th>\n      <td>[\\n, [\\n, [], \\n], \\n]</td>\n      <td>[\\n, [Have Yourself A Merry Little Christmas],...</td>\n      <td>[\\n, [Sabrina Claudio], \\n]</td>\n      <td>[\\n, [\\n                        23 hours ago\\n...</td>\n      <td>Christmas Blues</td>\n      <td>Saturday 5 Dec 2020, 9:05pm</td>\n      <td>Have Yourself A Merry Little Christmas</td>\n    </tr>\n    <tr>\n      <th>5</th>\n      <td>[\\n, [\\n, [], \\n], \\n]</td>\n      <td>[\\n, [Winter Time], \\n]</td>\n      <td>[\\n, [Sabrina Claudio, Alicia Keys], \\n]</td>\n      <td>[\\n, [\\n                        23 hours ago\\n...</td>\n      <td>Christmas Blues</td>\n      <td>Saturday 5 Dec 2020, 9:01pm</td>\n      <td>Winter Time</td>\n    </tr>\n  </tbody>\n</table>\n</div>"
     },
     "execution_count": 38,
     "metadata": {},
     "output_type": "execute_result"
    }
   ],
   "source": [
    "df.head(6)"
   ],
   "metadata": {
    "collapsed": false,
    "pycharm": {
     "name": "#%%\n"
    }
   }
  },
  {
   "cell_type": "code",
   "execution_count": 40,
   "outputs": [
    {
     "data": {
      "text/plain": "             Album                         Time  \\\n0    The Slow Rush    Sunday 6 Dec 2020, 8:49am   \n1    The Slow Rush    Sunday 6 Dec 2020, 8:46am   \n2  Christmas Blues  Saturday 5 Dec 2020, 9:12pm   \n3  Christmas Blues  Saturday 5 Dec 2020, 9:09pm   \n4  Christmas Blues  Saturday 5 Dec 2020, 9:05pm   \n5  Christmas Blues  Saturday 5 Dec 2020, 9:01pm   \n\n                                    Track                        Artist  \n0                         Instant Destiny                   Tame Impala  \n1                           One More Year                   Tame Impala  \n2                           Warm December               Sabrina Claudio  \n3                 Short Red Silk Lingerie               Sabrina Claudio  \n4  Have Yourself A Merry Little Christmas               Sabrina Claudio  \n5                             Winter Time  Sabrina Claudio, Alicia Keys  ",
      "text/html": "<div>\n<style scoped>\n    .dataframe tbody tr th:only-of-type {\n        vertical-align: middle;\n    }\n\n    .dataframe tbody tr th {\n        vertical-align: top;\n    }\n\n    .dataframe thead th {\n        text-align: right;\n    }\n</style>\n<table border=\"1\" class=\"dataframe\">\n  <thead>\n    <tr style=\"text-align: right;\">\n      <th></th>\n      <th>Album</th>\n      <th>Time</th>\n      <th>Track</th>\n      <th>Artist</th>\n    </tr>\n  </thead>\n  <tbody>\n    <tr>\n      <th>0</th>\n      <td>The Slow Rush</td>\n      <td>Sunday 6 Dec 2020, 8:49am</td>\n      <td>Instant Destiny</td>\n      <td>Tame Impala</td>\n    </tr>\n    <tr>\n      <th>1</th>\n      <td>The Slow Rush</td>\n      <td>Sunday 6 Dec 2020, 8:46am</td>\n      <td>One More Year</td>\n      <td>Tame Impala</td>\n    </tr>\n    <tr>\n      <th>2</th>\n      <td>Christmas Blues</td>\n      <td>Saturday 5 Dec 2020, 9:12pm</td>\n      <td>Warm December</td>\n      <td>Sabrina Claudio</td>\n    </tr>\n    <tr>\n      <th>3</th>\n      <td>Christmas Blues</td>\n      <td>Saturday 5 Dec 2020, 9:09pm</td>\n      <td>Short Red Silk Lingerie</td>\n      <td>Sabrina Claudio</td>\n    </tr>\n    <tr>\n      <th>4</th>\n      <td>Christmas Blues</td>\n      <td>Saturday 5 Dec 2020, 9:05pm</td>\n      <td>Have Yourself A Merry Little Christmas</td>\n      <td>Sabrina Claudio</td>\n    </tr>\n    <tr>\n      <th>5</th>\n      <td>Christmas Blues</td>\n      <td>Saturday 5 Dec 2020, 9:01pm</td>\n      <td>Winter Time</td>\n      <td>Sabrina Claudio, Alicia Keys</td>\n    </tr>\n  </tbody>\n</table>\n</div>"
     },
     "execution_count": 40,
     "metadata": {},
     "output_type": "execute_result"
    }
   ],
   "source": [
    "df['Artist'] = df[4].apply(lambda x: x.a.getText())\n",
    "df = df.drop([1,3,4,7], axis=1)\n",
    "df.head(6)"
   ],
   "metadata": {
    "collapsed": false,
    "pycharm": {
     "name": "#%%\n"
    }
   }
  },
  {
   "cell_type": "code",
   "execution_count": 4,
   "outputs": [
    {
     "data": {
      "text/plain": "        Artist Album            Track                        Time\n0  Tove Styrke  Sway       On a Level  Sunday 6 Dec 2020, 11:38am\n1  Tove Styrke  Sway           I Lied  Sunday 6 Dec 2020, 11:34am\n2  Tove Styrke  Sway  Changed My Mind  Sunday 6 Dec 2020, 11:31am\n3  Tove Styrke  Sway         Mistakes  Sunday 6 Dec 2020, 11:28am\n4  Tove Styrke  Sway       On The Low  Sunday 6 Dec 2020, 11:25am\n5  Tove Styrke  Sway      Say My Name  Sunday 6 Dec 2020, 11:21am",
      "text/html": "<div>\n<style scoped>\n    .dataframe tbody tr th:only-of-type {\n        vertical-align: middle;\n    }\n\n    .dataframe tbody tr th {\n        vertical-align: top;\n    }\n\n    .dataframe thead th {\n        text-align: right;\n    }\n</style>\n<table border=\"1\" class=\"dataframe\">\n  <thead>\n    <tr style=\"text-align: right;\">\n      <th></th>\n      <th>Artist</th>\n      <th>Album</th>\n      <th>Track</th>\n      <th>Time</th>\n    </tr>\n  </thead>\n  <tbody>\n    <tr>\n      <th>0</th>\n      <td>Tove Styrke</td>\n      <td>Sway</td>\n      <td>On a Level</td>\n      <td>Sunday 6 Dec 2020, 11:38am</td>\n    </tr>\n    <tr>\n      <th>1</th>\n      <td>Tove Styrke</td>\n      <td>Sway</td>\n      <td>I Lied</td>\n      <td>Sunday 6 Dec 2020, 11:34am</td>\n    </tr>\n    <tr>\n      <th>2</th>\n      <td>Tove Styrke</td>\n      <td>Sway</td>\n      <td>Changed My Mind</td>\n      <td>Sunday 6 Dec 2020, 11:31am</td>\n    </tr>\n    <tr>\n      <th>3</th>\n      <td>Tove Styrke</td>\n      <td>Sway</td>\n      <td>Mistakes</td>\n      <td>Sunday 6 Dec 2020, 11:28am</td>\n    </tr>\n    <tr>\n      <th>4</th>\n      <td>Tove Styrke</td>\n      <td>Sway</td>\n      <td>On The Low</td>\n      <td>Sunday 6 Dec 2020, 11:25am</td>\n    </tr>\n    <tr>\n      <th>5</th>\n      <td>Tove Styrke</td>\n      <td>Sway</td>\n      <td>Say My Name</td>\n      <td>Sunday 6 Dec 2020, 11:21am</td>\n    </tr>\n  </tbody>\n</table>\n</div>"
     },
     "execution_count": 4,
     "metadata": {},
     "output_type": "execute_result"
    }
   ],
   "source": [
    "df = ashen077.extract_data(charts)\n",
    "df.head(6)"
   ],
   "metadata": {
    "collapsed": false,
    "pycharm": {
     "name": "#%%\n"
    }
   }
  },
  {
   "cell_type": "code",
   "execution_count": 5,
   "outputs": [],
   "source": [
    "df_s1 = df.head(6)\n",
    "df_s2 = df.tail(6)"
   ],
   "metadata": {
    "collapsed": false,
    "pycharm": {
     "name": "#%%\n"
    }
   }
  },
  {
   "cell_type": "code",
   "execution_count": 7,
   "outputs": [
    {
     "data": {
      "text/plain": "    index           Artist                Album               Track  \\\n0       0      Tove Styrke                 Sway          On a Level   \n1       1      Tove Styrke                 Sway              I Lied   \n2       2      Tove Styrke                 Sway     Changed My Mind   \n3       3      Tove Styrke                 Sway            Mistakes   \n4       4      Tove Styrke                 Sway          On The Low   \n5       5      Tove Styrke                 Sway         Say My Name   \n6      44  Sabrina Claudio  No Rain, No Flowers            Creation   \n7      45  Sabrina Claudio  No Rain, No Flowers               Cycle   \n8      46  Sabrina Claudio  No Rain, No Flowers               Naked   \n9      47  Sabrina Claudio  No Rain, No Flowers           Come Here   \n10     48  Sabrina Claudio     Confidently Lost  Tell Me (Acoustic)   \n11     49  Sabrina Claudio     Confidently Lost             I Don't   \n\n                           Time  \n0    Sunday 6 Dec 2020, 11:38am  \n1    Sunday 6 Dec 2020, 11:34am  \n2    Sunday 6 Dec 2020, 11:31am  \n3    Sunday 6 Dec 2020, 11:28am  \n4    Sunday 6 Dec 2020, 11:25am  \n5    Sunday 6 Dec 2020, 11:21am  \n6   Saturday 5 Dec 2020, 7:50pm  \n7   Saturday 5 Dec 2020, 7:47pm  \n8   Saturday 5 Dec 2020, 7:43pm  \n9   Saturday 5 Dec 2020, 7:40pm  \n10  Saturday 5 Dec 2020, 7:36pm  \n11  Saturday 5 Dec 2020, 7:32pm  ",
      "text/html": "<div>\n<style scoped>\n    .dataframe tbody tr th:only-of-type {\n        vertical-align: middle;\n    }\n\n    .dataframe tbody tr th {\n        vertical-align: top;\n    }\n\n    .dataframe thead th {\n        text-align: right;\n    }\n</style>\n<table border=\"1\" class=\"dataframe\">\n  <thead>\n    <tr style=\"text-align: right;\">\n      <th></th>\n      <th>index</th>\n      <th>Artist</th>\n      <th>Album</th>\n      <th>Track</th>\n      <th>Time</th>\n    </tr>\n  </thead>\n  <tbody>\n    <tr>\n      <th>0</th>\n      <td>0</td>\n      <td>Tove Styrke</td>\n      <td>Sway</td>\n      <td>On a Level</td>\n      <td>Sunday 6 Dec 2020, 11:38am</td>\n    </tr>\n    <tr>\n      <th>1</th>\n      <td>1</td>\n      <td>Tove Styrke</td>\n      <td>Sway</td>\n      <td>I Lied</td>\n      <td>Sunday 6 Dec 2020, 11:34am</td>\n    </tr>\n    <tr>\n      <th>2</th>\n      <td>2</td>\n      <td>Tove Styrke</td>\n      <td>Sway</td>\n      <td>Changed My Mind</td>\n      <td>Sunday 6 Dec 2020, 11:31am</td>\n    </tr>\n    <tr>\n      <th>3</th>\n      <td>3</td>\n      <td>Tove Styrke</td>\n      <td>Sway</td>\n      <td>Mistakes</td>\n      <td>Sunday 6 Dec 2020, 11:28am</td>\n    </tr>\n    <tr>\n      <th>4</th>\n      <td>4</td>\n      <td>Tove Styrke</td>\n      <td>Sway</td>\n      <td>On The Low</td>\n      <td>Sunday 6 Dec 2020, 11:25am</td>\n    </tr>\n    <tr>\n      <th>5</th>\n      <td>5</td>\n      <td>Tove Styrke</td>\n      <td>Sway</td>\n      <td>Say My Name</td>\n      <td>Sunday 6 Dec 2020, 11:21am</td>\n    </tr>\n    <tr>\n      <th>6</th>\n      <td>44</td>\n      <td>Sabrina Claudio</td>\n      <td>No Rain, No Flowers</td>\n      <td>Creation</td>\n      <td>Saturday 5 Dec 2020, 7:50pm</td>\n    </tr>\n    <tr>\n      <th>7</th>\n      <td>45</td>\n      <td>Sabrina Claudio</td>\n      <td>No Rain, No Flowers</td>\n      <td>Cycle</td>\n      <td>Saturday 5 Dec 2020, 7:47pm</td>\n    </tr>\n    <tr>\n      <th>8</th>\n      <td>46</td>\n      <td>Sabrina Claudio</td>\n      <td>No Rain, No Flowers</td>\n      <td>Naked</td>\n      <td>Saturday 5 Dec 2020, 7:43pm</td>\n    </tr>\n    <tr>\n      <th>9</th>\n      <td>47</td>\n      <td>Sabrina Claudio</td>\n      <td>No Rain, No Flowers</td>\n      <td>Come Here</td>\n      <td>Saturday 5 Dec 2020, 7:40pm</td>\n    </tr>\n    <tr>\n      <th>10</th>\n      <td>48</td>\n      <td>Sabrina Claudio</td>\n      <td>Confidently Lost</td>\n      <td>Tell Me (Acoustic)</td>\n      <td>Saturday 5 Dec 2020, 7:36pm</td>\n    </tr>\n    <tr>\n      <th>11</th>\n      <td>49</td>\n      <td>Sabrina Claudio</td>\n      <td>Confidently Lost</td>\n      <td>I Don't</td>\n      <td>Saturday 5 Dec 2020, 7:32pm</td>\n    </tr>\n  </tbody>\n</table>\n</div>"
     },
     "execution_count": 7,
     "metadata": {},
     "output_type": "execute_result"
    }
   ],
   "source": [
    "df_s1.append(df_s2).reset_index()"
   ],
   "metadata": {
    "collapsed": false,
    "pycharm": {
     "name": "#%%\n"
    }
   }
  }
 ],
 "metadata": {
  "kernelspec": {
   "display_name": "Python 3",
   "language": "python",
   "name": "python3"
  },
  "language_info": {
   "codemirror_mode": {
    "name": "ipython",
    "version": 2
   },
   "file_extension": ".py",
   "mimetype": "text/x-python",
   "name": "python",
   "nbconvert_exporter": "python",
   "pygments_lexer": "ipython2",
   "version": "2.7.6"
  }
 },
 "nbformat": 4,
 "nbformat_minor": 0
}